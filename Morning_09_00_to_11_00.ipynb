{
  "nbformat": 4,
  "nbformat_minor": 0,
  "metadata": {
    "colab": {
      "provenance": []
    },
    "kernelspec": {
      "name": "python3",
      "display_name": "Python 3"
    },
    "language_info": {
      "name": "python"
    }
  },
  "cells": [
    {
      "cell_type": "markdown",
      "source": [
        "Revision Session"
      ],
      "metadata": {
        "id": "ssVB0Uf8ff2H"
      }
    },
    {
      "cell_type": "code",
      "source": [
        "# Language \n",
        "\n",
        "# communication\n",
        "x=[]\n",
        "#if x<10:\n",
        "#  print(x)\n",
        "\n",
        "while x:\n",
        "  print(\"hello\")"
      ],
      "metadata": {
        "id": "U91JUULSfUcl"
      },
      "execution_count": null,
      "outputs": []
    },
    {
      "cell_type": "code",
      "source": [
        "x=1\n",
        "y=1\n",
        "\n",
        "if x>10 or y>10:\n",
        "  print('hello')"
      ],
      "metadata": {
        "id": "BDGhuK7yfVCQ"
      },
      "execution_count": null,
      "outputs": []
    },
    {
      "cell_type": "code",
      "source": [
        "# conditional statements\n",
        "# if\n",
        "  # nested\n",
        "  # ladder\n",
        "# if else\n",
        "# elif\n"
      ],
      "metadata": {
        "id": "o7I8bub3fVlm"
      },
      "execution_count": null,
      "outputs": []
    },
    {
      "cell_type": "code",
      "source": [
        "if conditional:\n",
        "  pass\n",
        "  if condition\n",
        "\n",
        "\n",
        "if conditional:\n",
        "  pass\n",
        "if conditional:\n",
        "  pass\n",
        "if conditional:\n",
        "  pass\n",
        "  \n"
      ],
      "metadata": {
        "id": "BrsDTOWYfVjQ"
      },
      "execution_count": null,
      "outputs": []
    },
    {
      "cell_type": "code",
      "source": [
        "if cond:\n",
        "  pass\n",
        "else:\n",
        "  pass\n",
        "\n",
        "\n",
        "\n",
        "if cond:\n",
        "  if condi:\n",
        "    pass\n",
        "  if cond:\n",
        "    pass\n",
        "  if cond:\n",
        "    pass\n",
        "else:\n",
        "  pass"
      ],
      "metadata": {
        "id": "cEF9itxmfVgz"
      },
      "execution_count": null,
      "outputs": []
    },
    {
      "cell_type": "code",
      "source": [
        "if condi:\n",
        "  pass\n",
        "elif condi:\n",
        "  pass\n",
        "elif condi:\n",
        "  pass\n",
        "    |\n",
        "    |\n",
        "else:\n",
        "  pass"
      ],
      "metadata": {
        "id": "6b_aiuYwfVeD"
      },
      "execution_count": null,
      "outputs": []
    },
    {
      "cell_type": "code",
      "source": [
        "# Loops\n",
        "  #  for loop -> fixed length loop\n",
        "  #  While    -> \n",
        "\n",
        "lst=[3,4,6,7,9,0,6,5,4]\n",
        "for i in lst:\n",
        "  print(i)\n"
      ],
      "metadata": {
        "id": "LJsxlgYZfU_Z",
        "colab": {
          "base_uri": "https://localhost:8080/"
        },
        "outputId": "afc4668f-c244-4e3e-cc00-d6c9828d0ec2"
      },
      "execution_count": null,
      "outputs": [
        {
          "output_type": "stream",
          "name": "stdout",
          "text": [
            "3\n",
            "4\n",
            "6\n",
            "7\n",
            "9\n",
            "0\n",
            "6\n",
            "5\n",
            "4\n"
          ]
        }
      ]
    },
    {
      "cell_type": "code",
      "source": [
        "# while loop\n",
        "\n",
        "i=0\n",
        "while i<10:\n",
        "  print(i)\n",
        "  i+=1 #i=i+1 -> i=0+1 -> i=1"
      ],
      "metadata": {
        "colab": {
          "base_uri": "https://localhost:8080/"
        },
        "id": "A3WlGpAFpj8x",
        "outputId": "a97dde7e-4f3c-46f1-d46d-4ff3af751539"
      },
      "execution_count": null,
      "outputs": [
        {
          "output_type": "stream",
          "name": "stdout",
          "text": [
            "0\n",
            "1\n",
            "2\n",
            "3\n",
            "4\n",
            "5\n",
            "6\n",
            "7\n",
            "8\n",
            "9\n"
          ]
        }
      ]
    },
    {
      "cell_type": "code",
      "source": [
        "ch=0\n",
        "while ch!=5:\n",
        "  print(\"Value is not equals to 5\")\n",
        "  ch=int(input(\"Enter new value : \"))"
      ],
      "metadata": {
        "colab": {
          "base_uri": "https://localhost:8080/"
        },
        "id": "lP7N4bWQqlms",
        "outputId": "3e703fbf-1e20-4d4b-c574-48682c02ae15"
      },
      "execution_count": null,
      "outputs": [
        {
          "name": "stdout",
          "output_type": "stream",
          "text": [
            "Value is not equals to 5\n",
            "Enter new value : 6\n",
            "Value is not equals to 5\n",
            "Enter new value : 4\n",
            "Value is not equals to 5\n",
            "Enter new value : 8\n",
            "Value is not equals to 5\n",
            "Enter new value : 1\n",
            "Value is not equals to 5\n",
            "Enter new value : 6\n",
            "Value is not equals to 5\n",
            "Enter new value : 2\n",
            "Value is not equals to 5\n",
            "Enter new value : 778\n",
            "Value is not equals to 5\n",
            "Enter new value : 2\n",
            "Value is not equals to 5\n",
            "Enter new value : 5\n"
          ]
        }
      ]
    },
    {
      "cell_type": "code",
      "source": [
        "# Containers\n",
        "  # List  -> \n",
        "  # Tuple -> \n",
        "  # Set   -> \n",
        "  # Dict  -> \n",
        "\n",
        "\n"
      ],
      "metadata": {
        "id": "oyOxA4r9sD8U"
      },
      "execution_count": null,
      "outputs": []
    },
    {
      "cell_type": "code",
      "source": [
        "lst=[[[[[[1,2,3,4]]]]]]\n",
        "\n",
        "\n",
        "lst[0][0][0][0][0][2]=55\n",
        "lst"
      ],
      "metadata": {
        "colab": {
          "base_uri": "https://localhost:8080/"
        },
        "id": "QkTZkopntDPq",
        "outputId": "08051af0-c71f-4960-8a09-04fcd382cd5b"
      },
      "execution_count": null,
      "outputs": [
        {
          "output_type": "execute_result",
          "data": {
            "text/plain": [
              "[[[[[[1, 2, 55, 4]]]]]]"
            ]
          },
          "metadata": {},
          "execution_count": 11
        }
      ]
    },
    {
      "cell_type": "code",
      "source": [
        "lst=[1,'amit',True,[1,2,3],{1,2,3},{'name':'rahul'},(1,2,4),5.2]\n",
        "lst"
      ],
      "metadata": {
        "colab": {
          "base_uri": "https://localhost:8080/"
        },
        "id": "xCYQ9riAtDS0",
        "outputId": "0dcd9179-81b8-42b5-c110-abddc1e973f2"
      },
      "execution_count": null,
      "outputs": [
        {
          "output_type": "execute_result",
          "data": {
            "text/plain": [
              "[1, 'amit', True, [1, 2, 3], {1, 2, 3}, {'name': 'rahul'}, (1, 2, 4), 5.2]"
            ]
          },
          "metadata": {},
          "execution_count": 12
        }
      ]
    },
    {
      "cell_type": "code",
      "source": [
        "a=lst[6]\n",
        "type(a)"
      ],
      "metadata": {
        "colab": {
          "base_uri": "https://localhost:8080/"
        },
        "id": "C21ZXpZKtDXb",
        "outputId": "1c23c05a-d264-4b37-88ca-d429dde03b60"
      },
      "execution_count": null,
      "outputs": [
        {
          "output_type": "execute_result",
          "data": {
            "text/plain": [
              "tuple"
            ]
          },
          "metadata": {},
          "execution_count": 23
        }
      ]
    },
    {
      "cell_type": "code",
      "source": [
        "lst=[3,4,6,7,9,0,6,5,4]\n",
        "lst.append(555)\n",
        "lst"
      ],
      "metadata": {
        "colab": {
          "base_uri": "https://localhost:8080/"
        },
        "id": "P0-2uIdXt9w3",
        "outputId": "6b393757-9038-4ba7-c59f-69ae63f4dae7"
      },
      "execution_count": null,
      "outputs": [
        {
          "output_type": "execute_result",
          "data": {
            "text/plain": [
              "[3, 4, 6, 7, 9, 0, 6, 5, 4, 555]"
            ]
          },
          "metadata": {},
          "execution_count": 26
        }
      ]
    },
    {
      "cell_type": "code",
      "source": [
        "c=lst.count(4)\n",
        "c"
      ],
      "metadata": {
        "colab": {
          "base_uri": "https://localhost:8080/"
        },
        "id": "vW8wwng1t9z5",
        "outputId": "de74a7cb-6a88-4139-a2d9-f0753fa10094"
      },
      "execution_count": null,
      "outputs": [
        {
          "output_type": "execute_result",
          "data": {
            "text/plain": [
              "2"
            ]
          },
          "metadata": {},
          "execution_count": 29
        }
      ]
    },
    {
      "cell_type": "code",
      "source": [
        "a=[1,2,3]\n",
        "b=['one','two','three']\n",
        "b.extend(a)\n",
        "b"
      ],
      "metadata": {
        "colab": {
          "base_uri": "https://localhost:8080/"
        },
        "id": "D0ECw6XNt92j",
        "outputId": "6941d6ee-c36f-448d-8ca9-71bc3de041a5"
      },
      "execution_count": null,
      "outputs": [
        {
          "output_type": "execute_result",
          "data": {
            "text/plain": [
              "['one', 'two', 'three', 1, 2, 3]"
            ]
          },
          "metadata": {},
          "execution_count": 32
        }
      ]
    },
    {
      "cell_type": "code",
      "source": [
        "ind=a.index(3)\n",
        "ind"
      ],
      "metadata": {
        "colab": {
          "base_uri": "https://localhost:8080/"
        },
        "id": "nYfHzrQht942",
        "outputId": "311d4c41-213e-484e-aa39-b9b053b7aaf3"
      },
      "execution_count": null,
      "outputs": [
        {
          "output_type": "execute_result",
          "data": {
            "text/plain": [
              "2"
            ]
          },
          "metadata": {},
          "execution_count": 34
        }
      ]
    },
    {
      "cell_type": "code",
      "source": [
        "a=[1,2,3]\n",
        "a.insert(1,55)\n",
        "a"
      ],
      "metadata": {
        "colab": {
          "base_uri": "https://localhost:8080/"
        },
        "id": "Vdy5QivMwXjN",
        "outputId": "21ffdd2d-e201-4276-b0ff-91aab50bc443"
      },
      "execution_count": null,
      "outputs": [
        {
          "output_type": "execute_result",
          "data": {
            "text/plain": [
              "[1, 55, 2, 3]"
            ]
          },
          "metadata": {},
          "execution_count": 39
        }
      ]
    },
    {
      "cell_type": "code",
      "source": [
        "a=[1,2,3]\n",
        "a.pop(0)"
      ],
      "metadata": {
        "colab": {
          "base_uri": "https://localhost:8080/"
        },
        "id": "o50dPZmCwXlr",
        "outputId": "b0676915-7729-440c-cd92-f0e8795fa31f"
      },
      "execution_count": null,
      "outputs": [
        {
          "output_type": "execute_result",
          "data": {
            "text/plain": [
              "1"
            ]
          },
          "metadata": {},
          "execution_count": 40
        }
      ]
    },
    {
      "cell_type": "code",
      "source": [
        "a=[{'name':'Rahul','age':35},{'name':'ankit','age':30},{'name':'Amit','age':20}]\n",
        "key=input(\"Enter Name you want to delete recored  :  \")\n",
        "for i in a:\n",
        "  if i['name'].lower()==key.lower():\n",
        "    a.remove(i)\n",
        "a\n"
      ],
      "metadata": {
        "colab": {
          "base_uri": "https://localhost:8080/"
        },
        "id": "2rXrXr9CwvqO",
        "outputId": "2b5a54d1-4065-4fcc-c813-28b882c9cc4e"
      },
      "execution_count": null,
      "outputs": [
        {
          "name": "stdout",
          "output_type": "stream",
          "text": [
            "Enter Name you want to delete recored  :  RaHuL\n"
          ]
        },
        {
          "output_type": "execute_result",
          "data": {
            "text/plain": [
              "[{'name': 'ankit', 'age': 30}, {'name': 'Amit', 'age': 20}]"
            ]
          },
          "metadata": {},
          "execution_count": 48
        }
      ]
    },
    {
      "cell_type": "code",
      "source": [
        "tpl=1,2,3,4\n",
        "type(tpl)"
      ],
      "metadata": {
        "colab": {
          "base_uri": "https://localhost:8080/"
        },
        "id": "Phh1ogNewvsy",
        "outputId": "dbfdb053-3e1c-4c93-f00c-cc4c7a3b0723"
      },
      "execution_count": null,
      "outputs": [
        {
          "output_type": "execute_result",
          "data": {
            "text/plain": [
              "tuple"
            ]
          },
          "metadata": {},
          "execution_count": 50
        }
      ]
    },
    {
      "cell_type": "code",
      "source": [
        "a=tuple((5,6))\n",
        "a"
      ],
      "metadata": {
        "colab": {
          "base_uri": "https://localhost:8080/"
        },
        "id": "Lx5TpIdZwvu8",
        "outputId": "855d8c17-a533-4173-8da0-35ce22e7b182"
      },
      "execution_count": null,
      "outputs": [
        {
          "output_type": "execute_result",
          "data": {
            "text/plain": [
              "(5, 6)"
            ]
          },
          "metadata": {},
          "execution_count": 55
        }
      ]
    },
    {
      "cell_type": "code",
      "source": [
        "a=(1,2,3,4,5,6,7,8,9,11)\n",
        "a[2]=55"
      ],
      "metadata": {
        "colab": {
          "base_uri": "https://localhost:8080/",
          "height": 187
        },
        "id": "eqnS4YGMwvxo",
        "outputId": "27029abc-4b41-4a4c-c237-31a6a4454e8b"
      },
      "execution_count": null,
      "outputs": [
        {
          "output_type": "error",
          "ename": "TypeError",
          "evalue": "ignored",
          "traceback": [
            "\u001b[0;31m---------------------------------------------------------------------------\u001b[0m",
            "\u001b[0;31mTypeError\u001b[0m                                 Traceback (most recent call last)",
            "\u001b[0;32m<ipython-input-59-a039f0e68232>\u001b[0m in \u001b[0;36m<module>\u001b[0;34m\u001b[0m\n\u001b[1;32m      1\u001b[0m \u001b[0ma\u001b[0m\u001b[0;34m=\u001b[0m\u001b[0;34m(\u001b[0m\u001b[0;36m1\u001b[0m\u001b[0;34m,\u001b[0m\u001b[0;36m2\u001b[0m\u001b[0;34m,\u001b[0m\u001b[0;36m3\u001b[0m\u001b[0;34m,\u001b[0m\u001b[0;36m4\u001b[0m\u001b[0;34m,\u001b[0m\u001b[0;36m5\u001b[0m\u001b[0;34m,\u001b[0m\u001b[0;36m6\u001b[0m\u001b[0;34m,\u001b[0m\u001b[0;36m7\u001b[0m\u001b[0;34m,\u001b[0m\u001b[0;36m8\u001b[0m\u001b[0;34m,\u001b[0m\u001b[0;36m9\u001b[0m\u001b[0;34m,\u001b[0m\u001b[0;36m11\u001b[0m\u001b[0;34m)\u001b[0m\u001b[0;34m\u001b[0m\u001b[0;34m\u001b[0m\u001b[0m\n\u001b[0;32m----> 2\u001b[0;31m \u001b[0ma\u001b[0m\u001b[0;34m[\u001b[0m\u001b[0;36m2\u001b[0m\u001b[0;34m]\u001b[0m\u001b[0;34m=\u001b[0m\u001b[0;36m55\u001b[0m\u001b[0;34m\u001b[0m\u001b[0;34m\u001b[0m\u001b[0m\n\u001b[0m",
            "\u001b[0;31mTypeError\u001b[0m: 'tuple' object does not support item assignment"
          ]
        }
      ]
    },
    {
      "cell_type": "code",
      "source": [
        "# Set\n",
        "a={4,5,6,1,2,3,7,9,8,6,6,8,8}\n",
        "print(a)\n",
        "for i in a:\n",
        "  print(i)"
      ],
      "metadata": {
        "colab": {
          "base_uri": "https://localhost:8080/"
        },
        "id": "rOBohgCZwvzv",
        "outputId": "760fe3c7-7743-4a44-ed84-e192385251aa"
      },
      "execution_count": null,
      "outputs": [
        {
          "output_type": "stream",
          "name": "stdout",
          "text": [
            "{1, 2, 3, 4, 5, 6, 7, 8, 9}\n",
            "1\n",
            "2\n",
            "3\n",
            "4\n",
            "5\n",
            "6\n",
            "7\n",
            "8\n",
            "9\n"
          ]
        }
      ]
    },
    {
      "cell_type": "code",
      "source": [
        "st=[\n",
        "    {'name':'rahul','age':45},\n",
        "    {'name':'ankit','age':44},\n",
        "    {'name':'Vishal','age':30},\n",
        "    {'name':'rahul','age':45}\n",
        "]"
      ],
      "metadata": {
        "id": "-dGrF3ll2JFe"
      },
      "execution_count": null,
      "outputs": []
    },
    {
      "cell_type": "code",
      "source": [
        "# dict\n",
        "# keys and values\n",
        "a={'name':'rahul','age':45}\n",
        "for i,j in a.items():\n",
        "  print('key : ',i,\"\\nvalue : \",j)"
      ],
      "metadata": {
        "colab": {
          "base_uri": "https://localhost:8080/"
        },
        "id": "jvgpCB8Z2JIh",
        "outputId": "739ca4cf-f7aa-43ad-c25d-eba7d84e3810"
      },
      "execution_count": null,
      "outputs": [
        {
          "output_type": "stream",
          "name": "stdout",
          "text": [
            "key :  name \n",
            "value :  rahul\n",
            "key :  age \n",
            "value :  45\n"
          ]
        }
      ]
    },
    {
      "cell_type": "code",
      "source": [
        "a=dict(name='ravi',fname='sumit',age=45)\n",
        "\n",
        "a['married']=True\n",
        "a"
      ],
      "metadata": {
        "colab": {
          "base_uri": "https://localhost:8080/"
        },
        "id": "qIoJ_z4-2JLN",
        "outputId": "0033f693-31ea-4c3c-9802-d59e0025befa"
      },
      "execution_count": null,
      "outputs": [
        {
          "output_type": "execute_result",
          "data": {
            "text/plain": [
              "{'name': 'ravi', 'fname': 'sumit', 'age': 45, 'married': True}"
            ]
          },
          "metadata": {},
          "execution_count": 83
        }
      ]
    },
    {
      "cell_type": "code",
      "source": [
        "dd=dict()\n",
        "type(dd)"
      ],
      "metadata": {
        "colab": {
          "base_uri": "https://localhost:8080/"
        },
        "id": "DyJnYsGJ2JNt",
        "outputId": "7d0c2a9e-1c39-47b2-d5f2-816380b5223a"
      },
      "execution_count": null,
      "outputs": [
        {
          "output_type": "execute_result",
          "data": {
            "text/plain": [
              "dict"
            ]
          },
          "metadata": {},
          "execution_count": 84
        }
      ]
    },
    {
      "cell_type": "code",
      "source": [
        "dd=set()\n",
        "type(dd)"
      ],
      "metadata": {
        "colab": {
          "base_uri": "https://localhost:8080/"
        },
        "id": "OsKIYcv62JP_",
        "outputId": "81df06f8-122e-4b0d-c9f1-55aa1c48786b"
      },
      "execution_count": null,
      "outputs": [
        {
          "output_type": "execute_result",
          "data": {
            "text/plain": [
              "set"
            ]
          },
          "metadata": {},
          "execution_count": 87
        }
      ]
    },
    {
      "cell_type": "code",
      "source": [
        "a=tuple((121,2,3,4,5))\n",
        "a"
      ],
      "metadata": {
        "colab": {
          "base_uri": "https://localhost:8080/"
        },
        "id": "5Ae_PDGv2JR-",
        "outputId": "a9d1de0f-323e-4d8f-deb5-d2359eac506f"
      },
      "execution_count": null,
      "outputs": [
        {
          "output_type": "execute_result",
          "data": {
            "text/plain": [
              "(121, 2, 3, 4, 5)"
            ]
          },
          "metadata": {},
          "execution_count": 93
        }
      ]
    },
    {
      "cell_type": "code",
      "source": [],
      "metadata": {
        "id": "701Yn1bN8J8E"
      },
      "execution_count": null,
      "outputs": []
    },
    {
      "cell_type": "markdown",
      "source": [
        "19-09-2022"
      ],
      "metadata": {
        "id": "bBBKe8QM6WPv"
      }
    },
    {
      "cell_type": "code",
      "execution_count": null,
      "metadata": {
        "colab": {
          "base_uri": "https://localhost:8080/"
        },
        "id": "ijVb60OX6Va0",
        "outputId": "bb800723-ce42-4b7a-a327-d04e286926fc"
      },
      "outputs": [
        {
          "output_type": "stream",
          "name": "stdout",
          "text": [
            "Great to execute else\n",
            "great!!!1\n",
            "Ohh its average !!!\n",
            "Awesome!!!\n",
            "either grater than 15 or less than 2\n"
          ]
        }
      ],
      "source": [
        "# if ladder\n",
        "\n",
        "a=10\n",
        "if a>=10:\n",
        "  b=15\n",
        "  if b>15:\n",
        "    print(\"hello\")\n",
        "  if b<15:\n",
        "    print(\"hii\")\n",
        "  else:\n",
        "    print(\"Great to execute else\")\n",
        "  print(\"great!!!\")\n",
        "if a>8:\n",
        "  print(\"Ohh its average !!!\")\n",
        "if a<15:\n",
        "  print(\"Awesome!!!\")\n",
        "if a<5:\n",
        "  print(\"So Sad!! Keep it Up!!!!\")\n",
        "if a<2:\n",
        "  print(\"Its Bad For You!!!\")\n",
        "else:\n",
        "  print(\"either grater than 15 or less than 2\")\n"
      ]
    },
    {
      "cell_type": "code",
      "source": [
        "# loop statements\n",
        "# For loop \n",
        "# while\n",
        "even=int(input(\"Enter The range :  \"))\n",
        "c=[i for i in range(2,even+1,2)] \n",
        "print(c)"
      ],
      "metadata": {
        "colab": {
          "base_uri": "https://localhost:8080/",
          "height": 406
        },
        "id": "GiBSold68EDN",
        "outputId": "3470cda7-cb54-492a-8f36-2e1200ec7626"
      },
      "execution_count": null,
      "outputs": [
        {
          "output_type": "error",
          "ename": "KeyboardInterrupt",
          "evalue": "ignored",
          "traceback": [
            "\u001b[0;31m---------------------------------------------------------------------------\u001b[0m",
            "\u001b[0;31mKeyboardInterrupt\u001b[0m                         Traceback (most recent call last)",
            "\u001b[0;32m<ipython-input-29-a538a60c08b4>\u001b[0m in \u001b[0;36m<module>\u001b[0;34m\u001b[0m\n\u001b[1;32m      2\u001b[0m \u001b[0;31m# For loop\u001b[0m\u001b[0;34m\u001b[0m\u001b[0;34m\u001b[0m\u001b[0;34m\u001b[0m\u001b[0m\n\u001b[1;32m      3\u001b[0m \u001b[0;31m# while\u001b[0m\u001b[0;34m\u001b[0m\u001b[0;34m\u001b[0m\u001b[0;34m\u001b[0m\u001b[0m\n\u001b[0;32m----> 4\u001b[0;31m \u001b[0meven\u001b[0m\u001b[0;34m=\u001b[0m\u001b[0mint\u001b[0m\u001b[0;34m(\u001b[0m\u001b[0minput\u001b[0m\u001b[0;34m(\u001b[0m\u001b[0;34m\"Enter The range :  \"\u001b[0m\u001b[0;34m)\u001b[0m\u001b[0;34m)\u001b[0m\u001b[0;34m\u001b[0m\u001b[0;34m\u001b[0m\u001b[0m\n\u001b[0m\u001b[1;32m      5\u001b[0m \u001b[0mc\u001b[0m\u001b[0;34m=\u001b[0m\u001b[0;34m[\u001b[0m\u001b[0mi\u001b[0m \u001b[0;32mfor\u001b[0m \u001b[0mi\u001b[0m \u001b[0;32min\u001b[0m \u001b[0mrange\u001b[0m\u001b[0;34m(\u001b[0m\u001b[0;36m2\u001b[0m\u001b[0;34m,\u001b[0m\u001b[0meven\u001b[0m\u001b[0;34m+\u001b[0m\u001b[0;36m1\u001b[0m\u001b[0;34m,\u001b[0m\u001b[0;36m2\u001b[0m\u001b[0;34m)\u001b[0m\u001b[0;34m]\u001b[0m\u001b[0;34m\u001b[0m\u001b[0;34m\u001b[0m\u001b[0m\n\u001b[1;32m      6\u001b[0m \u001b[0mprint\u001b[0m\u001b[0;34m(\u001b[0m\u001b[0mc\u001b[0m\u001b[0;34m)\u001b[0m\u001b[0;34m\u001b[0m\u001b[0;34m\u001b[0m\u001b[0m\n",
            "\u001b[0;32m/usr/local/lib/python3.7/dist-packages/ipykernel/kernelbase.py\u001b[0m in \u001b[0;36mraw_input\u001b[0;34m(self, prompt)\u001b[0m\n\u001b[1;32m    861\u001b[0m             \u001b[0mself\u001b[0m\u001b[0;34m.\u001b[0m\u001b[0m_parent_ident\u001b[0m\u001b[0;34m,\u001b[0m\u001b[0;34m\u001b[0m\u001b[0;34m\u001b[0m\u001b[0m\n\u001b[1;32m    862\u001b[0m             \u001b[0mself\u001b[0m\u001b[0;34m.\u001b[0m\u001b[0m_parent_header\u001b[0m\u001b[0;34m,\u001b[0m\u001b[0;34m\u001b[0m\u001b[0;34m\u001b[0m\u001b[0m\n\u001b[0;32m--> 863\u001b[0;31m             \u001b[0mpassword\u001b[0m\u001b[0;34m=\u001b[0m\u001b[0;32mFalse\u001b[0m\u001b[0;34m,\u001b[0m\u001b[0;34m\u001b[0m\u001b[0;34m\u001b[0m\u001b[0m\n\u001b[0m\u001b[1;32m    864\u001b[0m         )\n\u001b[1;32m    865\u001b[0m \u001b[0;34m\u001b[0m\u001b[0m\n",
            "\u001b[0;32m/usr/local/lib/python3.7/dist-packages/ipykernel/kernelbase.py\u001b[0m in \u001b[0;36m_input_request\u001b[0;34m(self, prompt, ident, parent, password)\u001b[0m\n\u001b[1;32m    902\u001b[0m             \u001b[0;32mexcept\u001b[0m \u001b[0mKeyboardInterrupt\u001b[0m\u001b[0;34m:\u001b[0m\u001b[0;34m\u001b[0m\u001b[0;34m\u001b[0m\u001b[0m\n\u001b[1;32m    903\u001b[0m                 \u001b[0;31m# re-raise KeyboardInterrupt, to truncate traceback\u001b[0m\u001b[0;34m\u001b[0m\u001b[0;34m\u001b[0m\u001b[0;34m\u001b[0m\u001b[0m\n\u001b[0;32m--> 904\u001b[0;31m                 \u001b[0;32mraise\u001b[0m \u001b[0mKeyboardInterrupt\u001b[0m\u001b[0;34m(\u001b[0m\u001b[0;34m\"Interrupted by user\"\u001b[0m\u001b[0;34m)\u001b[0m \u001b[0;32mfrom\u001b[0m \u001b[0;32mNone\u001b[0m\u001b[0;34m\u001b[0m\u001b[0;34m\u001b[0m\u001b[0m\n\u001b[0m\u001b[1;32m    905\u001b[0m             \u001b[0;32mexcept\u001b[0m \u001b[0mException\u001b[0m \u001b[0;32mas\u001b[0m \u001b[0me\u001b[0m\u001b[0;34m:\u001b[0m\u001b[0;34m\u001b[0m\u001b[0;34m\u001b[0m\u001b[0m\n\u001b[1;32m    906\u001b[0m                 \u001b[0mself\u001b[0m\u001b[0;34m.\u001b[0m\u001b[0mlog\u001b[0m\u001b[0;34m.\u001b[0m\u001b[0mwarning\u001b[0m\u001b[0;34m(\u001b[0m\u001b[0;34m\"Invalid Message:\"\u001b[0m\u001b[0;34m,\u001b[0m \u001b[0mexc_info\u001b[0m\u001b[0;34m=\u001b[0m\u001b[0;32mTrue\u001b[0m\u001b[0;34m)\u001b[0m\u001b[0;34m\u001b[0m\u001b[0;34m\u001b[0m\u001b[0m\n",
            "\u001b[0;31mKeyboardInterrupt\u001b[0m: Interrupted by user"
          ]
        }
      ]
    },
    {
      "cell_type": "code",
      "source": [
        "# WAP to print even or odd Nos At a time \n",
        "n = int(input(\"Enter an end value :-\"))\n",
        "for i in range(1,n):\n",
        "  if i%2==0:\n",
        "    print(i,\"Even Number\")\n",
        "  else:\n",
        "    print(i,\"Odd Number\")\n"
      ],
      "metadata": {
        "colab": {
          "base_uri": "https://localhost:8080/"
        },
        "id": "c6_aplj6BcVN",
        "outputId": "13c79b5f-1a04-44f1-8365-1f32d114133a"
      },
      "execution_count": null,
      "outputs": [
        {
          "output_type": "stream",
          "name": "stdout",
          "text": [
            "Enter an end value :-5\n",
            "1 Odd Number\n",
            "2 Even Number\n",
            "3 Odd Number\n",
            "4 Even Number\n"
          ]
        }
      ]
    },
    {
      "cell_type": "code",
      "source": [
        "# WAP to print sum of n nos input by the user\n",
        "n = int(input(\"Enter a value:-\"))\n",
        "sum=0\n",
        "for i in range(1,n+1):\n",
        "  sum =sum+i\n",
        "print(\"Total sum is :-\",sum)\n"
      ],
      "metadata": {
        "colab": {
          "base_uri": "https://localhost:8080/"
        },
        "id": "TjDKuMcG8EJb",
        "outputId": "940475ec-02d7-4fcf-f9d8-e619006f5503"
      },
      "execution_count": null,
      "outputs": [
        {
          "output_type": "stream",
          "name": "stdout",
          "text": [
            "Enter a value:-10\n",
            "Total sum is :- 55\n"
          ]
        }
      ]
    },
    {
      "cell_type": "code",
      "source": [
        "# WAP to check given no is even or odd\n",
        "n = int(input(\"Enter a value:-\"))\n",
        "if n%2==0:\n",
        "  print(n,\"is an Even Number\")\n",
        "else:\n",
        "  print(n,\"is an odd Number\")"
      ],
      "metadata": {
        "colab": {
          "base_uri": "https://localhost:8080/"
        },
        "id": "PoY5QGyTEkIG",
        "outputId": "c299e8af-bf2f-40e2-b73b-5bcd05b17a3e"
      },
      "execution_count": null,
      "outputs": [
        {
          "output_type": "stream",
          "name": "stdout",
          "text": [
            "Enter a value:-11\n",
            "11 is an odd Number\n"
          ]
        }
      ]
    },
    {
      "cell_type": "code",
      "source": [
        "# WAP to check given no is divisible by 7 or not\n",
        "n = int(input(\"Enter a value:-\"))\n",
        "if n%7==0:\n",
        "  print(n,\"is divisible by 7\")\n",
        "else:\n",
        "  print(n,\"is not divisible by 7\")"
      ],
      "metadata": {
        "colab": {
          "base_uri": "https://localhost:8080/"
        },
        "id": "PMyfJgjlE1St",
        "outputId": "d36d34ac-984f-4996-ff6c-a22fc53c7740"
      },
      "execution_count": null,
      "outputs": [
        {
          "output_type": "stream",
          "name": "stdout",
          "text": [
            "Enter a value:-21\n",
            "21 is divisible by 7\n"
          ]
        }
      ]
    },
    {
      "cell_type": "code",
      "source": [
        "# WAP to check how many nos is divisible by 7 in range of n given by user\n",
        "n = int(input(\"Enter the start Range : \"))\n",
        "m = int(input(\"Enter the End Range :\"))\n",
        "\n",
        "for i in range(n,m+1):\n",
        "  if i%7==0:\n",
        "    print(i,end=\" \")"
      ],
      "metadata": {
        "colab": {
          "base_uri": "https://localhost:8080/"
        },
        "id": "1kgCgvo6FdQ8",
        "outputId": "3549c789-5b8f-4bda-a75f-f75237c58f6b"
      },
      "execution_count": null,
      "outputs": [
        {
          "output_type": "stream",
          "name": "stdout",
          "text": [
            "Enter the start Range : 700\n",
            "Enter the End Range :800\n",
            "700 707 714 721 728 735 742 749 756 763 770 777 784 791 798 "
          ]
        }
      ]
    },
    {
      "cell_type": "markdown",
      "source": [
        "28-10-2022 : type conversion\n"
      ],
      "metadata": {
        "id": "jvjwfgYlqa5x"
      }
    },
    {
      "cell_type": "code",
      "source": [
        "# 1 implecity\n",
        "# 2 explicity"
      ],
      "metadata": {
        "id": "Yf2dk5UtoV-E"
      },
      "execution_count": null,
      "outputs": []
    },
    {
      "cell_type": "code",
      "source": [
        "x=1 # int\n",
        "y=2.5 # float\n",
        "z=10\n",
        "# z=1+2.5\n",
        "z=x+y # 1+2.5\n",
        "type(z)\n"
      ],
      "metadata": {
        "colab": {
          "base_uri": "https://localhost:8080/"
        },
        "id": "MiUO2DWBoWa3",
        "outputId": "2b8c4954-9be8-4606-be2b-f5b257e6e2b1"
      },
      "execution_count": null,
      "outputs": [
        {
          "output_type": "execute_result",
          "data": {
            "text/plain": [
              "int"
            ]
          },
          "metadata": {},
          "execution_count": 47
        }
      ]
    },
    {
      "cell_type": "code",
      "source": [
        "# int\n",
        "# float\n",
        "# ord\n",
        "# hex\n",
        "# oct\n",
        "# tuple\n",
        "# list\n",
        "# set\n",
        "# dict\n",
        "# complex\n",
        "# str\n",
        "# chr"
      ],
      "metadata": {
        "id": "ix8hG6KNoWdl"
      },
      "execution_count": null,
      "outputs": []
    },
    {
      "cell_type": "code",
      "source": [
        "a=10.5\n",
        "type(int(a))\n"
      ],
      "metadata": {
        "colab": {
          "base_uri": "https://localhost:8080/"
        },
        "id": "82RTMe9ToWf5",
        "outputId": "d7d6faab-b1d3-4cb6-a684-a5462ea5376f"
      },
      "execution_count": null,
      "outputs": [
        {
          "output_type": "execute_result",
          "data": {
            "text/plain": [
              "int"
            ]
          },
          "metadata": {},
          "execution_count": 4
        }
      ]
    },
    {
      "cell_type": "code",
      "source": [
        "a=10\n",
        "a=float(a)\n",
        "type(a)"
      ],
      "metadata": {
        "colab": {
          "base_uri": "https://localhost:8080/"
        },
        "id": "OcZBHeFyoWAJ",
        "outputId": "cc1b36ec-c5d5-47c8-bc95-a04444dcbb49"
      },
      "execution_count": null,
      "outputs": [
        {
          "output_type": "execute_result",
          "data": {
            "text/plain": [
              "float"
            ]
          },
          "metadata": {},
          "execution_count": 6
        }
      ]
    },
    {
      "cell_type": "code",
      "source": [
        "a=ord('a')\n",
        "b=oct(a)\n",
        "b"
      ],
      "metadata": {
        "colab": {
          "base_uri": "https://localhost:8080/",
          "height": 35
        },
        "id": "OBKEQGBHtqix",
        "outputId": "3986b936-3ef7-4525-ae7d-6b5eadb93b20"
      },
      "execution_count": null,
      "outputs": [
        {
          "output_type": "execute_result",
          "data": {
            "text/plain": [
              "'0o141'"
            ],
            "application/vnd.google.colaboratory.intrinsic+json": {
              "type": "string"
            }
          },
          "metadata": {},
          "execution_count": 15
        }
      ]
    },
    {
      "cell_type": "code",
      "source": [
        "a=10\n",
        "a=tuple([10])\n",
        "type(a)\n",
        "id(a)"
      ],
      "metadata": {
        "colab": {
          "base_uri": "https://localhost:8080/"
        },
        "id": "8to--08JtqmI",
        "outputId": "583ebf51-3e05-4aeb-a0c5-a0ad278d8c4a"
      },
      "execution_count": null,
      "outputs": [
        {
          "output_type": "execute_result",
          "data": {
            "text/plain": [
              "140532022337744"
            ]
          },
          "metadata": {},
          "execution_count": 27
        }
      ]
    },
    {
      "cell_type": "code",
      "source": [
        "a=10\n",
        "id(a)\n",
        "#a=list([11,12,13,14])\n",
        "#type(a)"
      ],
      "metadata": {
        "colab": {
          "base_uri": "https://localhost:8080/"
        },
        "id": "xzLLmDRctqox",
        "outputId": "7578a40e-60fe-4442-9431-215e8517b1a3"
      },
      "execution_count": null,
      "outputs": [
        {
          "output_type": "execute_result",
          "data": {
            "text/plain": [
              "11126976"
            ]
          },
          "metadata": {},
          "execution_count": 25
        }
      ]
    },
    {
      "cell_type": "code",
      "source": [
        "a=10\n",
        "a=list([a])\n",
        "a"
      ],
      "metadata": {
        "colab": {
          "base_uri": "https://localhost:8080/"
        },
        "id": "Z5XpuIrPtqrB",
        "outputId": "add13fa9-b2cc-4d87-8e35-0ffce0737cb4"
      },
      "execution_count": null,
      "outputs": [
        {
          "output_type": "execute_result",
          "data": {
            "text/plain": [
              "[10]"
            ]
          },
          "metadata": {},
          "execution_count": 31
        }
      ]
    },
    {
      "cell_type": "code",
      "source": [
        "a=10\n",
        "a=complex(1.4,5)\n",
        "a"
      ],
      "metadata": {
        "colab": {
          "base_uri": "https://localhost:8080/"
        },
        "id": "xA_qpnP7tqtX",
        "outputId": "a7751193-c37c-4f59-fd01-6c40cc2adf7f"
      },
      "execution_count": null,
      "outputs": [
        {
          "output_type": "execute_result",
          "data": {
            "text/plain": [
              "(1.4+5j)"
            ]
          },
          "metadata": {},
          "execution_count": 37
        }
      ]
    },
    {
      "cell_type": "code",
      "source": [
        "a=10\n",
        "a=str(a)\n",
        "a=a+'1'\n",
        "a"
      ],
      "metadata": {
        "colab": {
          "base_uri": "https://localhost:8080/",
          "height": 35
        },
        "id": "FWwzczHMtqvv",
        "outputId": "460d4fd1-8286-4edb-8717-3b621ef66d55"
      },
      "execution_count": null,
      "outputs": [
        {
          "output_type": "execute_result",
          "data": {
            "text/plain": [
              "'101'"
            ],
            "application/vnd.google.colaboratory.intrinsic+json": {
              "type": "string"
            }
          },
          "metadata": {},
          "execution_count": 43
        }
      ]
    },
    {
      "cell_type": "code",
      "source": [
        "\n",
        "a=chr(98)\n",
        "a"
      ],
      "metadata": {
        "colab": {
          "base_uri": "https://localhost:8080/",
          "height": 35
        },
        "id": "t_4Yzop1yQQZ",
        "outputId": "0cd42ec8-5857-4a9b-ef34-653db812de3c"
      },
      "execution_count": null,
      "outputs": [
        {
          "output_type": "execute_result",
          "data": {
            "text/plain": [
              "'b'"
            ],
            "application/vnd.google.colaboratory.intrinsic+json": {
              "type": "string"
            }
          },
          "metadata": {},
          "execution_count": 45
        }
      ]
    },
    {
      "cell_type": "code",
      "source": [
        "# ord\n",
        "# chr"
      ],
      "metadata": {
        "id": "nlRgPEx4yQS3"
      },
      "execution_count": null,
      "outputs": []
    },
    {
      "cell_type": "code",
      "source": [
        "# loopings\n",
        "  # For - fixed range loop\n",
        "  # While - non-range loop"
      ],
      "metadata": {
        "id": "4DsCDfrK25Ds"
      },
      "execution_count": null,
      "outputs": []
    },
    {
      "cell_type": "code",
      "source": [
        "ch=1\n",
        "print(\"1.Addition\\n2.Subtraction\\n3.Multiplication\\n4.Division\\n\")\n",
        "while ch>0:\n",
        "  ch=int(input(\"Enter your Choice   :    \"))\n",
        "  if ch==1:\n",
        "    a=int(input(\"Enter first nos for addition  :  \"))\n",
        "    b=int(input(\"Enter second nos for addition  :   \"))\n",
        "    c=a+b\n",
        "    print('the result = ',c)\n",
        "  elif ch==2:\n",
        "    a=int(input(\"Enter first nos for sub  :  \"))\n",
        "    b=int(input(\"Enter second nos for sub  :   \"))\n",
        "    c=a-b\n",
        "    print('the result = ',c)\n",
        "  elif ch==3:\n",
        "    a=int(input(\"Enter first nos for multiply  :  \"))\n",
        "    b=int(input(\"Enter second nos for multiply  :   \"))\n",
        "    c=a*b\n",
        "    print('the result = ',c)\n",
        "  elif ch==4:\n",
        "    a=int(input(\"Enter first nos for div  :  \"))\n",
        "    b=int(input(\"Enter second nos for div  :   \"))\n",
        "    c=a/b\n",
        "    print('the result = ',c)\n",
        "  else:\n",
        "    print(\"Thanks for Using app\")\n",
        "    exit()\n"
      ],
      "metadata": {
        "colab": {
          "base_uri": "https://localhost:8080/"
        },
        "id": "1eOqf5IYyQVH",
        "outputId": "be88f9a7-071f-4014-f66b-b431cf59db1f"
      },
      "execution_count": null,
      "outputs": [
        {
          "name": "stdout",
          "output_type": "stream",
          "text": [
            "1.Addition\n",
            "2.Subtraction\n",
            "3.Multiplication\n",
            "4.Division\n",
            "\n",
            "Enter your Choice   :    1\n",
            "Enter first nos for addition  :  55\n",
            "Enter second nos for addition  :   56\n",
            "the result =  111\n",
            "Enter your Choice   :    2\n",
            "Enter first nos for sub  :  45\n",
            "Enter second nos for sub  :   5\n",
            "the result =  40\n",
            "Enter your Choice   :    3\n",
            "Enter first nos for multiply  :  55\n",
            "Enter second nos for multiply  :   5\n",
            "the result =  275\n",
            "Enter your Choice   :    4\n",
            "Enter first nos for div  :  100\n",
            "Enter second nos for div  :   20\n",
            "the result =  5.0\n",
            "Enter your Choice   :    -1\n"
          ]
        }
      ]
    },
    {
      "cell_type": "code",
      "source": [
        "if a>1000:\n",
        "  pass\n",
        "elif a>100:\n",
        "  pass\n",
        "elif a>10:\n",
        "  pass\n",
        "else:\n",
        "  pass"
      ],
      "metadata": {
        "id": "LQYEK_e6yQXf"
      },
      "execution_count": null,
      "outputs": []
    },
    {
      "cell_type": "code",
      "source": [
        "if a>1000:\n",
        "  if a<500:\n",
        "    pass\n",
        "  else:\n",
        "    pass"
      ],
      "metadata": {
        "id": "bfIw3dTc9dIj"
      },
      "execution_count": null,
      "outputs": []
    },
    {
      "cell_type": "code",
      "source": [
        "a=(1,2,3,4,5,6,7,8,9,1,11,111,1111,222)\n",
        "for i in range(len(a)):\n",
        "  a[i]=i\n"
      ],
      "metadata": {
        "id": "sb9OFsLe9dK6",
        "colab": {
          "base_uri": "https://localhost:8080/",
          "height": 204
        },
        "outputId": "2320ad9c-0e16-4695-c30f-7b537817248e"
      },
      "execution_count": null,
      "outputs": [
        {
          "output_type": "error",
          "ename": "TypeError",
          "evalue": "ignored",
          "traceback": [
            "\u001b[0;31m---------------------------------------------------------------------------\u001b[0m",
            "\u001b[0;31mTypeError\u001b[0m                                 Traceback (most recent call last)",
            "\u001b[0;32m<ipython-input-62-af698e383c67>\u001b[0m in \u001b[0;36m<module>\u001b[0;34m\u001b[0m\n\u001b[1;32m      1\u001b[0m \u001b[0ma\u001b[0m\u001b[0;34m=\u001b[0m\u001b[0;34m(\u001b[0m\u001b[0;36m1\u001b[0m\u001b[0;34m,\u001b[0m\u001b[0;36m2\u001b[0m\u001b[0;34m,\u001b[0m\u001b[0;36m3\u001b[0m\u001b[0;34m,\u001b[0m\u001b[0;36m4\u001b[0m\u001b[0;34m,\u001b[0m\u001b[0;36m5\u001b[0m\u001b[0;34m,\u001b[0m\u001b[0;36m6\u001b[0m\u001b[0;34m,\u001b[0m\u001b[0;36m7\u001b[0m\u001b[0;34m,\u001b[0m\u001b[0;36m8\u001b[0m\u001b[0;34m,\u001b[0m\u001b[0;36m9\u001b[0m\u001b[0;34m,\u001b[0m\u001b[0;36m1\u001b[0m\u001b[0;34m,\u001b[0m\u001b[0;36m11\u001b[0m\u001b[0;34m,\u001b[0m\u001b[0;36m111\u001b[0m\u001b[0;34m,\u001b[0m\u001b[0;36m1111\u001b[0m\u001b[0;34m,\u001b[0m\u001b[0;36m222\u001b[0m\u001b[0;34m)\u001b[0m\u001b[0;34m\u001b[0m\u001b[0;34m\u001b[0m\u001b[0m\n\u001b[1;32m      2\u001b[0m \u001b[0;32mfor\u001b[0m \u001b[0mi\u001b[0m \u001b[0;32min\u001b[0m \u001b[0mrange\u001b[0m\u001b[0;34m(\u001b[0m\u001b[0mlen\u001b[0m\u001b[0;34m(\u001b[0m\u001b[0ma\u001b[0m\u001b[0;34m)\u001b[0m\u001b[0;34m)\u001b[0m\u001b[0;34m:\u001b[0m\u001b[0;34m\u001b[0m\u001b[0;34m\u001b[0m\u001b[0m\n\u001b[0;32m----> 3\u001b[0;31m   \u001b[0ma\u001b[0m\u001b[0;34m[\u001b[0m\u001b[0mi\u001b[0m\u001b[0;34m]\u001b[0m\u001b[0;34m=\u001b[0m\u001b[0mi\u001b[0m\u001b[0;34m\u001b[0m\u001b[0;34m\u001b[0m\u001b[0m\n\u001b[0m",
            "\u001b[0;31mTypeError\u001b[0m: 'tuple' object does not support item assignment"
          ]
        }
      ]
    },
    {
      "cell_type": "code",
      "source": [
        "# mutable - change its value\n",
        "# immutable - cann't change its value\n"
      ],
      "metadata": {
        "id": "KlwIgU-w9dNi"
      },
      "execution_count": null,
      "outputs": []
    },
    {
      "cell_type": "code",
      "source": [
        "# variable - mutable\n",
        "# str - mutable\n",
        "# list - mutable\n",
        "# set - mutable\n",
        "# tuple - immutable\n",
        "# dict - mutable"
      ],
      "metadata": {
        "id": "vczvpwEq9dPz"
      },
      "execution_count": null,
      "outputs": []
    },
    {
      "cell_type": "code",
      "source": [
        "# chack dic is mutable or not and show its in a program.\n",
        "#"
      ],
      "metadata": {
        "id": "ZnCDBu4OBLzn"
      },
      "execution_count": null,
      "outputs": []
    },
    {
      "cell_type": "markdown",
      "source": [
        "29-10-2022| LOOPS, String"
      ],
      "metadata": {
        "id": "xtBfn8n80s5T"
      }
    },
    {
      "cell_type": "code",
      "source": [
        "for i in range(1,6):\n",
        "  for j in range(1,6):\n",
        "    print(\"*\",end=\"\")\n",
        "  print()"
      ],
      "metadata": {
        "id": "k0PMy4uHBL1-",
        "colab": {
          "base_uri": "https://localhost:8080/"
        },
        "outputId": "603cb1ea-82c1-4f46-e7d8-6449e25409a4"
      },
      "execution_count": null,
      "outputs": [
        {
          "output_type": "stream",
          "name": "stdout",
          "text": [
            "*****\n",
            "*****\n",
            "*****\n",
            "*****\n",
            "*****\n"
          ]
        }
      ]
    },
    {
      "cell_type": "code",
      "source": [
        "# *****\n",
        "# ****\n",
        "# ***\n",
        "# **\n",
        "# *"
      ],
      "metadata": {
        "id": "t8iJqljB66q1"
      },
      "execution_count": null,
      "outputs": []
    },
    {
      "cell_type": "code",
      "source": [
        "a=int(input(\"Enter the range of partern  :  \"))\n",
        "for i in range(a):\n",
        "  for j in range(a-i):\n",
        "    print(\"*\",end=\"\")\n",
        "  print()\n"
      ],
      "metadata": {
        "colab": {
          "base_uri": "https://localhost:8080/"
        },
        "id": "Bttshkh-66tN",
        "outputId": "10dd62cc-4ba7-4db2-eb26-b0023e9d67d2"
      },
      "execution_count": null,
      "outputs": [
        {
          "output_type": "stream",
          "name": "stdout",
          "text": [
            "Enter the range of partern  :  20\n",
            "********************\n",
            "*******************\n",
            "******************\n",
            "*****************\n",
            "****************\n",
            "***************\n",
            "**************\n",
            "*************\n",
            "************\n",
            "***********\n",
            "**********\n",
            "*********\n",
            "********\n",
            "*******\n",
            "******\n",
            "*****\n",
            "****\n",
            "***\n",
            "**\n",
            "*\n"
          ]
        }
      ]
    },
    {
      "cell_type": "code",
      "source": [
        "# *******\n",
        "#  *****\n",
        "#   ***\n",
        "#    *"
      ],
      "metadata": {
        "id": "2FKW3j_S66vs"
      },
      "execution_count": null,
      "outputs": []
    },
    {
      "cell_type": "code",
      "source": [
        "count=7\n",
        "for i in range(4):\n",
        "    for j in range(i):\n",
        "      print(\" \",end=\"\")\n",
        "    for k in range(count):\n",
        "      print(\"*\",end=\"\")\n",
        "    count=count-2\n",
        "    print()\n",
        "    "
      ],
      "metadata": {
        "colab": {
          "base_uri": "https://localhost:8080/"
        },
        "id": "2YlYeF-b66yD",
        "outputId": "b216b079-338e-4278-cbab-84805b1f0141"
      },
      "execution_count": null,
      "outputs": [
        {
          "output_type": "stream",
          "name": "stdout",
          "text": [
            "*******\n",
            " *****\n",
            "  ***\n",
            "   *\n"
          ]
        }
      ]
    },
    {
      "cell_type": "code",
      "source": [
        "#      *\n",
        "#     ***\n",
        "#    *****\n",
        "#   *******"
      ],
      "metadata": {
        "id": "s2swcMVG660l"
      },
      "execution_count": null,
      "outputs": []
    },
    {
      "cell_type": "code",
      "source": [
        "count=1\n",
        "for i in range(4):\n",
        "  for j in range(4-i):\n",
        "    print(\" \",end=\"\")\n",
        "  for k in range(count):\n",
        "    print(\"*\",end=\"\")\n",
        "  count=count+2\n",
        "  print()"
      ],
      "metadata": {
        "colab": {
          "base_uri": "https://localhost:8080/"
        },
        "id": "SHiecayQ6624",
        "outputId": "770f56c3-606e-41f2-ed83-c1a5ab2b38fc"
      },
      "execution_count": null,
      "outputs": [
        {
          "output_type": "stream",
          "name": "stdout",
          "text": [
            "    *\n",
            "   ***\n",
            "  *****\n",
            " *******\n"
          ]
        }
      ]
    },
    {
      "cell_type": "code",
      "source": [
        "# 0,1,1,2,3,5,8,13,21......\n",
        "# 12321 pallindrome Nos\n",
        "# reverse the Number\n",
        "\n",
        "lst=[0,1]\n",
        "n=int(input(\"Enter the steps :  \"))\n",
        "for i in range(n):\n",
        "  x=lst[i]+lst[i+1]\n",
        "  lst.append(x)\n",
        "lst\n"
      ],
      "metadata": {
        "colab": {
          "base_uri": "https://localhost:8080/"
        },
        "id": "v5z-qxSZDdBN",
        "outputId": "1058d7c9-939e-409f-de9f-fc5645162bd5"
      },
      "execution_count": null,
      "outputs": [
        {
          "name": "stdout",
          "output_type": "stream",
          "text": [
            "Enter the steps :  10\n"
          ]
        },
        {
          "output_type": "execute_result",
          "data": {
            "text/plain": [
              "[0, 1, 1, 2, 3, 5, 8, 13, 21, 34, 55, 89]"
            ]
          },
          "metadata": {},
          "execution_count": 57
        }
      ]
    },
    {
      "cell_type": "markdown",
      "source": [
        "31-10-2022 : Loops"
      ],
      "metadata": {
        "id": "ilT-42N-JIvo"
      }
    },
    {
      "cell_type": "code",
      "source": [
        "for i in range(3): # i=0 outter loop\n",
        "  for j in range(i): # inner loop\n",
        "    print(j,end=\"\")\n",
        "  print()\n"
      ],
      "metadata": {
        "id": "a4jkyhUxH8ko",
        "colab": {
          "base_uri": "https://localhost:8080/"
        },
        "outputId": "5733f8f4-f4f3-4af0-e26e-4ce61810eff2"
      },
      "execution_count": null,
      "outputs": [
        {
          "output_type": "stream",
          "name": "stdout",
          "text": [
            "012\n",
            "012\n",
            "012\n"
          ]
        }
      ]
    },
    {
      "cell_type": "code",
      "source": [
        "row=int(input(\"Enter the row values : \"))\n",
        "col=int(input(\"Enter the cols values : \"))\n",
        "f_matrix=[] # main mattrix\n",
        "for i in range(row): #3\n",
        "  lst_row=[] # [] Row\n",
        "  for j in range(col):#3\n",
        "    x=int(input(\"\"))\n",
        "    lst_row.append(x)# [7,8,9]\n",
        "  f_matrix.append(lst_row) #[[1,2,3],[4,5,6],[7,8,9]]\n",
        "\n",
        "for i in f_matrix:\n",
        "  for j in i:\n",
        "    print(j,end=\" \")\n",
        "  print()\n"
      ],
      "metadata": {
        "colab": {
          "base_uri": "https://localhost:8080/"
        },
        "id": "PF2Ypc_PNv8D",
        "outputId": "c0195b75-b576-45f6-e5a3-58513e069fb6"
      },
      "execution_count": null,
      "outputs": [
        {
          "output_type": "stream",
          "name": "stdout",
          "text": [
            "Enter the row values : 3\n",
            "Enter the cols values : 3\n",
            "1\n",
            "2\n",
            "3\n",
            "4\n",
            "5\n",
            "6\n",
            "7\n",
            "8\n",
            "9\n",
            "1 2 3 \n",
            "1 2 3 \n",
            "1 2 3 \n",
            "4 5 6 \n",
            "4 5 6 \n",
            "4 5 6 \n",
            "7 8 9 \n",
            "7 8 9 \n",
            "7 8 9 \n"
          ]
        }
      ]
    },
    {
      "cell_type": "code",
      "source": [
        "a=[['amit','sumit','vijay'],{'akash','vikas','vishal'},('rishabh','rahul','akash')]\n",
        "\n",
        "for i in a:#['amit','sumit','vijay']\n",
        "  for j in i:\n",
        "    for k in j:\n",
        "      print(k,end=\"\")\n",
        "    print()\n",
        "\n",
        "\n",
        "\n",
        "\n"
      ],
      "metadata": {
        "colab": {
          "base_uri": "https://localhost:8080/"
        },
        "id": "looCnB2tTeXq",
        "outputId": "9660445e-fc84-478d-a688-ca294768c648"
      },
      "execution_count": null,
      "outputs": [
        {
          "output_type": "stream",
          "name": "stdout",
          "text": [
            "amit\n",
            "sumit\n",
            "vijay\n",
            "vishal\n",
            "akash\n",
            "vikas\n",
            "rishabh\n",
            "rahul\n",
            "akash\n"
          ]
        }
      ]
    },
    {
      "cell_type": "code",
      "source": [
        "a=[1,2,3,4,5,6,7,8,9]\n",
        "data=7\n",
        "for i in a:#[1,2,3,4,5,6,7,8,9]\n",
        "  for j in a:#[1,2,3,4,5,6,7,8,9]\n",
        "    if i+j==data:\n",
        "      print(\"the value\",i,j)"
      ],
      "metadata": {
        "colab": {
          "base_uri": "https://localhost:8080/"
        },
        "id": "YBFGgsl3XLLk",
        "outputId": "9850f63a-d9d8-4f27-fcfb-7b57e6cecf4d"
      },
      "execution_count": null,
      "outputs": [
        {
          "output_type": "stream",
          "name": "stdout",
          "text": [
            "the value 1 6\n",
            "the value 2 5\n",
            "the value 3 4\n",
            "the value 4 3\n",
            "the value 5 2\n",
            "the value 6 1\n"
          ]
        }
      ]
    },
    {
      "cell_type": "markdown",
      "source": [
        "**01-11-2022 : Loop implimentations**"
      ],
      "metadata": {
        "id": "JAUQaMa8QiGr"
      }
    },
    {
      "cell_type": "code",
      "source": [
        "f_matrix=[]\n",
        "# input first matrix\n",
        "print(\"Enter First matrix contents  :  \")\n",
        "for i in range(3):\n",
        "  lst_row=[]\n",
        "  for j in range(3):\n",
        "    x=int(input(f\"Enter {i}{j} value  :  \"))\n",
        "    lst_row.append(x)\n",
        "  f_matrix.append(lst_row)\n",
        "# input second matrix\n",
        "print(\"Enter Second matrix contents  :  \")\n",
        "s_matrix=[]\n",
        "for i in range(3):\n",
        "  lst_row=[]\n",
        "  for j in range(3):\n",
        "    x=int(input(f\"Enter {i}{j} value  :  \"))\n",
        "    lst_row.append(x)\n",
        "  s_matrix.append(lst_row)\n",
        "print(\"the Sum of matrix  :  \")\n",
        "# Add two matrix\n",
        "t_matrix=[]\n",
        "for i in range(3):\n",
        "  row=[]\n",
        "  for j in range(3):\n",
        "    x=f_matrix[i][j]+s_matrix[i][j]\n",
        "    row.append(x)\n",
        "  t_matrix.append(row)\n",
        "\n",
        "t_matrix\n",
        "\n"
      ],
      "metadata": {
        "colab": {
          "base_uri": "https://localhost:8080/"
        },
        "id": "rjTnPH6YQhAo",
        "outputId": "f682610b-6692-42f9-89f7-fb3113d63223"
      },
      "execution_count": null,
      "outputs": [
        {
          "output_type": "stream",
          "name": "stdout",
          "text": [
            "Enter First matrix contents  :  \n",
            "Enter 00 value  :  1\n",
            "Enter 01 value  :  5\n",
            "Enter 02 value  :  7\n",
            "Enter 10 value  :  2\n",
            "Enter 11 value  :  3\n",
            "Enter 12 value  :  5\n",
            "Enter 20 value  :  6\n",
            "Enter 21 value  :  1\n",
            "Enter 22 value  :  9\n",
            "Enter Second matrix contents  :  \n",
            "Enter 00 value  :  8\n",
            "Enter 01 value  :  5\n",
            "Enter 02 value  :  1\n",
            "Enter 10 value  :  4\n",
            "Enter 11 value  :  2\n",
            "Enter 12 value  :  8\n",
            "Enter 20 value  :  6\n",
            "Enter 21 value  :  7\n",
            "Enter 22 value  :  7\n",
            "the Sum of matrix  :  \n"
          ]
        },
        {
          "output_type": "execute_result",
          "data": {
            "text/plain": [
              "[[9, 10, 8], [6, 5, 13], [12, 8, 16]]"
            ]
          },
          "metadata": {},
          "execution_count": 5
        }
      ]
    },
    {
      "cell_type": "code",
      "source": [
        "lst=[22,44,55,64,6,88,99,23,56,78]\n",
        "count=0\n",
        "val=int(input(\"Enter the value which you find in list  : \"))\n",
        "for i in lst:\n",
        "  count+=1\n",
        "  if i==val:\n",
        "    print(f\"Value found {count} position\")\n",
        "  else:\n",
        "    print(\"Value isn't in the list\")\n",
        "    break\n",
        "\n"
      ],
      "metadata": {
        "colab": {
          "base_uri": "https://localhost:8080/"
        },
        "id": "_Oli1_1kQ2Xt",
        "outputId": "7a0e8238-2cda-4a9b-a42b-5156b6d437eb"
      },
      "execution_count": null,
      "outputs": [
        {
          "output_type": "stream",
          "name": "stdout",
          "text": [
            "Enter the value which you find in list  : 50\n",
            "Value isn't in the list\n"
          ]
        }
      ]
    },
    {
      "cell_type": "code",
      "source": [
        "lst=[22,44,55,64,6,88,99,23,56,78]\n",
        "val=int(input(\"Enter the value which you find in list  : \"))\n",
        "for i in range(len(lst)):\n",
        "  if lst[i]==val:\n",
        "    print(\"the position : \", i+1)\n",
        "    break"
      ],
      "metadata": {
        "colab": {
          "base_uri": "https://localhost:8080/"
        },
        "id": "6RHEJLt6Q2aG",
        "outputId": "1e81a9dc-5707-485c-ce32-a636fabe1de1"
      },
      "execution_count": null,
      "outputs": [
        {
          "output_type": "stream",
          "name": "stdout",
          "text": [
            "Enter the value which you find in list  : 55\n",
            "the position :  3\n"
          ]
        }
      ]
    },
    {
      "cell_type": "code",
      "source": [
        "lst=[22,44,55,64,6,88,99,23,56,78]\n",
        "lst.sort()\n",
        "lst\n"
      ],
      "metadata": {
        "colab": {
          "base_uri": "https://localhost:8080/"
        },
        "id": "WYQAxdsJQ2cj",
        "outputId": "c2aafe1f-cdd3-4f6d-b16b-6d56329a38e7"
      },
      "execution_count": null,
      "outputs": [
        {
          "output_type": "execute_result",
          "data": {
            "text/plain": [
              "[6, 22, 23, 44, 55, 56, 64, 78, 88, 99]"
            ]
          },
          "metadata": {},
          "execution_count": 22
        }
      ]
    },
    {
      "cell_type": "code",
      "source": [
        "lst=[22,44,55,64,6,88,99,23,56,78]\n",
        "lst2=[11,22,33]\n",
        "for i in lst2:\n",
        "  for j in lst:\n",
        "    print(i*j)\n"
      ],
      "metadata": {
        "colab": {
          "base_uri": "https://localhost:8080/"
        },
        "id": "NLTwN3BKQ2e1",
        "outputId": "aec0e061-24fb-49d7-e669-a7d1d3d0632b"
      },
      "execution_count": null,
      "outputs": [
        {
          "output_type": "stream",
          "name": "stdout",
          "text": [
            "242\n",
            "484\n",
            "605\n",
            "704\n",
            "66\n",
            "968\n",
            "1089\n",
            "253\n",
            "616\n",
            "858\n",
            "484\n",
            "968\n",
            "1210\n",
            "1408\n",
            "132\n",
            "1936\n",
            "2178\n",
            "506\n",
            "1232\n",
            "1716\n",
            "726\n",
            "1452\n",
            "1815\n",
            "2112\n",
            "198\n",
            "2904\n",
            "3267\n",
            "759\n",
            "1848\n",
            "2574\n"
          ]
        }
      ]
    },
    {
      "cell_type": "code",
      "source": [
        "a=[1,2,3,4,5,6,7]\n",
        "for i in a:\n",
        "  if i==4:\n",
        "    print(i+1)\n",
        "    break"
      ],
      "metadata": {
        "colab": {
          "base_uri": "https://localhost:8080/"
        },
        "id": "AMMQmr-BQ2hk",
        "outputId": "7d61ca1e-3bfb-4b70-f5d5-46ad9199b739"
      },
      "execution_count": null,
      "outputs": [
        {
          "output_type": "stream",
          "name": "stdout",
          "text": [
            "5\n"
          ]
        }
      ]
    },
    {
      "cell_type": "code",
      "source": [
        "while True:\n",
        "  print(\"*******CALCULATOR**********\")\n",
        "  print(\"\\n1.Add\\n2.Sub\\n3.Exit\")\n",
        "  ch=int(input(\"Enter the Choice  :   \"))\n",
        "  if ch==1:\n",
        "    x=int(input(\"Enter First No  : \"))\n",
        "    y=int(input(\"Enter Second No  : \"))\n",
        "    z=x+y\n",
        "    print(\"the result : \",z)\n",
        "  if ch==2:\n",
        "    x=int(input(\"Enter First No  : \"))\n",
        "    y=int(input(\"Enter Second No  : \"))\n",
        "    z=x-y\n",
        "    print(\"the result : \",z)\n",
        "  if ch==3:\n",
        "    exit()\n",
        "\n",
        "    "
      ],
      "metadata": {
        "colab": {
          "base_uri": "https://localhost:8080/",
          "height": 1000
        },
        "id": "Y9ZmJdPSQ2j0",
        "outputId": "92eabb8f-bf44-42e0-cadb-60b5005e6abe"
      },
      "execution_count": null,
      "outputs": [
        {
          "output_type": "stream",
          "name": "stdout",
          "text": [
            "*******CALCULATOR**********\n",
            "\n",
            "1.Add\n",
            "2.Sub\n",
            "3.Exit\n",
            "Enter the Choice  :   1\n",
            "Enter First No  : 5\n",
            "Enter Second No  : 5\n",
            "the result :  10\n",
            "*******CALCULATOR**********\n",
            "\n",
            "1.Add\n",
            "2.Sub\n",
            "3.Exit\n",
            "Enter the Choice  :   2\n",
            "Enter First No  : 44\n",
            "Enter Second No  : 2\n",
            "the result :  42\n",
            "*******CALCULATOR**********\n",
            "\n",
            "1.Add\n",
            "2.Sub\n",
            "3.Exit\n",
            "Enter the Choice  :   1\n",
            "Enter First No  : 55\n",
            "Enter Second No  : 55\n",
            "the result :  110\n",
            "*******CALCULATOR**********\n",
            "\n",
            "1.Add\n",
            "2.Sub\n",
            "3.Exit\n",
            "Enter the Choice  :   3\n",
            "*******CALCULATOR**********\n",
            "\n",
            "1.Add\n",
            "2.Sub\n",
            "3.Exit\n",
            "Enter the Choice  :   3\n",
            "*******CALCULATOR**********\n",
            "\n",
            "1.Add\n",
            "2.Sub\n",
            "3.Exit\n"
          ]
        },
        {
          "output_type": "error",
          "ename": "KeyboardInterrupt",
          "evalue": "ignored",
          "traceback": [
            "\u001b[0;31m---------------------------------------------------------------------------\u001b[0m",
            "\u001b[0;31mKeyboardInterrupt\u001b[0m                         Traceback (most recent call last)",
            "\u001b[0;32m<ipython-input-35-5b6dd2724fc0>\u001b[0m in \u001b[0;36m<module>\u001b[0;34m\u001b[0m\n\u001b[1;32m      2\u001b[0m   \u001b[0mprint\u001b[0m\u001b[0;34m(\u001b[0m\u001b[0;34m\"*******CALCULATOR**********\"\u001b[0m\u001b[0;34m)\u001b[0m\u001b[0;34m\u001b[0m\u001b[0;34m\u001b[0m\u001b[0m\n\u001b[1;32m      3\u001b[0m   \u001b[0mprint\u001b[0m\u001b[0;34m(\u001b[0m\u001b[0;34m\"\\n1.Add\\n2.Sub\\n3.Exit\"\u001b[0m\u001b[0;34m)\u001b[0m\u001b[0;34m\u001b[0m\u001b[0;34m\u001b[0m\u001b[0m\n\u001b[0;32m----> 4\u001b[0;31m   \u001b[0mch\u001b[0m\u001b[0;34m=\u001b[0m\u001b[0mint\u001b[0m\u001b[0;34m(\u001b[0m\u001b[0minput\u001b[0m\u001b[0;34m(\u001b[0m\u001b[0;34m\"Enter the Choice  :   \"\u001b[0m\u001b[0;34m)\u001b[0m\u001b[0;34m)\u001b[0m\u001b[0;34m\u001b[0m\u001b[0;34m\u001b[0m\u001b[0m\n\u001b[0m\u001b[1;32m      5\u001b[0m   \u001b[0;32mif\u001b[0m \u001b[0mch\u001b[0m\u001b[0;34m==\u001b[0m\u001b[0;36m1\u001b[0m\u001b[0;34m:\u001b[0m\u001b[0;34m\u001b[0m\u001b[0;34m\u001b[0m\u001b[0m\n\u001b[1;32m      6\u001b[0m     \u001b[0mx\u001b[0m\u001b[0;34m=\u001b[0m\u001b[0mint\u001b[0m\u001b[0;34m(\u001b[0m\u001b[0minput\u001b[0m\u001b[0;34m(\u001b[0m\u001b[0;34m\"Enter First No  : \"\u001b[0m\u001b[0;34m)\u001b[0m\u001b[0;34m)\u001b[0m\u001b[0;34m\u001b[0m\u001b[0;34m\u001b[0m\u001b[0m\n",
            "\u001b[0;32m/usr/local/lib/python3.7/dist-packages/ipykernel/kernelbase.py\u001b[0m in \u001b[0;36mraw_input\u001b[0;34m(self, prompt)\u001b[0m\n\u001b[1;32m    861\u001b[0m             \u001b[0mself\u001b[0m\u001b[0;34m.\u001b[0m\u001b[0m_parent_ident\u001b[0m\u001b[0;34m,\u001b[0m\u001b[0;34m\u001b[0m\u001b[0;34m\u001b[0m\u001b[0m\n\u001b[1;32m    862\u001b[0m             \u001b[0mself\u001b[0m\u001b[0;34m.\u001b[0m\u001b[0m_parent_header\u001b[0m\u001b[0;34m,\u001b[0m\u001b[0;34m\u001b[0m\u001b[0;34m\u001b[0m\u001b[0m\n\u001b[0;32m--> 863\u001b[0;31m             \u001b[0mpassword\u001b[0m\u001b[0;34m=\u001b[0m\u001b[0;32mFalse\u001b[0m\u001b[0;34m,\u001b[0m\u001b[0;34m\u001b[0m\u001b[0;34m\u001b[0m\u001b[0m\n\u001b[0m\u001b[1;32m    864\u001b[0m         )\n\u001b[1;32m    865\u001b[0m \u001b[0;34m\u001b[0m\u001b[0m\n",
            "\u001b[0;32m/usr/local/lib/python3.7/dist-packages/ipykernel/kernelbase.py\u001b[0m in \u001b[0;36m_input_request\u001b[0;34m(self, prompt, ident, parent, password)\u001b[0m\n\u001b[1;32m    902\u001b[0m             \u001b[0;32mexcept\u001b[0m \u001b[0mKeyboardInterrupt\u001b[0m\u001b[0;34m:\u001b[0m\u001b[0;34m\u001b[0m\u001b[0;34m\u001b[0m\u001b[0m\n\u001b[1;32m    903\u001b[0m                 \u001b[0;31m# re-raise KeyboardInterrupt, to truncate traceback\u001b[0m\u001b[0;34m\u001b[0m\u001b[0;34m\u001b[0m\u001b[0;34m\u001b[0m\u001b[0m\n\u001b[0;32m--> 904\u001b[0;31m                 \u001b[0;32mraise\u001b[0m \u001b[0mKeyboardInterrupt\u001b[0m\u001b[0;34m(\u001b[0m\u001b[0;34m\"Interrupted by user\"\u001b[0m\u001b[0;34m)\u001b[0m \u001b[0;32mfrom\u001b[0m \u001b[0;32mNone\u001b[0m\u001b[0;34m\u001b[0m\u001b[0;34m\u001b[0m\u001b[0m\n\u001b[0m\u001b[1;32m    905\u001b[0m             \u001b[0;32mexcept\u001b[0m \u001b[0mException\u001b[0m \u001b[0;32mas\u001b[0m \u001b[0me\u001b[0m\u001b[0;34m:\u001b[0m\u001b[0;34m\u001b[0m\u001b[0;34m\u001b[0m\u001b[0m\n\u001b[1;32m    906\u001b[0m                 \u001b[0mself\u001b[0m\u001b[0;34m.\u001b[0m\u001b[0mlog\u001b[0m\u001b[0;34m.\u001b[0m\u001b[0mwarning\u001b[0m\u001b[0;34m(\u001b[0m\u001b[0;34m\"Invalid Message:\"\u001b[0m\u001b[0;34m,\u001b[0m \u001b[0mexc_info\u001b[0m\u001b[0;34m=\u001b[0m\u001b[0;32mTrue\u001b[0m\u001b[0;34m)\u001b[0m\u001b[0;34m\u001b[0m\u001b[0;34m\u001b[0m\u001b[0m\n",
            "\u001b[0;31mKeyboardInterrupt\u001b[0m: Interrupted by user"
          ]
        }
      ]
    },
    {
      "cell_type": "code",
      "source": [
        "print(\"1.Admin\\n2.Customer\")\n",
        "ch=int(input(\"Enter your choice  :  \"))\n",
        "if ch==1:\n",
        "  print(\"1.Login\\n2.Signup\")\n",
        "  ch1=int(input(\"Enter your choice   :   \"))\n",
        "  user_name=input(\"Enter the User Id  :    \")\n",
        "  user_pass=input(\"Enter the Password  :   \")\n",
        "  if user_name=='isit'and user_pass=='12345':\n",
        "    print(\"You are login successfull, welcome Indresh,\")\n",
        "  else:\n",
        "    print(\"Wronge ID or Pass please check and try again\")"
      ],
      "metadata": {
        "colab": {
          "base_uri": "https://localhost:8080/"
        },
        "id": "S3R0AL2qilgp",
        "outputId": "1b843bde-e5d9-4464-f3b4-ef919bfaebde"
      },
      "execution_count": null,
      "outputs": [
        {
          "output_type": "stream",
          "name": "stdout",
          "text": [
            "1.Admin\n",
            "2.Customer\n",
            "Enter your choice  :  1\n",
            "1.Login\n",
            "2.Signup\n",
            "Enter your choice   :   1\n",
            "Enter the User Id  :    isitcollege\n",
            "Enter the Password  :   121212\n",
            "Wronge ID or Pass please check and try again\n"
          ]
        }
      ]
    },
    {
      "cell_type": "markdown",
      "source": [
        "02-11-2022 : Loops -> dict"
      ],
      "metadata": {
        "id": "C_bKLe_zeiW9"
      }
    },
    {
      "cell_type": "code",
      "source": [
        "# {key:value,key:value}\n",
        "\n",
        "d={\"pepsi\":80,\"pizza\":150,\"burger\":100,\"userId\":\"indresh517\"}\n",
        "d[\"userId\"]\n",
        "uid=input(\"Enter User Id  :   \")\n",
        "if d[\"userId\"]==uid:\n",
        "  print(\"LogIn Successfull...............\")\n",
        "else:\n",
        "  print(\"Wrong User Id Please Enter Valid User Id\")\n",
        "\n",
        "product=input(\"Enter the Product which you want to buy .... :  \")\n",
        "print(f\"The price of product {d[product]}\")"
      ],
      "metadata": {
        "colab": {
          "base_uri": "https://localhost:8080/"
        },
        "id": "9ZPythiMecon",
        "outputId": "8815a044-ad1f-4783-b624-c2d605b7b699"
      },
      "execution_count": null,
      "outputs": [
        {
          "output_type": "stream",
          "name": "stdout",
          "text": [
            "Enter User Id  :   indresh517\n",
            "LogIn Successfull...............\n",
            "Enter the Product which you want to buy .... :  pepsi\n",
            "The price of product 80\n"
          ]
        }
      ]
    },
    {
      "cell_type": "code",
      "source": [
        "d={\"pepsi\":80,\"pizza\":150,\"burger\":100,\"userId\":\"indresh517\"}\n",
        "d.clear()\n",
        "d"
      ],
      "metadata": {
        "colab": {
          "base_uri": "https://localhost:8080/"
        },
        "id": "MyCbp1EhhVz2",
        "outputId": "062a6637-7347-4c30-a8f1-70fe1b879cfc"
      },
      "execution_count": null,
      "outputs": [
        {
          "output_type": "execute_result",
          "data": {
            "text/plain": [
              "{}"
            ]
          },
          "metadata": {},
          "execution_count": 8
        }
      ]
    },
    {
      "cell_type": "code",
      "source": [
        "d={\"pepsi\":80,\"pizza\":150,\"burger\":100,\"userId\":\"indresh517\"}\n",
        "d['pepsi']=100\n",
        "d"
      ],
      "metadata": {
        "colab": {
          "base_uri": "https://localhost:8080/"
        },
        "id": "AfMbNe9ghWHB",
        "outputId": "81c67b2b-85d5-41d2-f8f7-d43913c4dae4"
      },
      "execution_count": null,
      "outputs": [
        {
          "output_type": "execute_result",
          "data": {
            "text/plain": [
              "{'pepsi': 100, 'pizza': 150, 'burger': 100, 'userId': 'indresh517'}"
            ]
          },
          "metadata": {},
          "execution_count": 9
        }
      ]
    },
    {
      "cell_type": "code",
      "source": [
        "d={\"apple\":50,\"orange\":70}"
      ],
      "metadata": {
        "id": "Iqa8rlvuhWJe"
      },
      "execution_count": null,
      "outputs": []
    },
    {
      "cell_type": "code",
      "source": [
        "car = {\"brand\": ['pepsi','sprite','deo'],\"model\": \"Mustang\",\"year\": 1964,\"model\":\"xyz\"}\n",
        "type(car[\"brand\"])\n",
        "\n",
        "\n"
      ],
      "metadata": {
        "colab": {
          "base_uri": "https://localhost:8080/"
        },
        "id": "gwF37QcyhWMO",
        "outputId": "75b66069-e055-4e57-fe52-17c108a08d47"
      },
      "execution_count": null,
      "outputs": [
        {
          "output_type": "execute_result",
          "data": {
            "text/plain": [
              "list"
            ]
          },
          "metadata": {},
          "execution_count": 37
        }
      ]
    },
    {
      "cell_type": "code",
      "source": [
        "print(\"Enter the student details\")\n",
        "name=input(\"Enter Name  :  \")\n",
        "f_name=input(\"Enter Father Name  :  \")\n",
        "m_name=input(\"Enter Mother Name  :  \")\n",
        "Dob=input(\"Enter Date of Birth  :  \")\n",
        "Address=input(\"Enter Address  :  \")\n",
        "personal_details={\"name\":name,\"father Name\":f_name,\"Mother name\":m_name,\"date of birth\":Dob,\"Address\":Address}\n",
        "personal_details\n"
      ],
      "metadata": {
        "colab": {
          "base_uri": "https://localhost:8080/"
        },
        "id": "omAbZuIbhWOk",
        "outputId": "a18cf006-ca38-4357-c83d-6ad94f4a941a"
      },
      "execution_count": null,
      "outputs": [
        {
          "name": "stdout",
          "output_type": "stream",
          "text": [
            "Enter the student details\n",
            "Enter Name  :  Rahul singh\n",
            "Enter Father Name  :  Mahesh singh\n",
            "Enter Mother Name  :  Maya singh\n",
            "Enter Date of Birth  :  11-11-1995\n",
            "Enter Address  :  khati baba jhansi up\n"
          ]
        },
        {
          "output_type": "execute_result",
          "data": {
            "text/plain": [
              "{'name': 'Rahul singh',\n",
              " 'father Name': 'Mahesh singh',\n",
              " 'Mother name': 'Maya singh',\n",
              " 'date of birth': '11-11-1995',\n",
              " 'Address': 'khati baba jhansi up'}"
            ]
          },
          "metadata": {},
          "execution_count": 36
        }
      ]
    },
    {
      "cell_type": "code",
      "source": [
        "f_name=input(\"Enter name  :  \")\n",
        "conf_f_name=input(\"Enter name to Confirm  : \")\n",
        "if f_name==conf_f_name:\n",
        "  print(\"detail is valid\")\n",
        "else:\n",
        "  print(\"Name and Confirm name doesn't matched please checked and retype again\")"
      ],
      "metadata": {
        "colab": {
          "base_uri": "https://localhost:8080/"
        },
        "id": "TQy74DZIhWRr",
        "outputId": "2e5ab080-1e4c-4e31-990e-d01a59058045"
      },
      "execution_count": null,
      "outputs": [
        {
          "output_type": "stream",
          "name": "stdout",
          "text": [
            "Enter name  :  Indresh\n",
            "Enter name to Confirm  : iNdresh\n",
            "Name and Confirm name doesn't matched please checked and retype again\n"
          ]
        }
      ]
    },
    {
      "cell_type": "markdown",
      "source": [
        "03-11-2022 : loops with Dict"
      ],
      "metadata": {
        "id": "eSwv92r_nHTc"
      }
    },
    {
      "cell_type": "code",
      "source": [],
      "metadata": {
        "colab": {
          "base_uri": "https://localhost:8080/",
          "height": 204
        },
        "id": "nCDwwjDXmaPn",
        "outputId": "80720e9f-877c-4956-9a1b-749860aed21e"
      },
      "execution_count": null,
      "outputs": [
        {
          "output_type": "error",
          "ename": "AttributeError",
          "evalue": "ignored",
          "traceback": [
            "\u001b[0;31m---------------------------------------------------------------------------\u001b[0m",
            "\u001b[0;31mAttributeError\u001b[0m                            Traceback (most recent call last)",
            "\u001b[0;32m<ipython-input-27-1d5dfb7f7a6f>\u001b[0m in \u001b[0;36m<module>\u001b[0;34m\u001b[0m\n\u001b[1;32m      1\u001b[0m \u001b[0mdic\u001b[0m\u001b[0;34m=\u001b[0m\u001b[0;34m{\u001b[0m\u001b[0;34m'name'\u001b[0m\u001b[0;34m:\u001b[0m\u001b[0;34m\"Rahul singh\"\u001b[0m\u001b[0;34m,\u001b[0m\u001b[0;34m\"father name\"\u001b[0m\u001b[0;34m:\u001b[0m\u001b[0;34m\"mahesh singh\"\u001b[0m\u001b[0;34m,\u001b[0m\u001b[0;34m\"mothrer name\"\u001b[0m\u001b[0;34m:\u001b[0m\u001b[0;34m\"rajni Singh\"\u001b[0m\u001b[0;34m}\u001b[0m\u001b[0;34m\u001b[0m\u001b[0;34m\u001b[0m\u001b[0m\n\u001b[1;32m      2\u001b[0m \u001b[0;32mfor\u001b[0m \u001b[0mi\u001b[0m \u001b[0;32min\u001b[0m \u001b[0mdic\u001b[0m\u001b[0;34m:\u001b[0m\u001b[0;34m\u001b[0m\u001b[0;34m\u001b[0m\u001b[0m\n\u001b[0;32m----> 3\u001b[0;31m   \u001b[0mprint\u001b[0m\u001b[0;34m(\u001b[0m\u001b[0mi\u001b[0m\u001b[0;34m.\u001b[0m\u001b[0mkeys\u001b[0m\u001b[0;34m(\u001b[0m\u001b[0;34m)\u001b[0m\u001b[0;34m,\u001b[0m \u001b[0mi\u001b[0m\u001b[0;34m.\u001b[0m\u001b[0mvalues\u001b[0m\u001b[0;34m(\u001b[0m\u001b[0;34m)\u001b[0m\u001b[0;34m)\u001b[0m\u001b[0;34m\u001b[0m\u001b[0;34m\u001b[0m\u001b[0m\n\u001b[0m",
            "\u001b[0;31mAttributeError\u001b[0m: 'str' object has no attribute 'keys'"
          ]
        }
      ]
    },
    {
      "cell_type": "code",
      "source": [
        "a=set(list(tuple(dict({\"name\":\"amit\"}))))\n",
        "type(a)"
      ],
      "metadata": {
        "colab": {
          "base_uri": "https://localhost:8080/"
        },
        "id": "KBIlwHJsmaVn",
        "outputId": "2a383e00-ea48-48ad-ad89-cb7228f54788"
      },
      "execution_count": null,
      "outputs": [
        {
          "output_type": "execute_result",
          "data": {
            "text/plain": [
              "set"
            ]
          },
          "metadata": {},
          "execution_count": 13
        }
      ]
    },
    {
      "cell_type": "code",
      "source": [
        "# true and False -> while, \n",
        "def y(a):\n",
        "  return a**2\n",
        "\n",
        "\n",
        "if x:\n",
        "  print(y(5))\n",
        "else:\n",
        "  print(\"No such function isn't avaiable \")\n"
      ],
      "metadata": {
        "colab": {
          "base_uri": "https://localhost:8080/"
        },
        "id": "Obt3a7H3maYS",
        "outputId": "a11bbff2-3b6a-479a-9712-8ae47a15cc60"
      },
      "execution_count": null,
      "outputs": [
        {
          "output_type": "stream",
          "name": "stdout",
          "text": [
            "No such function isn't avaiable \n"
          ]
        }
      ]
    },
    {
      "cell_type": "code",
      "source": [
        "\n",
        "\n",
        "\n",
        "lst=[1,2,3,4]\n",
        "lst[0]=22\n",
        "lst"
      ],
      "metadata": {
        "colab": {
          "base_uri": "https://localhost:8080/"
        },
        "id": "5F1dtY-Tmavo",
        "outputId": "085d2373-639f-4f9d-a62e-c4b16509d89c"
      },
      "execution_count": null,
      "outputs": [
        {
          "output_type": "execute_result",
          "data": {
            "text/plain": [
              "[22, 2, 3, 4]"
            ]
          },
          "metadata": {},
          "execution_count": 13
        }
      ]
    },
    {
      "cell_type": "code",
      "source": [
        "a=\"isit\"\n",
        "count=1\n",
        "for i in a:\n",
        "  if count==len(a):\n",
        "    print(i,end=\"\")\n",
        "  else:\n",
        "    print(i,end=\"-\")\n",
        "  count+=1"
      ],
      "metadata": {
        "colab": {
          "base_uri": "https://localhost:8080/"
        },
        "id": "cVTJttEOmax6",
        "outputId": "a75e33af-b008-4061-d41e-37cbb0b13281"
      },
      "execution_count": null,
      "outputs": [
        {
          "output_type": "stream",
          "name": "stdout",
          "text": [
            "i-s-i-t"
          ]
        }
      ]
    },
    {
      "cell_type": "code",
      "source": [
        "a=\"isit\"\n",
        "a='super'\n",
        "a"
      ],
      "metadata": {
        "colab": {
          "base_uri": "https://localhost:8080/",
          "height": 36
        },
        "id": "pA84PEd1ma0u",
        "outputId": "71c145c0-fd84-4ca0-ad88-1785defe80c9"
      },
      "execution_count": null,
      "outputs": [
        {
          "output_type": "execute_result",
          "data": {
            "text/plain": [
              "'super'"
            ],
            "application/vnd.google.colaboratory.intrinsic+json": {
              "type": "string"
            }
          },
          "metadata": {},
          "execution_count": 27
        }
      ]
    },
    {
      "cell_type": "code",
      "source": [
        "aa=1,2,3,4,5\n",
        "aa=4,5,6,7,8,9,0\n",
        "aa[0]=55\n",
        "aa"
      ],
      "metadata": {
        "colab": {
          "base_uri": "https://localhost:8080/",
          "height": 222
        },
        "id": "pFS26bqyma4Q",
        "outputId": "0bce4369-1cd0-4ff0-85f5-5d255064f283"
      },
      "execution_count": null,
      "outputs": [
        {
          "output_type": "error",
          "ename": "TypeError",
          "evalue": "ignored",
          "traceback": [
            "\u001b[0;31m---------------------------------------------------------------------------\u001b[0m",
            "\u001b[0;31mTypeError\u001b[0m                                 Traceback (most recent call last)",
            "\u001b[0;32m<ipython-input-31-109178600d29>\u001b[0m in \u001b[0;36m<module>\u001b[0;34m\u001b[0m\n\u001b[1;32m      1\u001b[0m \u001b[0maa\u001b[0m\u001b[0;34m=\u001b[0m\u001b[0;36m1\u001b[0m\u001b[0;34m,\u001b[0m\u001b[0;36m2\u001b[0m\u001b[0;34m,\u001b[0m\u001b[0;36m3\u001b[0m\u001b[0;34m,\u001b[0m\u001b[0;36m4\u001b[0m\u001b[0;34m,\u001b[0m\u001b[0;36m5\u001b[0m\u001b[0;34m\u001b[0m\u001b[0;34m\u001b[0m\u001b[0m\n\u001b[1;32m      2\u001b[0m \u001b[0maa\u001b[0m\u001b[0;34m=\u001b[0m\u001b[0;36m4\u001b[0m\u001b[0;34m,\u001b[0m\u001b[0;36m5\u001b[0m\u001b[0;34m,\u001b[0m\u001b[0;36m6\u001b[0m\u001b[0;34m,\u001b[0m\u001b[0;36m7\u001b[0m\u001b[0;34m,\u001b[0m\u001b[0;36m8\u001b[0m\u001b[0;34m,\u001b[0m\u001b[0;36m9\u001b[0m\u001b[0;34m,\u001b[0m\u001b[0;36m0\u001b[0m\u001b[0;34m\u001b[0m\u001b[0;34m\u001b[0m\u001b[0m\n\u001b[0;32m----> 3\u001b[0;31m \u001b[0maa\u001b[0m\u001b[0;34m[\u001b[0m\u001b[0;36m0\u001b[0m\u001b[0;34m]\u001b[0m\u001b[0;34m=\u001b[0m\u001b[0;36m55\u001b[0m\u001b[0;34m\u001b[0m\u001b[0;34m\u001b[0m\u001b[0m\n\u001b[0m\u001b[1;32m      4\u001b[0m \u001b[0maa\u001b[0m\u001b[0;34m\u001b[0m\u001b[0;34m\u001b[0m\u001b[0m\n",
            "\u001b[0;31mTypeError\u001b[0m: 'tuple' object does not support item assignment"
          ]
        }
      ]
    },
    {
      "cell_type": "markdown",
      "source": [
        "04-11-2022 : if else and loops"
      ],
      "metadata": {
        "id": "MhWkygSqq8Aj"
      }
    },
    {
      "cell_type": "code",
      "source": [
        "# loops in dict\n",
        "dictt={\"pizza\":180,\"pepsi\":80,\"burgar\":70}\n",
        "\n",
        "for key in dictt:\n",
        "  print(\"key=\",key)\n",
        "  print('value=',dictt[key])"
      ],
      "metadata": {
        "colab": {
          "base_uri": "https://localhost:8080/"
        },
        "id": "ckxp861Zq6u9",
        "outputId": "2ea88c9f-3a8b-418c-cf15-2faaad741806"
      },
      "execution_count": null,
      "outputs": [
        {
          "output_type": "stream",
          "name": "stdout",
          "text": [
            "<class 'str'>\n",
            "key= pizza\n",
            "value= 180\n",
            "<class 'str'>\n",
            "key= pepsi\n",
            "value= 80\n",
            "<class 'str'>\n",
            "key= burgar\n",
            "value= 70\n"
          ]
        }
      ]
    },
    {
      "cell_type": "code",
      "source": [
        "dictt={\"pizza\":180,\"pepsi\":80,\"burgar\":70}\n",
        "\n",
        "dictt[\"pizza\"]"
      ],
      "metadata": {
        "colab": {
          "base_uri": "https://localhost:8080/"
        },
        "id": "mD8ib8oGx6jv",
        "outputId": "9d18aec7-de20-4bfa-e52c-eecf6028de45"
      },
      "execution_count": null,
      "outputs": [
        {
          "output_type": "execute_result",
          "data": {
            "text/plain": [
              "180"
            ]
          },
          "metadata": {},
          "execution_count": 20
        }
      ]
    },
    {
      "cell_type": "code",
      "source": [
        "dictt={\"pizza\":180,\"pepsi\":80,\"burgar\":70}\n",
        "for i,j in dictt.items():\n",
        "  print(i,j)"
      ],
      "metadata": {
        "colab": {
          "base_uri": "https://localhost:8080/"
        },
        "id": "VHtvkg3awkwd",
        "outputId": "16f11b40-bf41-479e-bbc9-3ee4ec23eb7e"
      },
      "execution_count": null,
      "outputs": [
        {
          "output_type": "stream",
          "name": "stdout",
          "text": [
            "pizza 180\n",
            "pepsi 80\n",
            "burgar 70\n"
          ]
        }
      ]
    },
    {
      "cell_type": "code",
      "source": [
        "dictt={\"pizza\":180,\"pepsi\":80,\"burgar\":70}\n",
        "for key in dictt.__iter__():\n",
        "  print(key)"
      ],
      "metadata": {
        "colab": {
          "base_uri": "https://localhost:8080/"
        },
        "id": "L6hdDiAAxCqq",
        "outputId": "9280e39f-bb4f-49d1-ef19-3d41d59a2e2d"
      },
      "execution_count": null,
      "outputs": [
        {
          "output_type": "stream",
          "name": "stdout",
          "text": [
            "pizza\n",
            "pepsi\n",
            "burgar\n"
          ]
        }
      ]
    },
    {
      "cell_type": "code",
      "source": [
        "dictt={\"pizza\":180,\"pepsi\":80,\"burgar\":70}\n",
        "dictt.items()"
      ],
      "metadata": {
        "colab": {
          "base_uri": "https://localhost:8080/"
        },
        "id": "L-c6Wenyw1h1",
        "outputId": "37f4e16f-ce3f-402f-d184-7686ab6d9859"
      },
      "execution_count": null,
      "outputs": [
        {
          "output_type": "execute_result",
          "data": {
            "text/plain": [
              "dict_items([('pizza', 180), ('pepsi', 80), ('burgar', 70)])"
            ]
          },
          "metadata": {},
          "execution_count": 15
        }
      ]
    },
    {
      "cell_type": "code",
      "source": [
        "# if\n",
        "# if ladder\n",
        "# if nested\n",
        "# if else\n",
        "# if else nested\n",
        "# elif\n",
        "# elif nested\n"
      ],
      "metadata": {
        "id": "0itWp6g9xERy"
      },
      "execution_count": null,
      "outputs": []
    },
    {
      "cell_type": "code",
      "source": [
        "a=15\n",
        "if a>10:\n",
        "  print(\"a is greater than 10\")\n",
        "if a>13:\n",
        "  print(\"a is greater than 13\")\n",
        "if a>15:\n",
        "  print(\"a is greater than 15\")"
      ],
      "metadata": {
        "colab": {
          "base_uri": "https://localhost:8080/"
        },
        "id": "bpjiBTBuxEUs",
        "outputId": "271748bb-94bb-4e7c-b9bd-35b15cca42c5"
      },
      "execution_count": null,
      "outputs": [
        {
          "output_type": "stream",
          "name": "stdout",
          "text": [
            "a is greater than 10\n",
            "a is greater than 13\n"
          ]
        }
      ]
    },
    {
      "cell_type": "code",
      "source": [
        "a=int(input())\n",
        "if a>10:\n",
        "  if a>12:\n",
        "    if a>14:\n",
        "      print(\"this value is greater than 14\")\n",
        "    else:\n",
        "      print(\"value isn't greater than 14\")\n",
        "  else:\n",
        "    print(\"value isn't greater than 12\")\n",
        "else:\n",
        "  print(\"value isn't greater than 10\")\n"
      ],
      "metadata": {
        "colab": {
          "base_uri": "https://localhost:8080/"
        },
        "id": "0m9z2V2FxEXH",
        "outputId": "73b5957a-ae7c-43ab-ee15-8e5af6513182"
      },
      "execution_count": null,
      "outputs": [
        {
          "output_type": "stream",
          "name": "stdout",
          "text": [
            "9\n",
            "value isn't greater than 10\n"
          ]
        }
      ]
    },
    {
      "cell_type": "code",
      "source": [
        "hindi=int(input(\"Enter hindi marks  :  \"))\n",
        "english=int(input(\"Enter English marks  :  \"))\n",
        "maths=int(input(\"Enter maths marks  :  \"))\n",
        "physics=int(input(\"Enter physics marks  :  \"))\n",
        "chemistry=int(input(\"Enter chemistry marks  :  \"))\n",
        "total=hindi+english+maths+physics+chemistry\n",
        "per=total/5\n",
        "print(\"TOTAL :\",total)\n",
        "print(\"PERCENTAGE : \",per)\n",
        "print(\"DIV : \",end=\"\")\n",
        "if hindi<33 or english<33 or maths<33 or physics<33 or chemistry<33:\n",
        "  print(\"fail\")\n",
        "else:\n",
        "  if per>=60 or per<75:\n",
        "    print(\"First div\")\n",
        "  elif per>=45 or per<60:\n",
        "    print(\"Second Div\")\n",
        "  elif per>=33 or per<45:\n",
        "    print(\"Third Div\")\n",
        "  else:\n",
        "    print(\"fail\")\n"
      ],
      "metadata": {
        "colab": {
          "base_uri": "https://localhost:8080/"
        },
        "id": "Pa_4MMxhxEZw",
        "outputId": "70982d7d-feab-44f0-e9cf-06bbe8609895"
      },
      "execution_count": null,
      "outputs": [
        {
          "output_type": "stream",
          "name": "stdout",
          "text": [
            "Enter hindi marks  :  99\n",
            "Enter English marks  :  99\n",
            "Enter maths marks  :  99\n",
            "Enter physics marks  :  99\n",
            "Enter chemistry marks  :  99\n",
            "TOTAL : 495\n",
            "PERCENTAGE :  99.0\n",
            "DIV : First div\n"
          ]
        }
      ]
    },
    {
      "cell_type": "code",
      "source": [
        "lst=[1,2,3,4]\n",
        "\n",
        "while no True:\n",
        "  key=int(input())\n",
        "  if key==-1:\n",
        "    exit()\n",
        "  else:\n",
        "    if key in lst:\n",
        "      print(\"is in list\")\n",
        "    else:\n",
        "      print(\"isn't in list\")"
      ],
      "metadata": {
        "id": "G4sYB4nhxEcK"
      },
      "execution_count": null,
      "outputs": []
    },
    {
      "cell_type": "code",
      "source": [
        "# for ->fixed length loop\n",
        "# while ->non fixed length loop"
      ],
      "metadata": {
        "id": "aEm2M6D9xEel"
      },
      "execution_count": null,
      "outputs": []
    },
    {
      "cell_type": "code",
      "source": [
        "while True:\n",
        "  if a==10"
      ],
      "metadata": {
        "id": "J-NTURSt9j_A"
      },
      "execution_count": null,
      "outputs": []
    },
    {
      "cell_type": "markdown",
      "source": [
        "05-10-2022 : Strings"
      ],
      "metadata": {
        "id": "gZocHbOD6Xl4"
      }
    },
    {
      "cell_type": "code",
      "source": [
        "round(-0.6)"
      ],
      "metadata": {
        "id": "jGHVOoOO9kEi",
        "colab": {
          "base_uri": "https://localhost:8080/"
        },
        "outputId": "5aba81a4-c51b-4316-836e-3c66e310e957"
      },
      "execution_count": null,
      "outputs": [
        {
          "output_type": "execute_result",
          "data": {
            "text/plain": [
              "-1"
            ]
          },
          "metadata": {},
          "execution_count": 17
        }
      ]
    },
    {
      "cell_type": "code",
      "source": [
        "if(9<0) and (0<-9):\n",
        "  print(\"hello\")\n",
        "elif (9>0) or False:\n",
        "  print(\"good\")\n",
        "else:\n",
        "  print(\"bad\")\n"
      ],
      "metadata": {
        "id": "iSGJAFhd9kHA",
        "colab": {
          "base_uri": "https://localhost:8080/"
        },
        "outputId": "9289638b-0a23-4b0a-b199-e5438a125e39"
      },
      "execution_count": null,
      "outputs": [
        {
          "output_type": "stream",
          "name": "stdout",
          "text": [
            "bad\n"
          ]
        }
      ]
    },
    {
      "cell_type": "code",
      "source": [
        "# String -> Set of char is called string"
      ],
      "metadata": {
        "id": "Ra2ZiYws6lso"
      },
      "execution_count": null,
      "outputs": []
    },
    {
      "cell_type": "code",
      "source": [
        "a=\"ankit is good boy\"\n",
        "\n",
        "for i in range(len(a)):\n",
        "  print(a[i],end=\"\")"
      ],
      "metadata": {
        "colab": {
          "base_uri": "https://localhost:8080/"
        },
        "id": "Vx9FR65n6lvT",
        "outputId": "acab74dd-2f79-4d3c-f96a-23a7897ffc89"
      },
      "execution_count": null,
      "outputs": [
        {
          "output_type": "stream",
          "name": "stdout",
          "text": [
            "ankit is good boy"
          ]
        }
      ]
    },
    {
      "cell_type": "code",
      "source": [
        "a=\"indresh\"\n",
        "a[::-1]"
      ],
      "metadata": {
        "colab": {
          "base_uri": "https://localhost:8080/",
          "height": 36
        },
        "id": "4ohGzX246lxk",
        "outputId": "591bd874-07f9-401d-e164-ec9c39883d45"
      },
      "execution_count": null,
      "outputs": [
        {
          "output_type": "execute_result",
          "data": {
            "text/plain": [
              "'hserdni'"
            ],
            "application/vnd.google.colaboratory.intrinsic+json": {
              "type": "string"
            }
          },
          "metadata": {},
          "execution_count": 37
        }
      ]
    },
    {
      "cell_type": "code",
      "source": [
        "# String Methods\n",
        "\n",
        "a=\"ankit is good boy\"\n",
        "x=a.capitalize()\n",
        "print(\"old string =\",a)\n",
        "print(\"new string =\",x)\n"
      ],
      "metadata": {
        "colab": {
          "base_uri": "https://localhost:8080/"
        },
        "id": "f9SkbwPM6lz6",
        "outputId": "4f30d1eb-95ee-4fc5-a762-658cbf8b2e8b"
      },
      "execution_count": null,
      "outputs": [
        {
          "output_type": "stream",
          "name": "stdout",
          "text": [
            "old string = ankit is good boy\n",
            "new string = Ankit is good boy\n"
          ]
        }
      ]
    },
    {
      "cell_type": "code",
      "source": [
        "txt = \"HEllo, And Welcome To My World!\"\n",
        "x=txt.casefold()\n",
        "\n",
        "print(x)"
      ],
      "metadata": {
        "colab": {
          "base_uri": "https://localhost:8080/"
        },
        "id": "yylP-01V6l2H",
        "outputId": "b0c72613-e6db-4562-892a-f900cec09a07"
      },
      "execution_count": null,
      "outputs": [
        {
          "output_type": "stream",
          "name": "stdout",
          "text": [
            "hello, and welcome to my world!\n"
          ]
        }
      ]
    },
    {
      "cell_type": "code",
      "source": [
        "txt = \"banana\"\n",
        "x=txt.center(97)\n",
        "print(len(x))\n",
        "count=0\n",
        "for i in range(len(x)):\n",
        "  if x=='b':\n",
        "    break\n",
        "  else:\n",
        "    count+=1\n",
        "print(count)"
      ],
      "metadata": {
        "colab": {
          "base_uri": "https://localhost:8080/"
        },
        "id": "jbPvB57J6l4R",
        "outputId": "8c2fe070-febf-47fb-c379-873cd0bb12da"
      },
      "execution_count": null,
      "outputs": [
        {
          "output_type": "stream",
          "name": "stdout",
          "text": [
            "97\n",
            "97\n"
          ]
        }
      ]
    },
    {
      "cell_type": "code",
      "source": [
        "print(\"MAIN MENU\".center(70))\n",
        "print(\"1.login\\n2.sign up\\n3.Exit\")\n",
        "ch=int(input(\"Enter Choice :\".center(30))"
      ],
      "metadata": {
        "colab": {
          "base_uri": "https://localhost:8080/",
          "height": 293
        },
        "id": "8XAcqh9VAdPz",
        "outputId": "68311ea0-08a5-4408-b18b-ce585f3a3d7c"
      },
      "execution_count": null,
      "outputs": [
        {
          "name": "stdout",
          "output_type": "stream",
          "text": [
            "                              MAIN MENU                               \n",
            "1.login\n",
            "2.sign up\n",
            "3.Exit\n",
            "        Enter Choice :        \n"
          ]
        },
        {
          "output_type": "error",
          "ename": "ValueError",
          "evalue": "ignored",
          "traceback": [
            "\u001b[0;31m---------------------------------------------------------------------------\u001b[0m",
            "\u001b[0;31mValueError\u001b[0m                                Traceback (most recent call last)",
            "\u001b[0;32m<ipython-input-61-c2df7d480a92>\u001b[0m in \u001b[0;36m<module>\u001b[0;34m\u001b[0m\n\u001b[1;32m      1\u001b[0m \u001b[0mprint\u001b[0m\u001b[0;34m(\u001b[0m\u001b[0;34m\"MAIN MENU\"\u001b[0m\u001b[0;34m.\u001b[0m\u001b[0mcenter\u001b[0m\u001b[0;34m(\u001b[0m\u001b[0;36m70\u001b[0m\u001b[0;34m)\u001b[0m\u001b[0;34m)\u001b[0m\u001b[0;34m\u001b[0m\u001b[0;34m\u001b[0m\u001b[0m\n\u001b[1;32m      2\u001b[0m \u001b[0mprint\u001b[0m\u001b[0;34m(\u001b[0m\u001b[0;34m\"1.login\\n2.sign up\\n3.Exit\"\u001b[0m\u001b[0;34m)\u001b[0m\u001b[0;34m\u001b[0m\u001b[0;34m\u001b[0m\u001b[0m\n\u001b[0;32m----> 3\u001b[0;31m \u001b[0mch\u001b[0m\u001b[0;34m=\u001b[0m\u001b[0mint\u001b[0m\u001b[0;34m(\u001b[0m\u001b[0minput\u001b[0m\u001b[0;34m(\u001b[0m\u001b[0;34m\"Enter Choice :\"\u001b[0m\u001b[0;34m.\u001b[0m\u001b[0mcenter\u001b[0m\u001b[0;34m(\u001b[0m\u001b[0;36m30\u001b[0m\u001b[0;34m)\u001b[0m\u001b[0;34m)\u001b[0m\u001b[0;34m)\u001b[0m\u001b[0;34m\u001b[0m\u001b[0;34m\u001b[0m\u001b[0m\n\u001b[0m",
            "\u001b[0;31mValueError\u001b[0m: invalid literal for int() with base 10: ''"
          ]
        }
      ]
    },
    {
      "cell_type": "code",
      "source": [
        "a=\"ram is GoOd boy and also he speaks good hindi\"\n",
        "len(a)"
      ],
      "metadata": {
        "colab": {
          "base_uri": "https://localhost:8080/"
        },
        "id": "5_ljnbnSAdR9",
        "outputId": "82335dfb-f5b2-469c-e838-0aa037b8a6a2"
      },
      "execution_count": null,
      "outputs": [
        {
          "output_type": "execute_result",
          "data": {
            "text/plain": [
              "45"
            ]
          },
          "metadata": {},
          "execution_count": 74
        }
      ]
    },
    {
      "cell_type": "code",
      "source": [
        "a='hello'\n",
        "expandtabs(2)"
      ],
      "metadata": {
        "colab": {
          "base_uri": "https://localhost:8080/"
        },
        "id": "gDf0CHvWAdUk",
        "outputId": "2353e05c-a836-40d6-931c-6be083c21e12"
      },
      "execution_count": null,
      "outputs": [
        {
          "output_type": "stream",
          "name": "stdout",
          "text": [
            "\t\thello\n"
          ]
        }
      ]
    },
    {
      "cell_type": "markdown",
      "source": [
        "07-10-2022 : string methods, string list and tuples"
      ],
      "metadata": {
        "id": "cSFZLlvlLBax"
      }
    },
    {
      "cell_type": "code",
      "source": [
        "txt = \"Company123&®\"\n",
        "\n",
        "x = txt.isascii()\n",
        "if x:\n",
        "  print(\"the value is in ASCII table\")\n",
        "else:\n",
        "  print(\"The value isn't ASCII table\")\n"
      ],
      "metadata": {
        "id": "JIlhO9B3AdWn",
        "colab": {
          "base_uri": "https://localhost:8080/"
        },
        "outputId": "cb4f1253-d574-40a2-d997-81e8f899bdce"
      },
      "execution_count": null,
      "outputs": [
        {
          "output_type": "stream",
          "name": "stdout",
          "text": [
            "The value isn't ASCII table\n"
          ]
        }
      ]
    },
    {
      "cell_type": "code",
      "source": [
        "txt = \"0X33\" #unicode for 3\n",
        "\n",
        "x = txt.isdecimal()\n",
        "\n",
        "print(x)\n"
      ],
      "metadata": {
        "colab": {
          "base_uri": "https://localhost:8080/"
        },
        "id": "OBzSqah6LWgM",
        "outputId": "d3e36425-d2fb-4075-8251-c87874826110"
      },
      "execution_count": null,
      "outputs": [
        {
          "output_type": "stream",
          "name": "stdout",
          "text": [
            "False\n"
          ]
        }
      ]
    },
    {
      "cell_type": "code",
      "source": [
        "x=16\n",
        "hex(x)"
      ],
      "metadata": {
        "colab": {
          "base_uri": "https://localhost:8080/",
          "height": 36
        },
        "id": "ndsLssiALWiu",
        "outputId": "61bfd210-2a75-4372-e5bd-8f3f04aed3b7"
      },
      "execution_count": null,
      "outputs": [
        {
          "output_type": "execute_result",
          "data": {
            "text/plain": [
              "'0x10'"
            ],
            "application/vnd.google.colaboratory.intrinsic+json": {
              "type": "string"
            }
          },
          "metadata": {},
          "execution_count": 14
        }
      ]
    },
    {
      "cell_type": "code",
      "source": [
        "txt = \"50800\"\n",
        "\n",
        "x = txt.isdigit()\n",
        "\n",
        "print(x)"
      ],
      "metadata": {
        "colab": {
          "base_uri": "https://localhost:8080/"
        },
        "id": "qjiQn5C5LWlO",
        "outputId": "0eae9f7c-d197-4098-b3b4-fcf822da843f"
      },
      "execution_count": null,
      "outputs": [
        {
          "output_type": "stream",
          "name": "stdout",
          "text": [
            "<class 'str'>\n",
            "False\n"
          ]
        }
      ]
    },
    {
      "cell_type": "code",
      "source": [
        "txt = \"Demo\"\n",
        "\n",
        "x = txt.isidentifier()\n",
        "\n",
        "print(x)"
      ],
      "metadata": {
        "colab": {
          "base_uri": "https://localhost:8080/"
        },
        "id": "QY0EUJzfLWnh",
        "outputId": "54c9b99d-0280-482c-a15f-16c591e8f717"
      },
      "execution_count": null,
      "outputs": [
        {
          "output_type": "stream",
          "name": "stdout",
          "text": [
            "True\n"
          ]
        }
      ]
    },
    {
      "cell_type": "code",
      "source": [
        "txt = \"Hello Sam!\"\n",
        "\n",
        "mytable = txt.maketrans(\"S\", \"P\")\n",
        "\n",
        "print(txt.translate(mytable))\n"
      ],
      "metadata": {
        "colab": {
          "base_uri": "https://localhost:8080/"
        },
        "id": "iGISVI4SLWp-",
        "outputId": "1f83c99f-c592-455a-8d17-84ef92698e71"
      },
      "execution_count": null,
      "outputs": [
        {
          "output_type": "stream",
          "name": "stdout",
          "text": [
            "Hello Pam!\n"
          ]
        }
      ]
    },
    {
      "cell_type": "code",
      "source": [
        "# append, extend, insert\n",
        "\n",
        "lst=[1,2,3,4,5,6,7]\n"
      ],
      "metadata": {
        "id": "7Ppn1ZoLLWsl"
      },
      "execution_count": null,
      "outputs": []
    },
    {
      "cell_type": "code",
      "source": [
        "lst.append(8)\n",
        "lst"
      ],
      "metadata": {
        "colab": {
          "base_uri": "https://localhost:8080/"
        },
        "id": "t6C8VDzHLWuf",
        "outputId": "c32c0544-a8e2-4784-bc63-5be022bb7388"
      },
      "execution_count": null,
      "outputs": [
        {
          "output_type": "execute_result",
          "data": {
            "text/plain": [
              "[1, 2, 3, 4, 5, 6, 7, 8]"
            ]
          },
          "metadata": {},
          "execution_count": 29
        }
      ]
    },
    {
      "cell_type": "code",
      "source": [
        "lst.append(9)\n",
        "lst"
      ],
      "metadata": {
        "colab": {
          "base_uri": "https://localhost:8080/"
        },
        "id": "V7IxxQaALT7i",
        "outputId": "788c0223-079a-4e78-9602-a96e02b5894b"
      },
      "execution_count": null,
      "outputs": [
        {
          "output_type": "execute_result",
          "data": {
            "text/plain": [
              "[1, 2, 3, 4, 5, 6, 7, 8, 9]"
            ]
          },
          "metadata": {},
          "execution_count": 30
        }
      ]
    },
    {
      "cell_type": "code",
      "source": [
        "lst.append([1,2,3])"
      ],
      "metadata": {
        "id": "ertfrR7oLT-G"
      },
      "execution_count": null,
      "outputs": []
    },
    {
      "cell_type": "code",
      "source": [
        "lst"
      ],
      "metadata": {
        "colab": {
          "base_uri": "https://localhost:8080/"
        },
        "id": "vH3HNLwHLUAf",
        "outputId": "18357836-e4d2-4f4e-89af-d600a461024a"
      },
      "execution_count": null,
      "outputs": [
        {
          "output_type": "execute_result",
          "data": {
            "text/plain": [
              "[1, 2, 3, 4, 5, 6, 7]"
            ]
          },
          "metadata": {},
          "execution_count": 35
        }
      ]
    },
    {
      "cell_type": "code",
      "source": [
        "lst.extend([22])\n",
        "lst"
      ],
      "metadata": {
        "colab": {
          "base_uri": "https://localhost:8080/"
        },
        "id": "28DxnXAALUC_",
        "outputId": "b128bd09-a145-4282-8cd8-6742927913a9"
      },
      "execution_count": null,
      "outputs": [
        {
          "output_type": "execute_result",
          "data": {
            "text/plain": [
              "[1, 2, 3, 4, 5, 6, 7, 22]"
            ]
          },
          "metadata": {},
          "execution_count": 38
        }
      ]
    },
    {
      "cell_type": "code",
      "source": [
        "lst=[1,2,3,4,5,6,7]\n",
        "lst2=[7,6,5,4,3,2,1]\n",
        "lst.extend(lst2)\n",
        "lst"
      ],
      "metadata": {
        "colab": {
          "base_uri": "https://localhost:8080/"
        },
        "id": "Ng5Iuek4LUFG",
        "outputId": "282ea702-af70-4f5a-b3e7-e2766f37ba45"
      },
      "execution_count": null,
      "outputs": [
        {
          "output_type": "execute_result",
          "data": {
            "text/plain": [
              "[1, 2, 3, 4, 5, 6, 7, 7, 6, 5, 4, 3, 2, 1]"
            ]
          },
          "metadata": {},
          "execution_count": 39
        }
      ]
    },
    {
      "cell_type": "code",
      "source": [
        "lst.insert(2,55)\n",
        "lst"
      ],
      "metadata": {
        "colab": {
          "base_uri": "https://localhost:8080/"
        },
        "id": "voZRkuE_gvZs",
        "outputId": "b1c40937-3cb1-475b-f930-23b64daf29ce"
      },
      "execution_count": null,
      "outputs": [
        {
          "output_type": "execute_result",
          "data": {
            "text/plain": [
              "[1, 2, 55, 3, 4, 5, 6, 7, 7, 6, 5, 4, 3, 2, 1]"
            ]
          },
          "metadata": {},
          "execution_count": 40
        }
      ]
    },
    {
      "cell_type": "markdown",
      "source": [
        "**08-11-2022 : List, Tuple, Dict**"
      ],
      "metadata": {
        "id": "hZBQvSllRMDK"
      }
    },
    {
      "cell_type": "code",
      "source": [
        "# list\n",
        "# List is a container who stored data\n",
        "\n",
        "# Nested\n",
        "  # list->list\n",
        "  # list->tuple\n",
        "  # list->dict\n",
        "  # list->set\n",
        "a={1,5,6,3,2,4,7,7,7,7,7,7}\n",
        "a"
      ],
      "metadata": {
        "id": "17DbMAERgvcj",
        "colab": {
          "base_uri": "https://localhost:8080/"
        },
        "outputId": "316f80a0-1f21-43ad-e081-941e63948966"
      },
      "execution_count": null,
      "outputs": [
        {
          "output_type": "execute_result",
          "data": {
            "text/plain": [
              "{1, 2, 3, 4, 5, 6, 7}"
            ]
          },
          "metadata": {},
          "execution_count": 16
        }
      ]
    },
    {
      "cell_type": "code",
      "source": [
        "lst=[[\"rahul\",[\"ramesh\",28,\"khati baba\",\"married\"]],[\"amit\",\"kumar\"],[\"vishal\",\"raikwar\"]]\n",
        "c=0\n",
        "for i in lst:\n",
        "  for j in i:\n",
        "    if c==1:\n",
        "      for k in j:\n",
        "        print(k,end=\" \")\n",
        "        c+=1\n",
        "    else:\n",
        "      print(j,end=\"\")\n",
        "      c+=1\n",
        "    print()"
      ],
      "metadata": {
        "id": "Fr0ns36vgvfN",
        "colab": {
          "base_uri": "https://localhost:8080/"
        },
        "outputId": "564851d0-0758-419a-9c27-e5ee42018cb0"
      },
      "execution_count": null,
      "outputs": [
        {
          "output_type": "stream",
          "name": "stdout",
          "text": [
            "rahul\n",
            "ramesh 28 khati baba married \n",
            "amit\n",
            "kumar\n",
            "vishal\n",
            "raikwar\n"
          ]
        }
      ]
    },
    {
      "cell_type": "code",
      "source": [
        "a=[1,2,3,4,6]\n",
        "a[0]\n",
        "type(a[0])"
      ],
      "metadata": {
        "colab": {
          "base_uri": "https://localhost:8080/"
        },
        "id": "x9EnTD_HU7_G",
        "outputId": "83187d3f-0a0e-456f-b0d3-106319772597"
      },
      "execution_count": null,
      "outputs": [
        {
          "output_type": "execute_result",
          "data": {
            "text/plain": [
              "int"
            ]
          },
          "metadata": {},
          "execution_count": 4
        }
      ]
    },
    {
      "cell_type": "code",
      "source": [
        "lst=[(1,2,3,4,5),(11,12,13,14),(22,33,44,55)]\n",
        "#     lst[0]       lst[1]        lst[2]\n",
        "lst[0]=(77,88,99)\n",
        "lst[0][0]=78"
      ],
      "metadata": {
        "colab": {
          "base_uri": "https://localhost:8080/",
          "height": 204
        },
        "id": "SaOpHLfPU8BT",
        "outputId": "0824cd50-0602-4f62-945e-8ffa2525f300"
      },
      "execution_count": null,
      "outputs": [
        {
          "output_type": "error",
          "ename": "TypeError",
          "evalue": "ignored",
          "traceback": [
            "\u001b[0;31m---------------------------------------------------------------------------\u001b[0m",
            "\u001b[0;31mTypeError\u001b[0m                                 Traceback (most recent call last)",
            "\u001b[0;32m<ipython-input-29-842387c7bb91>\u001b[0m in \u001b[0;36m<module>\u001b[0;34m\u001b[0m\n\u001b[1;32m      2\u001b[0m \u001b[0;34m\u001b[0m\u001b[0m\n\u001b[1;32m      3\u001b[0m \u001b[0mlst\u001b[0m\u001b[0;34m[\u001b[0m\u001b[0;36m0\u001b[0m\u001b[0;34m]\u001b[0m\u001b[0;34m=\u001b[0m\u001b[0;34m(\u001b[0m\u001b[0;36m77\u001b[0m\u001b[0;34m,\u001b[0m\u001b[0;36m88\u001b[0m\u001b[0;34m,\u001b[0m\u001b[0;36m99\u001b[0m\u001b[0;34m)\u001b[0m\u001b[0;34m\u001b[0m\u001b[0;34m\u001b[0m\u001b[0m\n\u001b[0;32m----> 4\u001b[0;31m \u001b[0mlst\u001b[0m\u001b[0;34m[\u001b[0m\u001b[0;36m0\u001b[0m\u001b[0;34m]\u001b[0m\u001b[0;34m[\u001b[0m\u001b[0;36m0\u001b[0m\u001b[0;34m]\u001b[0m\u001b[0;34m=\u001b[0m\u001b[0;36m78\u001b[0m\u001b[0;34m\u001b[0m\u001b[0;34m\u001b[0m\u001b[0m\n\u001b[0m",
            "\u001b[0;31mTypeError\u001b[0m: 'tuple' object does not support item assignment"
          ]
        }
      ]
    },
    {
      "cell_type": "code",
      "source": [
        "lst=[[1,2,3,4,5,6],(11,12,13,14),(22,33,44,55)]\n",
        "lst[0][0]=77\n",
        "lst"
      ],
      "metadata": {
        "colab": {
          "base_uri": "https://localhost:8080/"
        },
        "id": "sO3ZrMM8U8Dz",
        "outputId": "324f4852-4816-4744-ad1e-2a21732c60d6"
      },
      "execution_count": null,
      "outputs": [
        {
          "output_type": "execute_result",
          "data": {
            "text/plain": [
              "[[77, 2, 3, 4, 5, 6], (11, 12, 13, 14), (22, 33, 44, 55)]"
            ]
          },
          "metadata": {},
          "execution_count": 30
        }
      ]
    },
    {
      "cell_type": "code",
      "source": [
        "a=(1,2,3,4,5,6)\n",
        "a=(77,88,99,00)\n",
        "a=(22,33,44,555,6666,777777,8888888)"
      ],
      "metadata": {
        "id": "KPxuCP7yU8JF"
      },
      "execution_count": null,
      "outputs": []
    },
    {
      "cell_type": "code",
      "source": [
        "a=[{\"amit\",25,\"Agra\",240011},{28,\"jhansi\",284003,\"amit\"},{28,\"jhansi\",284003,\"sumit\"}]\n",
        "a[0]"
      ],
      "metadata": {
        "colab": {
          "base_uri": "https://localhost:8080/"
        },
        "id": "hXDQvUmbgZdi",
        "outputId": "ec957185-92ed-49a8-8d14-a659e3b29e6d"
      },
      "execution_count": null,
      "outputs": [
        {
          "output_type": "execute_result",
          "data": {
            "text/plain": [
              "{240011, 25, 'Agra', 'amit'}"
            ]
          },
          "metadata": {},
          "execution_count": 80
        }
      ]
    },
    {
      "cell_type": "code",
      "source": [
        "a=[{\"amit\",25,\"Agra\",240011},{28,\"jhansi\",284003,\"amit\"},{28,\"jhansi\",284003,\"sumit\"}]\n",
        "key=input(\"Enter the name which you want to find in list : \")\n",
        "p=0\n",
        "c=0\n",
        "not_on_list=0\n",
        "for i in a:\n",
        "  for j in i:\n",
        "    if j==key:\n",
        "      print(f\"record found in number {p+1}\")\n",
        "      break\n",
        "    else:\n",
        "      if c>0:\n",
        "        print(f\"Key Not On the Set {not_on_list+1}\")\n",
        "        break\n",
        "    c+=1\n",
        "  not_on_list+=1\n",
        "  p+=1\n",
        "\n"
      ],
      "metadata": {
        "colab": {
          "base_uri": "https://localhost:8080/"
        },
        "id": "CADGn52YjS00",
        "outputId": "da3b5dda-ed95-4972-84ed-3db82dc61aff"
      },
      "execution_count": null,
      "outputs": [
        {
          "output_type": "stream",
          "name": "stdout",
          "text": [
            "Enter the name which you want to find in list : amit\n",
            "Key Not On the Set 1\n",
            "Key Not On the Set 2\n",
            "Key Not On the Set 3\n"
          ]
        }
      ]
    },
    {
      "cell_type": "code",
      "source": [
        "lst=[{\"product\":\"Pepsi\",\"price\":50,\"MFD\":\"25-10-2022\",\"exp date\":\"25-11-2022\"},\n",
        "     {\"product\":\"Sprite\",\"price\":60,\"MFD\":\"25-10-2022\",\"exp date\":\"25-11-2022\"}]\n",
        "c=0\n",
        "for i in lst:\n",
        "  print(f\"\\nThis is {c+1} product\\n\")\n",
        "  for j,k in i.items():\n",
        "    print(j,k)\n",
        "  c+=1 # c=c+1"
      ],
      "metadata": {
        "id": "cxotkHTIrW_G",
        "colab": {
          "base_uri": "https://localhost:8080/"
        },
        "outputId": "f49ef024-e753-4175-975d-2dffff287132"
      },
      "execution_count": null,
      "outputs": [
        {
          "output_type": "stream",
          "name": "stdout",
          "text": [
            "\n",
            "This is 1 product\n",
            "\n",
            "product Pepsi\n",
            "price 50\n",
            "MFD 25-10-2022\n",
            "exp date 25-11-2022\n",
            "\n",
            "This is 2 product\n",
            "\n",
            "product Sprite\n",
            "price 60\n",
            "MFD 25-10-2022\n",
            "exp date 25-11-2022\n"
          ]
        }
      ]
    },
    {
      "cell_type": "code",
      "source": [
        "lst[0].items()"
      ],
      "metadata": {
        "colab": {
          "base_uri": "https://localhost:8080/"
        },
        "id": "OM4rscTlfR07",
        "outputId": "1a5fefe1-f530-4ab0-ac90-98a0c93051bf"
      },
      "execution_count": null,
      "outputs": [
        {
          "output_type": "execute_result",
          "data": {
            "text/plain": [
              "dict_items([('product', 'Pepsi'), ('price', 50), ('MFD', '25-10-2022'), ('exp date', '25-11-2022')])"
            ]
          },
          "metadata": {},
          "execution_count": 7
        }
      ]
    },
    {
      "cell_type": "markdown",
      "source": [
        "**09-11-2022 :  tuples and Dict**"
      ],
      "metadata": {
        "id": "gpan1b1VoKMQ"
      }
    },
    {
      "cell_type": "code",
      "source": [
        "# tuples\n",
        "\n",
        "# tuple -> containers who stored data\n",
        "# nested -> \n",
        "  # tuple->list\n",
        "  # tuple->tuple\n",
        "  # tuple->set\n",
        "  # tuple->dict"
      ],
      "metadata": {
        "id": "XLAir66gfR3y"
      },
      "execution_count": null,
      "outputs": []
    },
    {
      "cell_type": "code",
      "source": [
        "# tuple ->list\n",
        "tpl=([1,2,3,4],[6,7,8,9,10])\n",
        "val=int(input(\"Enter the value which you want to insert : \"))\n",
        "new_val=int(input(\"Enter the new value which want to insert given place : \"))\n",
        "\n",
        "c=0\n",
        "for i in tpl:\n",
        "  c1=0 #tpl[0][0],tpl\n",
        "  for j in i:\n",
        "    if j==val:\n",
        "      tpl[c][c1]=new_val\n",
        "      break\n",
        "    c1+=1\n",
        "  c+=1\n",
        "print(tpl)\n",
        "\n"
      ],
      "metadata": {
        "colab": {
          "base_uri": "https://localhost:8080/",
          "height": 276
        },
        "id": "qAlVqwVqfR6c",
        "outputId": "fe030131-69dd-4b2d-b5cf-f7124c9794fa"
      },
      "execution_count": null,
      "outputs": [
        {
          "name": "stdout",
          "output_type": "stream",
          "text": [
            "Enter the value which you want to insert : 6\n",
            "Enter the new value which want to insert given place : 111\n"
          ]
        },
        {
          "output_type": "error",
          "ename": "TypeError",
          "evalue": "ignored",
          "traceback": [
            "\u001b[0;31m---------------------------------------------------------------------------\u001b[0m",
            "\u001b[0;31mTypeError\u001b[0m                                 Traceback (most recent call last)",
            "\u001b[0;32m<ipython-input-33-a2d369b09697>\u001b[0m in \u001b[0;36m<module>\u001b[0;34m\u001b[0m\n\u001b[1;32m      9\u001b[0m   \u001b[0;32mfor\u001b[0m \u001b[0mj\u001b[0m \u001b[0;32min\u001b[0m \u001b[0mi\u001b[0m\u001b[0;34m:\u001b[0m\u001b[0;34m\u001b[0m\u001b[0;34m\u001b[0m\u001b[0m\n\u001b[1;32m     10\u001b[0m     \u001b[0;32mif\u001b[0m \u001b[0mj\u001b[0m\u001b[0;34m==\u001b[0m\u001b[0mval\u001b[0m\u001b[0;34m:\u001b[0m\u001b[0;34m\u001b[0m\u001b[0;34m\u001b[0m\u001b[0m\n\u001b[0;32m---> 11\u001b[0;31m       \u001b[0mtpl\u001b[0m\u001b[0;34m[\u001b[0m\u001b[0mc\u001b[0m\u001b[0;34m]\u001b[0m\u001b[0;34m[\u001b[0m\u001b[0mc1\u001b[0m\u001b[0;34m]\u001b[0m\u001b[0;34m=\u001b[0m\u001b[0mnew_val\u001b[0m\u001b[0;34m\u001b[0m\u001b[0;34m\u001b[0m\u001b[0m\n\u001b[0m\u001b[1;32m     12\u001b[0m       \u001b[0;32mbreak\u001b[0m\u001b[0;34m\u001b[0m\u001b[0;34m\u001b[0m\u001b[0m\n\u001b[1;32m     13\u001b[0m     \u001b[0mc1\u001b[0m\u001b[0;34m+=\u001b[0m\u001b[0;36m1\u001b[0m\u001b[0;34m\u001b[0m\u001b[0;34m\u001b[0m\u001b[0m\n",
            "\u001b[0;31mTypeError\u001b[0m: 'set' object does not support item assignment"
          ]
        }
      ]
    },
    {
      "cell_type": "code",
      "source": [
        "tpl=({1,2,3,4},{6,7,8,9,10})\n",
        "tpl[0][0]=55\n",
        "tpl"
      ],
      "metadata": {
        "colab": {
          "base_uri": "https://localhost:8080/",
          "height": 204
        },
        "id": "rq58CO7PfR9w",
        "outputId": "5c95bb29-05db-493c-89f2-5c531d884ab5"
      },
      "execution_count": null,
      "outputs": [
        {
          "output_type": "error",
          "ename": "TypeError",
          "evalue": "ignored",
          "traceback": [
            "\u001b[0;31m---------------------------------------------------------------------------\u001b[0m",
            "\u001b[0;31mTypeError\u001b[0m                                 Traceback (most recent call last)",
            "\u001b[0;32m<ipython-input-35-5efdb621b6cd>\u001b[0m in \u001b[0;36m<module>\u001b[0;34m\u001b[0m\n\u001b[1;32m      1\u001b[0m \u001b[0mtpl\u001b[0m\u001b[0;34m=\u001b[0m\u001b[0;34m(\u001b[0m\u001b[0;34m{\u001b[0m\u001b[0;36m1\u001b[0m\u001b[0;34m,\u001b[0m\u001b[0;36m2\u001b[0m\u001b[0;34m,\u001b[0m\u001b[0;36m3\u001b[0m\u001b[0;34m,\u001b[0m\u001b[0;36m4\u001b[0m\u001b[0;34m}\u001b[0m\u001b[0;34m,\u001b[0m\u001b[0;34m{\u001b[0m\u001b[0;36m6\u001b[0m\u001b[0;34m,\u001b[0m\u001b[0;36m7\u001b[0m\u001b[0;34m,\u001b[0m\u001b[0;36m8\u001b[0m\u001b[0;34m,\u001b[0m\u001b[0;36m9\u001b[0m\u001b[0;34m,\u001b[0m\u001b[0;36m10\u001b[0m\u001b[0;34m}\u001b[0m\u001b[0;34m)\u001b[0m\u001b[0;34m\u001b[0m\u001b[0;34m\u001b[0m\u001b[0m\n\u001b[0;32m----> 2\u001b[0;31m \u001b[0mtpl\u001b[0m\u001b[0;34m[\u001b[0m\u001b[0;36m0\u001b[0m\u001b[0;34m]\u001b[0m\u001b[0;34m[\u001b[0m\u001b[0;36m0\u001b[0m\u001b[0;34m]\u001b[0m\u001b[0;34m=\u001b[0m\u001b[0;36m55\u001b[0m\u001b[0;34m\u001b[0m\u001b[0;34m\u001b[0m\u001b[0m\n\u001b[0m\u001b[1;32m      3\u001b[0m \u001b[0mtpl\u001b[0m\u001b[0;34m\u001b[0m\u001b[0;34m\u001b[0m\u001b[0m\n",
            "\u001b[0;31mTypeError\u001b[0m: 'set' object does not support item assignment"
          ]
        }
      ]
    },
    {
      "cell_type": "code",
      "source": [
        "sett={1,2,3,4,5}\n",
        "for i in sett:\n",
        "  print(i)"
      ],
      "metadata": {
        "colab": {
          "base_uri": "https://localhost:8080/"
        },
        "id": "7IPEqmxMfR_r",
        "outputId": "45054f6e-5f63-4c42-e321-1883cde466db"
      },
      "execution_count": null,
      "outputs": [
        {
          "output_type": "stream",
          "name": "stdout",
          "text": [
            "1\n",
            "2\n",
            "3\n",
            "4\n",
            "5\n"
          ]
        }
      ]
    },
    {
      "cell_type": "code",
      "source": [
        "# tuple ->list\n",
        "tpl=((1,2,3,4),(6,7,8,9,10))\n",
        "val=int(input(\"Enter the value which you want to insert : \"))\n",
        "new_val=int(input(\"Enter the new value which want to insert given place : \"))\n",
        "\n",
        "c=0\n",
        "for i in tpl:\n",
        "  c1=0 #tpl[0][0],tpl\n",
        "  for j in i:\n",
        "    if j==val:\n",
        "      tpl[c][c1]=new_val\n",
        "      break\n",
        "    c1+=1\n",
        "  c+=1\n",
        "print(tpl)\n"
      ],
      "metadata": {
        "id": "d3jaRODVjS3b",
        "colab": {
          "base_uri": "https://localhost:8080/",
          "height": 276
        },
        "outputId": "d71da63f-fbb3-4710-b26e-aab4c070dc75"
      },
      "execution_count": null,
      "outputs": [
        {
          "name": "stdout",
          "output_type": "stream",
          "text": [
            "Enter the value which you want to insert : 6\n",
            "Enter the new value which want to insert given place : 10\n"
          ]
        },
        {
          "output_type": "error",
          "ename": "TypeError",
          "evalue": "ignored",
          "traceback": [
            "\u001b[0;31m---------------------------------------------------------------------------\u001b[0m",
            "\u001b[0;31mTypeError\u001b[0m                                 Traceback (most recent call last)",
            "\u001b[0;32m<ipython-input-38-800ff1c0bc1b>\u001b[0m in \u001b[0;36m<module>\u001b[0;34m\u001b[0m\n\u001b[1;32m      9\u001b[0m   \u001b[0;32mfor\u001b[0m \u001b[0mj\u001b[0m \u001b[0;32min\u001b[0m \u001b[0mi\u001b[0m\u001b[0;34m:\u001b[0m\u001b[0;34m\u001b[0m\u001b[0;34m\u001b[0m\u001b[0m\n\u001b[1;32m     10\u001b[0m     \u001b[0;32mif\u001b[0m \u001b[0mj\u001b[0m\u001b[0;34m==\u001b[0m\u001b[0mval\u001b[0m\u001b[0;34m:\u001b[0m\u001b[0;34m\u001b[0m\u001b[0;34m\u001b[0m\u001b[0m\n\u001b[0;32m---> 11\u001b[0;31m       \u001b[0mtpl\u001b[0m\u001b[0;34m[\u001b[0m\u001b[0mc\u001b[0m\u001b[0;34m]\u001b[0m\u001b[0;34m[\u001b[0m\u001b[0mc1\u001b[0m\u001b[0;34m]\u001b[0m\u001b[0;34m=\u001b[0m\u001b[0mnew_val\u001b[0m\u001b[0;34m\u001b[0m\u001b[0;34m\u001b[0m\u001b[0m\n\u001b[0m\u001b[1;32m     12\u001b[0m       \u001b[0;32mbreak\u001b[0m\u001b[0;34m\u001b[0m\u001b[0;34m\u001b[0m\u001b[0m\n\u001b[1;32m     13\u001b[0m     \u001b[0mc1\u001b[0m\u001b[0;34m+=\u001b[0m\u001b[0;36m1\u001b[0m\u001b[0;34m\u001b[0m\u001b[0;34m\u001b[0m\u001b[0m\n",
            "\u001b[0;31mTypeError\u001b[0m: 'tuple' object does not support item assignment"
          ]
        }
      ]
    },
    {
      "cell_type": "code",
      "source": [
        "tpl=((1,2,3,4),(6,7,8,9,10))\n",
        "\n",
        "tpl=((11,22,33,44),(55,66,77,88))\n",
        "type(tpl[0][0])"
      ],
      "metadata": {
        "id": "KPd6RfqGjS6C",
        "colab": {
          "base_uri": "https://localhost:8080/"
        },
        "outputId": "cb6a2867-7a14-4043-dbfa-bd6913bba0a4"
      },
      "execution_count": null,
      "outputs": [
        {
          "output_type": "execute_result",
          "data": {
            "text/plain": [
              "int"
            ]
          },
          "metadata": {},
          "execution_count": 44
        }
      ]
    },
    {
      "cell_type": "code",
      "source": [
        "tpl=({\"price\":50,\"brand\":\"pepsi\"},{\"price\":60,\"brand\":\"sprite\"})\n",
        "tpl[1].values()"
      ],
      "metadata": {
        "colab": {
          "base_uri": "https://localhost:8080/"
        },
        "id": "zf8COAIMyWru",
        "outputId": "a9166562-b2e6-418b-e784-8668b15a480f"
      },
      "execution_count": null,
      "outputs": [
        {
          "output_type": "execute_result",
          "data": {
            "text/plain": [
              "dict_values([60, 'sprite'])"
            ]
          },
          "metadata": {},
          "execution_count": 50
        }
      ]
    },
    {
      "cell_type": "markdown",
      "source": [
        "**10-11-2022 : Dict and Set**"
      ],
      "metadata": {
        "id": "H7pyAAzvoBvF"
      }
    },
    {
      "cell_type": "code",
      "source": [
        "# set\n",
        "  # Set-> its arrange values in assending order\n",
        "  #       its print the unique values."
      ],
      "metadata": {
        "id": "NbVwOdBNyW6d"
      },
      "execution_count": null,
      "outputs": []
    },
    {
      "cell_type": "code",
      "source": [
        "a={4,3,11,7,8,5,9,3,6,1,10,111,\"apple\"}\n",
        "a"
      ],
      "metadata": {
        "id": "cOS0RiMoyW9S",
        "colab": {
          "base_uri": "https://localhost:8080/"
        },
        "outputId": "9333703c-f491-467f-d58f-2ecf0ba98a65"
      },
      "execution_count": null,
      "outputs": [
        {
          "output_type": "execute_result",
          "data": {
            "text/plain": [
              "{1, 10, 11, 111, 3, 4, 5, 6, 7, 8, 9, 'apple'}"
            ]
          },
          "metadata": {},
          "execution_count": 28
        }
      ]
    },
    {
      "cell_type": "code",
      "source": [
        "b={True,False,False,True,False}\n",
        "b"
      ],
      "metadata": {
        "colab": {
          "base_uri": "https://localhost:8080/"
        },
        "id": "QpLzUtCbp1PN",
        "outputId": "5aeda166-65e8-4ee2-c95f-4d0142915d6d"
      },
      "execution_count": null,
      "outputs": [
        {
          "output_type": "execute_result",
          "data": {
            "text/plain": [
              "{False, True}"
            ]
          },
          "metadata": {},
          "execution_count": 25
        }
      ]
    },
    {
      "cell_type": "code",
      "source": [
        "a={[2,5,7,3,8,3,2,3],[3,4,6,5,8,6,2,7]}\n",
        "a"
      ],
      "metadata": {
        "colab": {
          "base_uri": "https://localhost:8080/",
          "height": 187
        },
        "id": "TSxH04W-p1Rj",
        "outputId": "8ccc8995-4b7e-4d6b-e005-39e44b33df5e"
      },
      "execution_count": null,
      "outputs": [
        {
          "output_type": "error",
          "ename": "TypeError",
          "evalue": "ignored",
          "traceback": [
            "\u001b[0;31m---------------------------------------------------------------------------\u001b[0m",
            "\u001b[0;31mTypeError\u001b[0m                                 Traceback (most recent call last)",
            "\u001b[0;32m<ipython-input-29-987aee7854e8>\u001b[0m in \u001b[0;36m<module>\u001b[0;34m\u001b[0m\n\u001b[0;32m----> 1\u001b[0;31m \u001b[0ma\u001b[0m\u001b[0;34m=\u001b[0m\u001b[0;34m{\u001b[0m\u001b[0;34m[\u001b[0m\u001b[0;36m2\u001b[0m\u001b[0;34m,\u001b[0m\u001b[0;36m5\u001b[0m\u001b[0;34m,\u001b[0m\u001b[0;36m7\u001b[0m\u001b[0;34m,\u001b[0m\u001b[0;36m3\u001b[0m\u001b[0;34m,\u001b[0m\u001b[0;36m8\u001b[0m\u001b[0;34m,\u001b[0m\u001b[0;36m3\u001b[0m\u001b[0;34m,\u001b[0m\u001b[0;36m2\u001b[0m\u001b[0;34m,\u001b[0m\u001b[0;36m3\u001b[0m\u001b[0;34m]\u001b[0m\u001b[0;34m,\u001b[0m\u001b[0;34m[\u001b[0m\u001b[0;36m3\u001b[0m\u001b[0;34m,\u001b[0m\u001b[0;36m4\u001b[0m\u001b[0;34m,\u001b[0m\u001b[0;36m6\u001b[0m\u001b[0;34m,\u001b[0m\u001b[0;36m5\u001b[0m\u001b[0;34m,\u001b[0m\u001b[0;36m8\u001b[0m\u001b[0;34m,\u001b[0m\u001b[0;36m6\u001b[0m\u001b[0;34m,\u001b[0m\u001b[0;36m2\u001b[0m\u001b[0;34m,\u001b[0m\u001b[0;36m7\u001b[0m\u001b[0;34m]\u001b[0m\u001b[0;34m}\u001b[0m\u001b[0;34m\u001b[0m\u001b[0;34m\u001b[0m\u001b[0m\n\u001b[0m\u001b[1;32m      2\u001b[0m \u001b[0ma\u001b[0m\u001b[0;34m\u001b[0m\u001b[0;34m\u001b[0m\u001b[0m\n",
            "\u001b[0;31mTypeError\u001b[0m: unhashable type: 'list'"
          ]
        }
      ]
    },
    {
      "cell_type": "code",
      "source": [
        "a={(2,5,7,3,8,3,2,3),(3,4,6,5,8,6,2,7)}\n",
        "for i in a:\n",
        "  for j in i:\n",
        "    print(j,end=\" \")\n",
        "  print()"
      ],
      "metadata": {
        "colab": {
          "base_uri": "https://localhost:8080/"
        },
        "id": "b7FHnJsPp1Ub",
        "outputId": "e63ffff6-c520-45e5-9243-1706c8cac00c"
      },
      "execution_count": null,
      "outputs": [
        {
          "output_type": "stream",
          "name": "stdout",
          "text": [
            "2 5 7 3 8 3 2 3 \n",
            "3 4 6 5 8 6 2 7 \n"
          ]
        }
      ]
    },
    {
      "cell_type": "code",
      "source": [
        "a={{\"amit\":3,\"sumit\":7},{\"rakesh\":7,\"vijay\":9}}\n",
        "a"
      ],
      "metadata": {
        "colab": {
          "base_uri": "https://localhost:8080/",
          "height": 187
        },
        "id": "eRNdkgFYp1W0",
        "outputId": "28749414-2718-4f4b-e5bf-88a87a9bacb5"
      },
      "execution_count": null,
      "outputs": [
        {
          "output_type": "error",
          "ename": "TypeError",
          "evalue": "ignored",
          "traceback": [
            "\u001b[0;31m---------------------------------------------------------------------------\u001b[0m",
            "\u001b[0;31mTypeError\u001b[0m                                 Traceback (most recent call last)",
            "\u001b[0;32m<ipython-input-40-9ef1835edc41>\u001b[0m in \u001b[0;36m<module>\u001b[0;34m\u001b[0m\n\u001b[0;32m----> 1\u001b[0;31m \u001b[0ma\u001b[0m\u001b[0;34m=\u001b[0m\u001b[0;34m{\u001b[0m\u001b[0;34m{\u001b[0m\u001b[0;34m\"amit\"\u001b[0m\u001b[0;34m:\u001b[0m\u001b[0;36m3\u001b[0m\u001b[0;34m,\u001b[0m\u001b[0;34m\"sumit\"\u001b[0m\u001b[0;34m:\u001b[0m\u001b[0;36m7\u001b[0m\u001b[0;34m}\u001b[0m\u001b[0;34m,\u001b[0m\u001b[0;34m{\u001b[0m\u001b[0;34m\"rakesh\"\u001b[0m\u001b[0;34m:\u001b[0m\u001b[0;36m7\u001b[0m\u001b[0;34m,\u001b[0m\u001b[0;34m\"vijay\"\u001b[0m\u001b[0;34m:\u001b[0m\u001b[0;36m9\u001b[0m\u001b[0;34m}\u001b[0m\u001b[0;34m}\u001b[0m\u001b[0;34m\u001b[0m\u001b[0;34m\u001b[0m\u001b[0m\n\u001b[0m\u001b[1;32m      2\u001b[0m \u001b[0ma\u001b[0m\u001b[0;34m\u001b[0m\u001b[0;34m\u001b[0m\u001b[0m\n",
            "\u001b[0;31mTypeError\u001b[0m: unhashable type: 'dict'"
          ]
        }
      ]
    },
    {
      "cell_type": "code",
      "source": [
        "#dict\n",
        "\n",
        "a={\"pepsi\":{\"200ml\":20,\"500ml\":40,\"1liter\":55,\"2 liters\":95}}\n",
        "\n",
        "a.items()"
      ],
      "metadata": {
        "id": "Ktp61_xhyW_s",
        "colab": {
          "base_uri": "https://localhost:8080/"
        },
        "outputId": "f03da463-72c7-44fc-d16a-965cbf0b042e"
      },
      "execution_count": null,
      "outputs": [
        {
          "output_type": "execute_result",
          "data": {
            "text/plain": [
              "dict_items([('pepsi', {'200ml': 20, '500ml': 40, '1liter': 55, '2 liters': 95})])"
            ]
          },
          "metadata": {},
          "execution_count": 51
        }
      ]
    },
    {
      "cell_type": "code",
      "source": [
        "a={\"pepsi\":{\"200ml\":20,\"500ml\":40,\"1liter\":55,\"2 liters\":95}}\n",
        "for i,j in a.items():\n",
        "  for k,l in j.items():\n",
        "    print(k,l)\n",
        "\n"
      ],
      "metadata": {
        "colab": {
          "base_uri": "https://localhost:8080/"
        },
        "id": "gcRmk8h0u5-w",
        "outputId": "1ebbe2b0-de93-42f7-804b-2f125a119f0e"
      },
      "execution_count": null,
      "outputs": [
        {
          "output_type": "stream",
          "name": "stdout",
          "text": [
            "200ml 20\n",
            "500ml 40\n",
            "1liter 55\n",
            "2 liters 95\n"
          ]
        }
      ]
    },
    {
      "cell_type": "code",
      "source": [
        "a={\n",
        "    \"South Indian\":{\"Dosa\":{\"planDosa\":100,\"Masala Dosa\":200,\"Paneer Dosa\":400}},\n",
        "    \"pepsi\":{\"200ml\":20,\"500ml\":40,\"1liter\":55,\"2 liters\":95},\n",
        "    \"lays\":{\"25gms\":10,\"50gms\":20,\"200gms\":50}\n",
        "    \n",
        "   }\n",
        "\n",
        "for i,j in a.items():\n",
        "  for k,l in j.items():\n",
        "    for m,n in l.items():\n",
        "      print(m,n)"
      ],
      "metadata": {
        "colab": {
          "base_uri": "https://localhost:8080/",
          "height": 276
        },
        "id": "9MmKkYq1u6MR",
        "outputId": "87bc0ab3-6813-4db7-9931-cb949a183a3d"
      },
      "execution_count": null,
      "outputs": [
        {
          "output_type": "stream",
          "name": "stdout",
          "text": [
            "planDosa 100\n",
            "Masala Dosa 200\n",
            "Paneer Dosa 400\n"
          ]
        },
        {
          "output_type": "error",
          "ename": "AttributeError",
          "evalue": "ignored",
          "traceback": [
            "\u001b[0;31m---------------------------------------------------------------------------\u001b[0m",
            "\u001b[0;31mAttributeError\u001b[0m                            Traceback (most recent call last)",
            "\u001b[0;32m<ipython-input-62-e728c4e7503a>\u001b[0m in \u001b[0;36m<module>\u001b[0;34m\u001b[0m\n\u001b[1;32m      8\u001b[0m \u001b[0;32mfor\u001b[0m \u001b[0mi\u001b[0m\u001b[0;34m,\u001b[0m\u001b[0mj\u001b[0m \u001b[0;32min\u001b[0m \u001b[0ma\u001b[0m\u001b[0;34m.\u001b[0m\u001b[0mitems\u001b[0m\u001b[0;34m(\u001b[0m\u001b[0;34m)\u001b[0m\u001b[0;34m:\u001b[0m\u001b[0;34m\u001b[0m\u001b[0;34m\u001b[0m\u001b[0m\n\u001b[1;32m      9\u001b[0m   \u001b[0;32mfor\u001b[0m \u001b[0mk\u001b[0m\u001b[0;34m,\u001b[0m\u001b[0ml\u001b[0m \u001b[0;32min\u001b[0m \u001b[0mj\u001b[0m\u001b[0;34m.\u001b[0m\u001b[0mitems\u001b[0m\u001b[0;34m(\u001b[0m\u001b[0;34m)\u001b[0m\u001b[0;34m:\u001b[0m\u001b[0;34m\u001b[0m\u001b[0;34m\u001b[0m\u001b[0m\n\u001b[0;32m---> 10\u001b[0;31m     \u001b[0;32mfor\u001b[0m \u001b[0mm\u001b[0m\u001b[0;34m,\u001b[0m\u001b[0mn\u001b[0m \u001b[0;32min\u001b[0m \u001b[0ml\u001b[0m\u001b[0;34m.\u001b[0m\u001b[0mitems\u001b[0m\u001b[0;34m(\u001b[0m\u001b[0;34m)\u001b[0m\u001b[0;34m:\u001b[0m\u001b[0;34m\u001b[0m\u001b[0;34m\u001b[0m\u001b[0m\n\u001b[0m\u001b[1;32m     11\u001b[0m       \u001b[0mprint\u001b[0m\u001b[0;34m(\u001b[0m\u001b[0mm\u001b[0m\u001b[0;34m,\u001b[0m\u001b[0mn\u001b[0m\u001b[0;34m)\u001b[0m\u001b[0;34m\u001b[0m\u001b[0;34m\u001b[0m\u001b[0m\n",
            "\u001b[0;31mAttributeError\u001b[0m: 'int' object has no attribute 'items'"
          ]
        }
      ]
    },
    {
      "cell_type": "code",
      "source": [
        "a={\n",
        "  \"South Indian\":{\"Dosa\":{\"planDosa\":100,\"Masala Dosa\":200,\"Paneer Dosa\":400}}\n",
        "   }\n",
        "\n",
        "for i,j in a.items():\n",
        "  for k,l in j.items():\n",
        "    for m,n in l.items():\n",
        "      print(m,n)"
      ],
      "metadata": {
        "colab": {
          "base_uri": "https://localhost:8080/"
        },
        "id": "VkyCnc1g0Vkt",
        "outputId": "b88fc57d-dca8-49a9-f13f-b6ef3b9caf03"
      },
      "execution_count": null,
      "outputs": [
        {
          "output_type": "stream",
          "name": "stdout",
          "text": [
            "planDosa 100\n",
            "Masala Dosa 200\n",
            "Paneer Dosa 400\n"
          ]
        }
      ]
    },
    {
      "cell_type": "code",
      "source": [
        "a={\n",
        "  \"South Indian\":[\"Dosa\",{\"planDosa\":100,\"Masala Dosa\":200,\"Paneer Dosa\":400}]\n",
        "   }\n",
        "a[\"South Indian\"][1].items()"
      ],
      "metadata": {
        "colab": {
          "base_uri": "https://localhost:8080/"
        },
        "id": "QPd5sRGZ2Auw",
        "outputId": "bf3f68b1-b2ce-4f25-be6c-f7cb2e4307de"
      },
      "execution_count": null,
      "outputs": [
        {
          "output_type": "execute_result",
          "data": {
            "text/plain": [
              "dict_items([('planDosa', 100), ('Masala Dosa', 200), ('Paneer Dosa', 400)])"
            ]
          },
          "metadata": {},
          "execution_count": 66
        }
      ]
    },
    {
      "cell_type": "code",
      "source": [
        "[(1,2,3),(1,8,27)]"
      ],
      "metadata": {
        "id": "FTX1i0362KIR"
      },
      "execution_count": null,
      "outputs": []
    },
    {
      "cell_type": "code",
      "source": [
        "cars = [5,7,2,3,69,7,8,5,4]\n",
        "\n",
        "cars.sort()\n",
        "cars"
      ],
      "metadata": {
        "colab": {
          "base_uri": "https://localhost:8080/"
        },
        "id": "NahHLgdlx2Lx",
        "outputId": "de39bab8-2357-40d2-d2df-3e307b8b1b07"
      },
      "execution_count": null,
      "outputs": [
        {
          "output_type": "execute_result",
          "data": {
            "text/plain": [
              "[2, 3, 4, 5, 5, 7, 7, 8, 69]"
            ]
          },
          "metadata": {},
          "execution_count": 2
        }
      ]
    },
    {
      "cell_type": "markdown",
      "source": [
        "**11-11-22: Function**"
      ],
      "metadata": {
        "id": "oeprydZtyhk7"
      }
    },
    {
      "cell_type": "code",
      "source": [
        "a=input(\"Enter first no :\")\n",
        "b=int(input(\"Enter first no :\"))\n",
        "print(a*b)\n",
        "print(\"the type of value a\",type(a))"
      ],
      "metadata": {
        "colab": {
          "base_uri": "https://localhost:8080/"
        },
        "id": "kzJ77Yc3x2Oa",
        "outputId": "b4d18ac4-944e-4684-fef3-630256b12e0a"
      },
      "execution_count": null,
      "outputs": [
        {
          "output_type": "stream",
          "name": "stdout",
          "text": [
            "Enter first no :-\n",
            "Enter first no :50\n",
            "--------------------------------------------------\n",
            "the type of value a <class 'str'>\n"
          ]
        }
      ]
    },
    {
      "cell_type": "code",
      "source": [
        "print(\"-\"*50)\n",
        "print(\"|              ***CALCULATOR***                  |\")\n",
        "print(\"-\"*50)\n"
      ],
      "metadata": {
        "colab": {
          "base_uri": "https://localhost:8080/"
        },
        "id": "KZHJtIzax2Q-",
        "outputId": "4cea8205-ad49-4cec-b1a3-bc9df7aa2456"
      },
      "execution_count": null,
      "outputs": [
        {
          "output_type": "stream",
          "name": "stdout",
          "text": [
            "--------------------------------------------------\n",
            "|              ***CALCULATOR***                  |\n",
            "--------------------------------------------------\n"
          ]
        }
      ]
    },
    {
      "cell_type": "code",
      "source": [
        "# for loop\n",
        "# while loop"
      ],
      "metadata": {
        "id": "bvB_8aLRx2T8"
      },
      "execution_count": null,
      "outputs": []
    },
    {
      "cell_type": "code",
      "source": [
        "a=0\n",
        "while a!=-1:\n",
        "  a=int(input(\"Enter a no : \"))\n",
        "  print(f\"Your given No is {a} please enter -1 to exit while loop\")\n",
        "  "
      ],
      "metadata": {
        "colab": {
          "base_uri": "https://localhost:8080/"
        },
        "id": "FMFNRqR_x2Wc",
        "outputId": "1672f0ff-3694-496e-e390-707a578526d7"
      },
      "execution_count": null,
      "outputs": [
        {
          "output_type": "stream",
          "name": "stdout",
          "text": [
            "Enter a no : 88\n",
            "Your given No is 88 please enter -1 to exit while loop\n",
            "Enter a no : 44\n",
            "Your given No is 44 please enter -1 to exit while loop\n",
            "Enter a no : 6\n",
            "Your given No is 6 please enter -1 to exit while loop\n",
            "Enter a no : 22\n",
            "Your given No is 22 please enter -1 to exit while loop\n",
            "Enter a no : 333\n",
            "Your given No is 333 please enter -1 to exit while loop\n",
            "Enter a no : 77\n",
            "Your given No is 77 please enter -1 to exit while loop\n",
            "Enter a no : 565\n",
            "Your given No is 565 please enter -1 to exit while loop\n",
            "Enter a no : -1\n",
            "Your given No is -1 please enter -1 to exit while loop\n"
          ]
        }
      ]
    },
    {
      "cell_type": "code",
      "source": [
        "\n",
        "for i in range(100,50,-2):\n",
        "  print(i,end=\" \")"
      ],
      "metadata": {
        "colab": {
          "base_uri": "https://localhost:8080/"
        },
        "id": "nX68Mfi4x2z8",
        "outputId": "eccfedbb-7be7-4ecb-8466-9298f1eed1f0"
      },
      "execution_count": null,
      "outputs": [
        {
          "output_type": "stream",
          "name": "stdout",
          "text": [
            "100 98 96 94 92 90 88 86 84 82 80 78 76 74 72 70 68 66 64 62 60 58 56 54 52 "
          ]
        }
      ]
    },
    {
      "cell_type": "code",
      "source": [
        "for i in range(1,11):\n",
        "  for j in range(1,11):\n",
        "    print(j,end=' ')\n",
        "  print()"
      ],
      "metadata": {
        "colab": {
          "base_uri": "https://localhost:8080/"
        },
        "id": "8uSGnwDnx23b",
        "outputId": "ff730ca3-2101-40d5-dfa3-9270cc17e813"
      },
      "execution_count": null,
      "outputs": [
        {
          "output_type": "stream",
          "name": "stdout",
          "text": [
            "1 2 3 4 5 6 7 8 9 10 \n",
            "1 2 3 4 5 6 7 8 9 10 \n",
            "1 2 3 4 5 6 7 8 9 10 \n",
            "1 2 3 4 5 6 7 8 9 10 \n",
            "1 2 3 4 5 6 7 8 9 10 \n",
            "1 2 3 4 5 6 7 8 9 10 \n",
            "1 2 3 4 5 6 7 8 9 10 \n",
            "1 2 3 4 5 6 7 8 9 10 \n",
            "1 2 3 4 5 6 7 8 9 10 \n",
            "1 2 3 4 5 6 7 8 9 10 \n"
          ]
        }
      ]
    },
    {
      "cell_type": "code",
      "source": [
        "# function -> Grouping the similar code is function\n",
        "# calculator -> sum, sub, multi, div, floordiv, sqrt, pow, \n"
      ],
      "metadata": {
        "id": "nwKL4mmO531R"
      },
      "execution_count": null,
      "outputs": []
    },
    {
      "cell_type": "code",
      "source": [
        "def sum(x,y):\n",
        "  return x+y\n",
        "def sub(x,y):\n",
        "  return x-y\n",
        "\n",
        "sub(2,4)"
      ],
      "metadata": {
        "colab": {
          "base_uri": "https://localhost:8080/"
        },
        "id": "AkCWQvq4533x",
        "outputId": "b5ddb76c-c8ff-4226-d0cb-437d726ff668"
      },
      "execution_count": null,
      "outputs": [
        {
          "output_type": "execute_result",
          "data": {
            "text/plain": [
              "-2"
            ]
          },
          "metadata": {},
          "execution_count": 35
        }
      ]
    },
    {
      "cell_type": "code",
      "source": [
        "def IsNegative(x=True):\n",
        "  if x<0:\n",
        "    return \"Negative\"\n",
        "  else:\n",
        "    return \"Positive\""
      ],
      "metadata": {
        "id": "doflIGw0536N"
      },
      "execution_count": null,
      "outputs": []
    },
    {
      "cell_type": "code",
      "source": [
        "IsNegative(-55)"
      ],
      "metadata": {
        "colab": {
          "base_uri": "https://localhost:8080/",
          "height": 36
        },
        "id": "a664dKJ-538b",
        "outputId": "fc68ccc4-ae55-47e0-dcf5-a9280c4c237c"
      },
      "execution_count": null,
      "outputs": [
        {
          "output_type": "execute_result",
          "data": {
            "text/plain": [
              "'Negative'"
            ],
            "application/vnd.google.colaboratory.intrinsic+json": {
              "type": "string"
            }
          },
          "metadata": {},
          "execution_count": 49
        }
      ]
    },
    {
      "cell_type": "code",
      "source": [
        "def sum():\n",
        "  x=int(input(\"Enter First No : \"))\n",
        "  y=int(input(\"Enter Second No : \"))\n",
        "  c=x+y\n",
        "  return c\n",
        "def sub(x,y):\n",
        "  return x-y\n",
        "def multi(x,y):\n",
        "  return x*y\n",
        "def div(x,y):\n",
        "  return x/y\n",
        "def pow(x,y):\n",
        "  return x**y\n",
        "def square(x):\n",
        "  return x*x\n",
        "def max(x,y):\n",
        "  if x>y:\n",
        "    return f\"{x} is greater than {y}\"\n",
        "  else:\n",
        "    return f\"{y} is greater than {x}\"\n",
        "ch=0    \n",
        "while ch!=8:\n",
        "  print('''*************CALCULATOR***************\n",
        "    [1.] Add\n",
        "    [2.] Sub\n",
        "    [3.] Multi\n",
        "    [4.] Div\n",
        "    [5.] Pow\n",
        "    [6.] Square\n",
        "    [7.] max\n",
        "    [8.] Exit''')\n",
        "  ch=int(input(\"Enter your Choice  :  \"))\n",
        "  if ch!=8 and ch!=1:\n",
        "    a=int(input(\"Enter First No  :  \"))\n",
        "    b=int(input(\"Enter Second No  :  \"))\n",
        "  if ch==1:\n",
        "    print(\"The sum of two nos\",sum())\n",
        "  if ch==2:\n",
        "    print(\"The sub of two nos\",sub(a,b))\n",
        "  if ch==3:\n",
        "    print(\"The multiply of two nos\",multi(a,b))\n",
        "  if ch==4:\n",
        "    print(\"The division of two nos\",div(a,b))\n",
        "  if ch==5:\n",
        "    print(\"The power[x,y] of two nos\",pow(a,b))\n",
        "  if ch==6:\n",
        "    print(\"The square of two nos\",square(a))\n",
        "  if ch==7:\n",
        "    print(\"The max of two nos\",max(a,b))"
      ],
      "metadata": {
        "colab": {
          "base_uri": "https://localhost:8080/",
          "height": 567
        },
        "id": "78Jza-Ul53-9",
        "outputId": "ceeb331a-0ea2-4a50-e582-be5568a657a2"
      },
      "execution_count": null,
      "outputs": [
        {
          "output_type": "stream",
          "name": "stdout",
          "text": [
            "*************CALCULATOR***************\n",
            "    [1.] Add\n",
            "    [2.] Sub\n",
            "    [3.] Multi\n",
            "    [4.] Div\n",
            "    [5.] Pow\n",
            "    [6.] Square\n",
            "    [7.] max\n",
            "    [8.] Exit\n"
          ]
        },
        {
          "output_type": "error",
          "ename": "KeyboardInterrupt",
          "evalue": "ignored",
          "traceback": [
            "\u001b[0;31m---------------------------------------------------------------------------\u001b[0m",
            "\u001b[0;31mKeyboardInterrupt\u001b[0m                         Traceback (most recent call last)",
            "\u001b[0;32m<ipython-input-61-0111d20566cb>\u001b[0m in \u001b[0;36m<module>\u001b[0;34m\u001b[0m\n\u001b[1;32m     30\u001b[0m     \u001b[0;34m[\u001b[0m\u001b[0;36m7.\u001b[0m\u001b[0;34m]\u001b[0m \u001b[0mmax\u001b[0m\u001b[0;34m\u001b[0m\u001b[0;34m\u001b[0m\u001b[0m\n\u001b[1;32m     31\u001b[0m     [8.] Exit''')\n\u001b[0;32m---> 32\u001b[0;31m   \u001b[0mch\u001b[0m\u001b[0;34m=\u001b[0m\u001b[0mint\u001b[0m\u001b[0;34m(\u001b[0m\u001b[0minput\u001b[0m\u001b[0;34m(\u001b[0m\u001b[0;34m\"Enter your Choice  :  \"\u001b[0m\u001b[0;34m)\u001b[0m\u001b[0;34m)\u001b[0m\u001b[0;34m\u001b[0m\u001b[0;34m\u001b[0m\u001b[0m\n\u001b[0m\u001b[1;32m     33\u001b[0m   \u001b[0;32mif\u001b[0m \u001b[0mch\u001b[0m\u001b[0;34m!=\u001b[0m\u001b[0;36m8\u001b[0m \u001b[0;32mand\u001b[0m \u001b[0mch\u001b[0m\u001b[0;34m!=\u001b[0m\u001b[0;36m1\u001b[0m\u001b[0;34m:\u001b[0m\u001b[0;34m\u001b[0m\u001b[0;34m\u001b[0m\u001b[0m\n\u001b[1;32m     34\u001b[0m     \u001b[0ma\u001b[0m\u001b[0;34m=\u001b[0m\u001b[0mint\u001b[0m\u001b[0;34m(\u001b[0m\u001b[0minput\u001b[0m\u001b[0;34m(\u001b[0m\u001b[0;34m\"Enter First No  :  \"\u001b[0m\u001b[0;34m)\u001b[0m\u001b[0;34m)\u001b[0m\u001b[0;34m\u001b[0m\u001b[0;34m\u001b[0m\u001b[0m\n",
            "\u001b[0;32m/usr/local/lib/python3.7/dist-packages/ipykernel/kernelbase.py\u001b[0m in \u001b[0;36mraw_input\u001b[0;34m(self, prompt)\u001b[0m\n\u001b[1;32m    861\u001b[0m             \u001b[0mself\u001b[0m\u001b[0;34m.\u001b[0m\u001b[0m_parent_ident\u001b[0m\u001b[0;34m,\u001b[0m\u001b[0;34m\u001b[0m\u001b[0;34m\u001b[0m\u001b[0m\n\u001b[1;32m    862\u001b[0m             \u001b[0mself\u001b[0m\u001b[0;34m.\u001b[0m\u001b[0m_parent_header\u001b[0m\u001b[0;34m,\u001b[0m\u001b[0;34m\u001b[0m\u001b[0;34m\u001b[0m\u001b[0m\n\u001b[0;32m--> 863\u001b[0;31m             \u001b[0mpassword\u001b[0m\u001b[0;34m=\u001b[0m\u001b[0;32mFalse\u001b[0m\u001b[0;34m,\u001b[0m\u001b[0;34m\u001b[0m\u001b[0;34m\u001b[0m\u001b[0m\n\u001b[0m\u001b[1;32m    864\u001b[0m         )\n\u001b[1;32m    865\u001b[0m \u001b[0;34m\u001b[0m\u001b[0m\n",
            "\u001b[0;32m/usr/local/lib/python3.7/dist-packages/ipykernel/kernelbase.py\u001b[0m in \u001b[0;36m_input_request\u001b[0;34m(self, prompt, ident, parent, password)\u001b[0m\n\u001b[1;32m    902\u001b[0m             \u001b[0;32mexcept\u001b[0m \u001b[0mKeyboardInterrupt\u001b[0m\u001b[0;34m:\u001b[0m\u001b[0;34m\u001b[0m\u001b[0;34m\u001b[0m\u001b[0m\n\u001b[1;32m    903\u001b[0m                 \u001b[0;31m# re-raise KeyboardInterrupt, to truncate traceback\u001b[0m\u001b[0;34m\u001b[0m\u001b[0;34m\u001b[0m\u001b[0;34m\u001b[0m\u001b[0m\n\u001b[0;32m--> 904\u001b[0;31m                 \u001b[0;32mraise\u001b[0m \u001b[0mKeyboardInterrupt\u001b[0m\u001b[0;34m(\u001b[0m\u001b[0;34m\"Interrupted by user\"\u001b[0m\u001b[0;34m)\u001b[0m \u001b[0;32mfrom\u001b[0m \u001b[0;32mNone\u001b[0m\u001b[0;34m\u001b[0m\u001b[0;34m\u001b[0m\u001b[0m\n\u001b[0m\u001b[1;32m    905\u001b[0m             \u001b[0;32mexcept\u001b[0m \u001b[0mException\u001b[0m \u001b[0;32mas\u001b[0m \u001b[0me\u001b[0m\u001b[0;34m:\u001b[0m\u001b[0;34m\u001b[0m\u001b[0;34m\u001b[0m\u001b[0m\n\u001b[1;32m    906\u001b[0m                 \u001b[0mself\u001b[0m\u001b[0;34m.\u001b[0m\u001b[0mlog\u001b[0m\u001b[0;34m.\u001b[0m\u001b[0mwarning\u001b[0m\u001b[0;34m(\u001b[0m\u001b[0;34m\"Invalid Message:\"\u001b[0m\u001b[0;34m,\u001b[0m \u001b[0mexc_info\u001b[0m\u001b[0;34m=\u001b[0m\u001b[0;32mTrue\u001b[0m\u001b[0;34m)\u001b[0m\u001b[0;34m\u001b[0m\u001b[0;34m\u001b[0m\u001b[0m\n",
            "\u001b[0;31mKeyboardInterrupt\u001b[0m: Interrupted by user"
          ]
        }
      ]
    },
    {
      "cell_type": "code",
      "source": [
        "n1, n2 = 0,1\n",
        "print(\"fibonacci Series: \", n1,n2,end=\" \")\n",
        "for i in range(1,9):\n",
        "  n3=n1+n2\n",
        "  n1=n2\n",
        "  n2=n3\n",
        "  print(n3, end=\" \")"
      ],
      "metadata": {
        "colab": {
          "base_uri": "https://localhost:8080/"
        },
        "id": "ej-cKJaG54A9",
        "outputId": "b29c8381-4241-4026-da64-94fc7eaf2362"
      },
      "execution_count": null,
      "outputs": [
        {
          "output_type": "stream",
          "name": "stdout",
          "text": [
            "fibonacci Series:  0 1 1 2 3 5 8 13 21 34 "
          ]
        }
      ]
    },
    {
      "cell_type": "markdown",
      "source": [
        "**12-11-2022 : function -2**"
      ],
      "metadata": {
        "id": "LXwtqQYP7e9l"
      }
    },
    {
      "cell_type": "code",
      "source": [
        "def fcn():\n",
        "  return val\n",
        "\n",
        "def a():\n",
        "  return val\n",
        "\n",
        "val=20\n",
        "print(fcn())\n",
        "print(a())\n",
        "\n",
        "\n"
      ],
      "metadata": {
        "colab": {
          "base_uri": "https://localhost:8080/"
        },
        "id": "Bn1CKUbG7d9V",
        "outputId": "92862d00-b680-460e-93db-b9affbeda214"
      },
      "execution_count": null,
      "outputs": [
        {
          "output_type": "stream",
          "name": "stdout",
          "text": [
            "20\n",
            "20\n"
          ]
        }
      ]
    },
    {
      "cell_type": "code",
      "source": [
        "a=10\n",
        "b=20\n",
        "a"
      ],
      "metadata": {
        "colab": {
          "base_uri": "https://localhost:8080/"
        },
        "id": "4jZeofyehdP9",
        "outputId": "2d68e63c-e70b-4e43-b1cc-3fdf5f670c37"
      },
      "execution_count": null,
      "outputs": [
        {
          "output_type": "execute_result",
          "data": {
            "text/plain": [
              "10"
            ]
          },
          "metadata": {},
          "execution_count": 61
        }
      ]
    },
    {
      "cell_type": "code",
      "source": [
        "# Scope of variable\n",
        "  # local variable->  use with in function or main function\n",
        "  # Global Variable -> use in any function \n"
      ],
      "metadata": {
        "id": "DqjqZgX_7eAy"
      },
      "execution_count": null,
      "outputs": []
    },
    {
      "cell_type": "code",
      "source": [
        "def function():\n",
        "  print(val)\n",
        "  return val\n",
        "\n",
        "val=20\n",
        "print(val)\n",
        "if True:\n",
        "  val=50\n",
        "  print(val)\n",
        "print(val)\n",
        "function()"
      ],
      "metadata": {
        "colab": {
          "base_uri": "https://localhost:8080/"
        },
        "id": "HD0wAH0Q7eDq",
        "outputId": "a5536818-a597-4627-ada5-62b8095f7292"
      },
      "execution_count": null,
      "outputs": [
        {
          "output_type": "stream",
          "name": "stdout",
          "text": [
            "20\n",
            "50\n",
            "50\n",
            "50\n"
          ]
        },
        {
          "output_type": "execute_result",
          "data": {
            "text/plain": [
              "50"
            ]
          },
          "metadata": {},
          "execution_count": 14
        }
      ]
    },
    {
      "cell_type": "code",
      "source": [
        "def swap():\n",
        "  print(val)\n",
        "def sum():\n",
        "  print(val)\n",
        "\n",
        "\n",
        "global val\n",
        "val=50\n",
        "swap()\n",
        "sum()"
      ],
      "metadata": {
        "colab": {
          "base_uri": "https://localhost:8080/"
        },
        "id": "BnAmS0Qu7eGT",
        "outputId": "61d0e871-9cb9-43aa-af80-3f5dc8cb524a"
      },
      "execution_count": null,
      "outputs": [
        {
          "output_type": "stream",
          "name": "stdout",
          "text": [
            "50\n",
            "50\n"
          ]
        }
      ]
    },
    {
      "cell_type": "code",
      "source": [
        "def fcn():\n",
        "  return val\n",
        "\n",
        "def a():\n",
        "  return val\n",
        "\n",
        "val=20\n",
        "print(fcn())\n",
        "print(a())"
      ],
      "metadata": {
        "id": "07L4GnoG7eMt"
      },
      "execution_count": null,
      "outputs": []
    },
    {
      "cell_type": "code",
      "source": [
        "def divby2(x=0):\n",
        "  if x==0:\n",
        "    return \"the default value is zero\"\n",
        "  else:\n",
        "    return x/2\n",
        "\n",
        "divby2(55)"
      ],
      "metadata": {
        "id": "k6wkmAy57ePR",
        "colab": {
          "base_uri": "https://localhost:8080/"
        },
        "outputId": "a77b6d23-4c1d-4902-e5f3-d256c4220db8"
      },
      "execution_count": null,
      "outputs": [
        {
          "output_type": "execute_result",
          "data": {
            "text/plain": [
              "27.5"
            ]
          },
          "metadata": {},
          "execution_count": 63
        }
      ]
    },
    {
      "cell_type": "code",
      "source": [
        "def intro(*intr):#((\"sumit\",\"ankit\",\"khati baba\",\"284003\",20,5000]),\n",
        "  for i in intr: #([\"vijay\",\"mahesh\",\"khati baba\",\"284003\",25,25000]))\n",
        "    for j in i:\n",
        "      print(j,end=\" \")\n",
        "    print()\n",
        "    \n",
        "\n",
        "\n",
        "intro([\"sumit\",\"ankit\",\"khati baba\",\"284003\",20,5000],[\"vijay\",\"mahesh\",\"khati baba\",\"284003\",25,25000])"
      ],
      "metadata": {
        "id": "zj3PEVQGO5CT",
        "colab": {
          "base_uri": "https://localhost:8080/"
        },
        "outputId": "cdad79ab-2988-4796-a4f8-4b8b698aa3df"
      },
      "execution_count": null,
      "outputs": [
        {
          "output_type": "stream",
          "name": "stdout",
          "text": [
            "sumit ankit khati baba 284003 20 5000 \n",
            "vijay mahesh khati baba 284003 25 25000 \n"
          ]
        }
      ]
    },
    {
      "cell_type": "code",
      "source": [
        "def a(age=None):\n",
        "  print(age)\n",
        "\n",
        "a(55)"
      ],
      "metadata": {
        "id": "D6R3ZAWIO5Ep",
        "colab": {
          "base_uri": "https://localhost:8080/"
        },
        "outputId": "f5b345dd-91da-4d26-8282-a0fb3eff8a99"
      },
      "execution_count": null,
      "outputs": [
        {
          "output_type": "stream",
          "name": "stdout",
          "text": [
            "55\n"
          ]
        }
      ]
    },
    {
      "cell_type": "markdown",
      "source": [
        "**14-11-2022: Function and modules**"
      ],
      "metadata": {
        "id": "_BtSjNRMQW_D"
      }
    },
    {
      "cell_type": "code",
      "source": [
        "def show(x): # x=5\n",
        "  return x**2\n",
        "\n",
        "print(show(5))\n",
        "\n"
      ],
      "metadata": {
        "id": "PXsagn9fO5HB",
        "colab": {
          "base_uri": "https://localhost:8080/"
        },
        "outputId": "24f506e4-b30d-414d-b438-f7cfa5f449e3"
      },
      "execution_count": null,
      "outputs": [
        {
          "output_type": "stream",
          "name": "stdout",
          "text": [
            "25\n"
          ]
        }
      ]
    },
    {
      "cell_type": "code",
      "source": [
        "def show(x=0):\n",
        "  return x**2\n",
        "\n",
        "show()"
      ],
      "metadata": {
        "id": "L1nqNuPGO5JM",
        "colab": {
          "base_uri": "https://localhost:8080/"
        },
        "outputId": "ff8a9772-ae0f-4d94-cb7a-bc676240a321"
      },
      "execution_count": null,
      "outputs": [
        {
          "output_type": "execute_result",
          "data": {
            "text/plain": [
              "0"
            ]
          },
          "metadata": {},
          "execution_count": 11
        }
      ]
    },
    {
      "cell_type": "code",
      "source": [
        "def show(y,z,x=0):\n",
        "  print(y)\n",
        "  print(z)\n",
        "  return x**2\n",
        "#--------main-------------\n",
        "show(2,4,55)"
      ],
      "metadata": {
        "id": "ADoLndhxO5Lu",
        "colab": {
          "base_uri": "https://localhost:8080/"
        },
        "outputId": "00b38e0c-fb76-4851-cc38-d5eca78ea9cc"
      },
      "execution_count": null,
      "outputs": [
        {
          "output_type": "stream",
          "name": "stdout",
          "text": [
            "2\n",
            "4\n"
          ]
        },
        {
          "output_type": "execute_result",
          "data": {
            "text/plain": [
              "3025"
            ]
          },
          "metadata": {},
          "execution_count": 19
        }
      ]
    },
    {
      "cell_type": "code",
      "source": [
        "def show(x,*kwarg):\n",
        "  print(x)\n",
        "  for i in kwarg:\n",
        "    print(i,end=\" \")\n",
        " #-----------\n",
        "show(2,4,55,66,77,88,99,22,11,44)"
      ],
      "metadata": {
        "colab": {
          "base_uri": "https://localhost:8080/"
        },
        "id": "VpsXNLSVUSpx",
        "outputId": "84a72650-dfe6-420b-f299-07ca3632db97"
      },
      "execution_count": null,
      "outputs": [
        {
          "output_type": "stream",
          "name": "stdout",
          "text": [
            "2\n",
            "4 55 66 77 88 99 22 11 44 "
          ]
        }
      ]
    },
    {
      "cell_type": "code",
      "source": [
        "def show(x,y=0,*kwarg):\n",
        "  print(x)\n",
        "  print(y)\n",
        "  for i in kwarg:\n",
        "    print(i,end=\" \")\n",
        " #-----------main--------------\n",
        "show(2,4,55,66,77,88,99,22,11,44)"
      ],
      "metadata": {
        "colab": {
          "base_uri": "https://localhost:8080/"
        },
        "id": "sOsvehG3USsH",
        "outputId": "c4e00531-950e-4a29-9b07-9952d5d68783"
      },
      "execution_count": null,
      "outputs": [
        {
          "output_type": "stream",
          "name": "stdout",
          "text": [
            "2\n",
            "4\n",
            "55 66 77 88 99 22 11 44 "
          ]
        }
      ]
    },
    {
      "cell_type": "code",
      "source": [
        "def show(**kwarg):\n",
        "  print(kwarg)\n",
        " #-----------main--------------\n",
        "show([1,2,3,4,5,6,7,8,9,0])"
      ],
      "metadata": {
        "colab": {
          "base_uri": "https://localhost:8080/",
          "height": 205
        },
        "id": "edbQE5dSUSuT",
        "outputId": "ed520d18-9216-4445-8e8c-f3c5f51be385"
      },
      "execution_count": null,
      "outputs": [
        {
          "output_type": "error",
          "ename": "TypeError",
          "evalue": "ignored",
          "traceback": [
            "\u001b[0;31m---------------------------------------------------------------------------\u001b[0m",
            "\u001b[0;31mTypeError\u001b[0m                                 Traceback (most recent call last)",
            "\u001b[0;32m<ipython-input-51-b47359e3384a>\u001b[0m in \u001b[0;36m<module>\u001b[0;34m\u001b[0m\n\u001b[1;32m      2\u001b[0m   \u001b[0mprint\u001b[0m\u001b[0;34m(\u001b[0m\u001b[0mkwarg\u001b[0m\u001b[0;34m)\u001b[0m\u001b[0;34m\u001b[0m\u001b[0;34m\u001b[0m\u001b[0m\n\u001b[1;32m      3\u001b[0m  \u001b[0;31m#-----------main--------------\u001b[0m\u001b[0;34m\u001b[0m\u001b[0;34m\u001b[0m\u001b[0;34m\u001b[0m\u001b[0m\n\u001b[0;32m----> 4\u001b[0;31m \u001b[0mshow\u001b[0m\u001b[0;34m(\u001b[0m\u001b[0;34m[\u001b[0m\u001b[0;36m1\u001b[0m\u001b[0;34m,\u001b[0m\u001b[0;36m2\u001b[0m\u001b[0;34m,\u001b[0m\u001b[0;36m3\u001b[0m\u001b[0;34m,\u001b[0m\u001b[0;36m4\u001b[0m\u001b[0;34m,\u001b[0m\u001b[0;36m5\u001b[0m\u001b[0;34m,\u001b[0m\u001b[0;36m6\u001b[0m\u001b[0;34m,\u001b[0m\u001b[0;36m7\u001b[0m\u001b[0;34m,\u001b[0m\u001b[0;36m8\u001b[0m\u001b[0;34m,\u001b[0m\u001b[0;36m9\u001b[0m\u001b[0;34m,\u001b[0m\u001b[0;36m0\u001b[0m\u001b[0;34m]\u001b[0m\u001b[0;34m)\u001b[0m\u001b[0;34m\u001b[0m\u001b[0;34m\u001b[0m\u001b[0m\n\u001b[0m",
            "\u001b[0;31mTypeError\u001b[0m: show() takes 0 positional arguments but 1 was given"
          ]
        }
      ]
    },
    {
      "cell_type": "code",
      "source": [
        "x=10\n",
        "def show():\n",
        "  global x\n",
        "  x=50\n",
        "  print(x)\n",
        "def show1():\n",
        "  global x\n",
        "  x=100\n",
        "  print(x)\n",
        "\n",
        "show()\n",
        "show1()\n",
        "print(x)"
      ],
      "metadata": {
        "colab": {
          "base_uri": "https://localhost:8080/"
        },
        "id": "o5iPtjBsUSwt",
        "outputId": "5d5aa0e2-8e2f-4499-b3dd-0d67ff1e1579"
      },
      "execution_count": null,
      "outputs": [
        {
          "output_type": "stream",
          "name": "stdout",
          "text": [
            "50\n",
            "100\n",
            "100\n"
          ]
        }
      ]
    },
    {
      "cell_type": "code",
      "source": [
        "import calculator as c\n",
        "\n",
        "c.multi(5,2)"
      ],
      "metadata": {
        "colab": {
          "base_uri": "https://localhost:8080/"
        },
        "id": "dWMI_1l7USyv",
        "outputId": "4e5ab55c-983c-4bfb-b129-67c6c93abfab"
      },
      "execution_count": null,
      "outputs": [
        {
          "output_type": "execute_result",
          "data": {
            "text/plain": [
              "10"
            ]
          },
          "metadata": {},
          "execution_count": 2
        }
      ]
    },
    {
      "cell_type": "code",
      "source": [],
      "metadata": {
        "id": "awi43LSOZp6X"
      },
      "execution_count": null,
      "outputs": []
    },
    {
      "cell_type": "code",
      "source": [],
      "metadata": {
        "id": "7gbBIdf4Zsfe"
      },
      "execution_count": null,
      "outputs": []
    },
    {
      "cell_type": "markdown",
      "source": [
        "**15-11-2022 : module and packages**"
      ],
      "metadata": {
        "id": "8eIFsExgY8aS"
      }
    },
    {
      "cell_type": "code",
      "source": [
        "# function is also called methods\n",
        "# collection of methods is called modules\n",
        "# collection of modules is called packeges"
      ],
      "metadata": {
        "id": "yEqWdf-_US09"
      },
      "execution_count": null,
      "outputs": []
    },
    {
      "cell_type": "code",
      "source": [
        "# packages is called librares->numpy, padas, matplot, seabon"
      ],
      "metadata": {
        "id": "ZK9DeTpAUS3K"
      },
      "execution_count": null,
      "outputs": []
    },
    {
      "cell_type": "code",
      "source": [
        "import numpy as np # alias\n",
        "#np.max([5,6,2,3,7,8,9,6,3,2,4])\n"
      ],
      "metadata": {
        "id": "PhN_P8DGUS5c"
      },
      "execution_count": null,
      "outputs": []
    },
    {
      "cell_type": "code",
      "source": [
        "import pandas as pd\n"
      ],
      "metadata": {
        "id": "nutTkdhfaeBP"
      },
      "execution_count": null,
      "outputs": []
    },
    {
      "cell_type": "code",
      "source": [
        "!pip install pandas"
      ],
      "metadata": {
        "colab": {
          "base_uri": "https://localhost:8080/"
        },
        "id": "lZou39LyaeDk",
        "outputId": "13047ddc-5d24-4e93-8988-61404843d96b"
      },
      "execution_count": null,
      "outputs": [
        {
          "output_type": "stream",
          "name": "stdout",
          "text": [
            "Looking in indexes: https://pypi.org/simple, https://us-python.pkg.dev/colab-wheels/public/simple/\n",
            "Requirement already satisfied: pandas in /usr/local/lib/python3.7/dist-packages (1.3.5)\n",
            "Requirement already satisfied: python-dateutil>=2.7.3 in /usr/local/lib/python3.7/dist-packages (from pandas) (2.8.2)\n",
            "Requirement already satisfied: pytz>=2017.3 in /usr/local/lib/python3.7/dist-packages (from pandas) (2022.6)\n",
            "Requirement already satisfied: numpy>=1.17.3 in /usr/local/lib/python3.7/dist-packages (from pandas) (1.21.6)\n",
            "Requirement already satisfied: six>=1.5 in /usr/local/lib/python3.7/dist-packages (from python-dateutil>=2.7.3->pandas) (1.15.0)\n"
          ]
        }
      ]
    },
    {
      "cell_type": "code",
      "source": [
        "pip install matplotlib"
      ],
      "metadata": {
        "colab": {
          "base_uri": "https://localhost:8080/"
        },
        "id": "Ui3vc1L7aeGV",
        "outputId": "016cea07-7470-4201-bae5-13a6eb0a48b1"
      },
      "execution_count": null,
      "outputs": [
        {
          "output_type": "stream",
          "name": "stdout",
          "text": [
            "Looking in indexes: https://pypi.org/simple, https://us-python.pkg.dev/colab-wheels/public/simple/\n",
            "Requirement already satisfied: matplotlib in /usr/local/lib/python3.7/dist-packages (3.2.2)\n",
            "Requirement already satisfied: kiwisolver>=1.0.1 in /usr/local/lib/python3.7/dist-packages (from matplotlib) (1.4.4)\n",
            "Requirement already satisfied: python-dateutil>=2.1 in /usr/local/lib/python3.7/dist-packages (from matplotlib) (2.8.2)\n",
            "Requirement already satisfied: numpy>=1.11 in /usr/local/lib/python3.7/dist-packages (from matplotlib) (1.21.6)\n",
            "Requirement already satisfied: pyparsing!=2.0.4,!=2.1.2,!=2.1.6,>=2.0.1 in /usr/local/lib/python3.7/dist-packages (from matplotlib) (3.0.9)\n",
            "Requirement already satisfied: cycler>=0.10 in /usr/local/lib/python3.7/dist-packages (from matplotlib) (0.11.0)\n",
            "Requirement already satisfied: typing-extensions in /usr/local/lib/python3.7/dist-packages (from kiwisolver>=1.0.1->matplotlib) (4.1.1)\n",
            "Requirement already satisfied: six>=1.5 in /usr/local/lib/python3.7/dist-packages (from python-dateutil>=2.1->matplotlib) (1.15.0)\n"
          ]
        }
      ]
    },
    {
      "cell_type": "code",
      "source": [
        "import pandas as pd\n",
        "df=pd.read_csv(\"/content/electronic-card-transactions-october-2022-csv-tables.csv\")\n",
        "df.head()\n",
        "pd."
      ],
      "metadata": {
        "colab": {
          "base_uri": "https://localhost:8080/",
          "height": 133
        },
        "id": "9McPBGGdaeIj",
        "outputId": "72410cdb-c0f8-485e-e4b9-a51ac4373170"
      },
      "execution_count": null,
      "outputs": [
        {
          "output_type": "error",
          "ename": "SyntaxError",
          "evalue": "ignored",
          "traceback": [
            "\u001b[0;36m  File \u001b[0;32m\"<ipython-input-3-299c26062b8f>\"\u001b[0;36m, line \u001b[0;32m4\u001b[0m\n\u001b[0;31m    pd.\u001b[0m\n\u001b[0m       ^\u001b[0m\n\u001b[0;31mSyntaxError\u001b[0m\u001b[0;31m:\u001b[0m invalid syntax\n"
          ]
        }
      ]
    },
    {
      "cell_type": "code",
      "source": [
        "import pandas as pd"
      ],
      "metadata": {
        "id": "a9StKeFL_mGO"
      },
      "execution_count": null,
      "outputs": []
    },
    {
      "cell_type": "code",
      "source": [],
      "metadata": {
        "id": "PCXA7ddy_WR5"
      },
      "execution_count": null,
      "outputs": []
    },
    {
      "cell_type": "code",
      "source": [
        "import pandas as pd\n",
        "df=pd.read_excel(\"/content/file_example_XLS_50.xls\")\n",
        "df.head()"
      ],
      "metadata": {
        "colab": {
          "base_uri": "https://localhost:8080/",
          "height": 206
        },
        "id": "GP6-6iXfdFMA",
        "outputId": "bb22b178-8c5e-4e98-b1c0-22df0c771a67"
      },
      "execution_count": null,
      "outputs": [
        {
          "output_type": "execute_result",
          "data": {
            "text/plain": [
              "   0 First Name  Last Name  Gender        Country  Age        Date    Id\n",
              "0  1      Dulce      Abril  Female  United States   32  15/10/2017  1562\n",
              "1  2       Mara  Hashimoto  Female  Great Britain   25  16/08/2016  1582\n",
              "2  3     Philip       Gent    Male         France   36  21/05/2015  2587\n",
              "3  4   Kathleen     Hanner  Female  United States   25  15/10/2017  3549\n",
              "4  5    Nereida    Magwood  Female  United States   58  16/08/2016  2468"
            ],
            "text/html": [
              "\n",
              "  <div id=\"df-3b3a9819-f7cc-48a8-84cd-2b29500e44bf\">\n",
              "    <div class=\"colab-df-container\">\n",
              "      <div>\n",
              "<style scoped>\n",
              "    .dataframe tbody tr th:only-of-type {\n",
              "        vertical-align: middle;\n",
              "    }\n",
              "\n",
              "    .dataframe tbody tr th {\n",
              "        vertical-align: top;\n",
              "    }\n",
              "\n",
              "    .dataframe thead th {\n",
              "        text-align: right;\n",
              "    }\n",
              "</style>\n",
              "<table border=\"1\" class=\"dataframe\">\n",
              "  <thead>\n",
              "    <tr style=\"text-align: right;\">\n",
              "      <th></th>\n",
              "      <th>0</th>\n",
              "      <th>First Name</th>\n",
              "      <th>Last Name</th>\n",
              "      <th>Gender</th>\n",
              "      <th>Country</th>\n",
              "      <th>Age</th>\n",
              "      <th>Date</th>\n",
              "      <th>Id</th>\n",
              "    </tr>\n",
              "  </thead>\n",
              "  <tbody>\n",
              "    <tr>\n",
              "      <th>0</th>\n",
              "      <td>1</td>\n",
              "      <td>Dulce</td>\n",
              "      <td>Abril</td>\n",
              "      <td>Female</td>\n",
              "      <td>United States</td>\n",
              "      <td>32</td>\n",
              "      <td>15/10/2017</td>\n",
              "      <td>1562</td>\n",
              "    </tr>\n",
              "    <tr>\n",
              "      <th>1</th>\n",
              "      <td>2</td>\n",
              "      <td>Mara</td>\n",
              "      <td>Hashimoto</td>\n",
              "      <td>Female</td>\n",
              "      <td>Great Britain</td>\n",
              "      <td>25</td>\n",
              "      <td>16/08/2016</td>\n",
              "      <td>1582</td>\n",
              "    </tr>\n",
              "    <tr>\n",
              "      <th>2</th>\n",
              "      <td>3</td>\n",
              "      <td>Philip</td>\n",
              "      <td>Gent</td>\n",
              "      <td>Male</td>\n",
              "      <td>France</td>\n",
              "      <td>36</td>\n",
              "      <td>21/05/2015</td>\n",
              "      <td>2587</td>\n",
              "    </tr>\n",
              "    <tr>\n",
              "      <th>3</th>\n",
              "      <td>4</td>\n",
              "      <td>Kathleen</td>\n",
              "      <td>Hanner</td>\n",
              "      <td>Female</td>\n",
              "      <td>United States</td>\n",
              "      <td>25</td>\n",
              "      <td>15/10/2017</td>\n",
              "      <td>3549</td>\n",
              "    </tr>\n",
              "    <tr>\n",
              "      <th>4</th>\n",
              "      <td>5</td>\n",
              "      <td>Nereida</td>\n",
              "      <td>Magwood</td>\n",
              "      <td>Female</td>\n",
              "      <td>United States</td>\n",
              "      <td>58</td>\n",
              "      <td>16/08/2016</td>\n",
              "      <td>2468</td>\n",
              "    </tr>\n",
              "  </tbody>\n",
              "</table>\n",
              "</div>\n",
              "      <button class=\"colab-df-convert\" onclick=\"convertToInteractive('df-3b3a9819-f7cc-48a8-84cd-2b29500e44bf')\"\n",
              "              title=\"Convert this dataframe to an interactive table.\"\n",
              "              style=\"display:none;\">\n",
              "        \n",
              "  <svg xmlns=\"http://www.w3.org/2000/svg\" height=\"24px\"viewBox=\"0 0 24 24\"\n",
              "       width=\"24px\">\n",
              "    <path d=\"M0 0h24v24H0V0z\" fill=\"none\"/>\n",
              "    <path d=\"M18.56 5.44l.94 2.06.94-2.06 2.06-.94-2.06-.94-.94-2.06-.94 2.06-2.06.94zm-11 1L8.5 8.5l.94-2.06 2.06-.94-2.06-.94L8.5 2.5l-.94 2.06-2.06.94zm10 10l.94 2.06.94-2.06 2.06-.94-2.06-.94-.94-2.06-.94 2.06-2.06.94z\"/><path d=\"M17.41 7.96l-1.37-1.37c-.4-.4-.92-.59-1.43-.59-.52 0-1.04.2-1.43.59L10.3 9.45l-7.72 7.72c-.78.78-.78 2.05 0 2.83L4 21.41c.39.39.9.59 1.41.59.51 0 1.02-.2 1.41-.59l7.78-7.78 2.81-2.81c.8-.78.8-2.07 0-2.86zM5.41 20L4 18.59l7.72-7.72 1.47 1.35L5.41 20z\"/>\n",
              "  </svg>\n",
              "      </button>\n",
              "      \n",
              "  <style>\n",
              "    .colab-df-container {\n",
              "      display:flex;\n",
              "      flex-wrap:wrap;\n",
              "      gap: 12px;\n",
              "    }\n",
              "\n",
              "    .colab-df-convert {\n",
              "      background-color: #E8F0FE;\n",
              "      border: none;\n",
              "      border-radius: 50%;\n",
              "      cursor: pointer;\n",
              "      display: none;\n",
              "      fill: #1967D2;\n",
              "      height: 32px;\n",
              "      padding: 0 0 0 0;\n",
              "      width: 32px;\n",
              "    }\n",
              "\n",
              "    .colab-df-convert:hover {\n",
              "      background-color: #E2EBFA;\n",
              "      box-shadow: 0px 1px 2px rgba(60, 64, 67, 0.3), 0px 1px 3px 1px rgba(60, 64, 67, 0.15);\n",
              "      fill: #174EA6;\n",
              "    }\n",
              "\n",
              "    [theme=dark] .colab-df-convert {\n",
              "      background-color: #3B4455;\n",
              "      fill: #D2E3FC;\n",
              "    }\n",
              "\n",
              "    [theme=dark] .colab-df-convert:hover {\n",
              "      background-color: #434B5C;\n",
              "      box-shadow: 0px 1px 3px 1px rgba(0, 0, 0, 0.15);\n",
              "      filter: drop-shadow(0px 1px 2px rgba(0, 0, 0, 0.3));\n",
              "      fill: #FFFFFF;\n",
              "    }\n",
              "  </style>\n",
              "\n",
              "      <script>\n",
              "        const buttonEl =\n",
              "          document.querySelector('#df-3b3a9819-f7cc-48a8-84cd-2b29500e44bf button.colab-df-convert');\n",
              "        buttonEl.style.display =\n",
              "          google.colab.kernel.accessAllowed ? 'block' : 'none';\n",
              "\n",
              "        async function convertToInteractive(key) {\n",
              "          const element = document.querySelector('#df-3b3a9819-f7cc-48a8-84cd-2b29500e44bf');\n",
              "          const dataTable =\n",
              "            await google.colab.kernel.invokeFunction('convertToInteractive',\n",
              "                                                     [key], {});\n",
              "          if (!dataTable) return;\n",
              "\n",
              "          const docLinkHtml = 'Like what you see? Visit the ' +\n",
              "            '<a target=\"_blank\" href=https://colab.research.google.com/notebooks/data_table.ipynb>data table notebook</a>'\n",
              "            + ' to learn more about interactive tables.';\n",
              "          element.innerHTML = '';\n",
              "          dataTable['output_type'] = 'display_data';\n",
              "          await google.colab.output.renderOutput(dataTable, element);\n",
              "          const docLink = document.createElement('div');\n",
              "          docLink.innerHTML = docLinkHtml;\n",
              "          element.appendChild(docLink);\n",
              "        }\n",
              "      </script>\n",
              "    </div>\n",
              "  </div>\n",
              "  "
            ]
          },
          "metadata": {},
          "execution_count": 8
        }
      ]
    },
    {
      "cell_type": "code",
      "source": [
        "pip install --upgrade xlrd"
      ],
      "metadata": {
        "colab": {
          "base_uri": "https://localhost:8080/",
          "height": 302
        },
        "id": "Yjdc-pd9dFOd",
        "outputId": "6a0fa85f-3fc8-417f-e7e8-73eb1fde4cf5"
      },
      "execution_count": null,
      "outputs": [
        {
          "output_type": "stream",
          "name": "stdout",
          "text": [
            "Looking in indexes: https://pypi.org/simple, https://us-python.pkg.dev/colab-wheels/public/simple/\n",
            "Requirement already satisfied: xlrd in /usr/local/lib/python3.7/dist-packages (1.1.0)\n",
            "Collecting xlrd\n",
            "  Downloading xlrd-2.0.1-py2.py3-none-any.whl (96 kB)\n",
            "\u001b[K     |████████████████████████████████| 96 kB 2.7 MB/s \n",
            "\u001b[?25hInstalling collected packages: xlrd\n",
            "  Attempting uninstall: xlrd\n",
            "    Found existing installation: xlrd 1.1.0\n",
            "    Uninstalling xlrd-1.1.0:\n",
            "      Successfully uninstalled xlrd-1.1.0\n",
            "Successfully installed xlrd-2.0.1\n"
          ]
        },
        {
          "output_type": "display_data",
          "data": {
            "application/vnd.colab-display-data+json": {
              "pip_warning": {
                "packages": [
                  "xlrd"
                ]
              }
            }
          },
          "metadata": {}
        }
      ]
    },
    {
      "cell_type": "code",
      "source": [
        "df=open(\"/content/sample.txt\",\"r\")\n",
        "df.read()"
      ],
      "metadata": {
        "colab": {
          "base_uri": "https://localhost:8080/",
          "height": 71
        },
        "id": "-XiVlOxxdFQw",
        "outputId": "1ef3c01c-cca2-401a-96d2-1f85343161ff"
      },
      "execution_count": null,
      "outputs": [
        {
          "output_type": "execute_result",
          "data": {
            "text/plain": [
              "' sdl;fmdslkf jsdj flsd jklf jsdlkf jlksd jflksd jfsdk fjlksd jflksd jfj sdlkf jflks fjlksj flkj dlkffj lksj flksdj lksjdlkf jsdlkfjslkd fjklsdjflks jlkj klsdjfklsj fklsj klfhj fn lksdf lksd jlksdj lkf jsdklfjsd jflksj dl jsdkj sdlk jlksjdflkj lkj dgg'"
            ],
            "application/vnd.google.colaboratory.intrinsic+json": {
              "type": "string"
            }
          },
          "metadata": {},
          "execution_count": 18
        }
      ]
    },
    {
      "cell_type": "code",
      "source": [
        "df=open(\"isit.txt\",\"r\")\n",
        "df"
      ],
      "metadata": {
        "colab": {
          "base_uri": "https://localhost:8080/",
          "height": 187
        },
        "id": "Rh14lop2dFS-",
        "outputId": "f1c13564-3a27-4eff-89b7-eb27f3fcb886"
      },
      "execution_count": null,
      "outputs": [
        {
          "output_type": "error",
          "ename": "FileNotFoundError",
          "evalue": "ignored",
          "traceback": [
            "\u001b[0;31m---------------------------------------------------------------------------\u001b[0m",
            "\u001b[0;31mFileNotFoundError\u001b[0m                         Traceback (most recent call last)",
            "\u001b[0;32m<ipython-input-19-d95c5bd5c350>\u001b[0m in \u001b[0;36m<module>\u001b[0;34m\u001b[0m\n\u001b[0;32m----> 1\u001b[0;31m \u001b[0mdf\u001b[0m\u001b[0;34m=\u001b[0m\u001b[0mopen\u001b[0m\u001b[0;34m(\u001b[0m\u001b[0;34m\"isit.txt\"\u001b[0m\u001b[0;34m,\u001b[0m\u001b[0;34m\"r\"\u001b[0m\u001b[0;34m)\u001b[0m\u001b[0;34m\u001b[0m\u001b[0;34m\u001b[0m\u001b[0m\n\u001b[0m\u001b[1;32m      2\u001b[0m \u001b[0mdf\u001b[0m\u001b[0;34m.\u001b[0m\u001b[0mread\u001b[0m\u001b[0;34m(\u001b[0m\u001b[0;34m)\u001b[0m\u001b[0;34m\u001b[0m\u001b[0;34m\u001b[0m\u001b[0m\n",
            "\u001b[0;31mFileNotFoundError\u001b[0m: [Errno 2] No such file or directory: 'isit.txt'"
          ]
        }
      ]
    },
    {
      "cell_type": "markdown",
      "source": [
        "**16-11-2022 : modules and file handlings**"
      ],
      "metadata": {
        "id": "a2nFqC1ZiV1q"
      }
    },
    {
      "cell_type": "code",
      "source": [
        "import operation as op\n",
        "op.sum(5,6)"
      ],
      "metadata": {
        "id": "wlPDudO2dFVY",
        "colab": {
          "base_uri": "https://localhost:8080/"
        },
        "outputId": "1fbab1bf-26fe-4c49-e093-a7b790199c4c"
      },
      "execution_count": null,
      "outputs": [
        {
          "output_type": "execute_result",
          "data": {
            "text/plain": [
              "11"
            ]
          },
          "metadata": {},
          "execution_count": 7
        }
      ]
    },
    {
      "cell_type": "code",
      "source": [
        "def last(n):\n",
        "  print(type(n))\n",
        "  return n[-1]\n",
        "\n",
        "def sort_list_last(MyList):\n",
        "  return sorted(MyList, key=last)\n",
        "  \n",
        "\n",
        "lst=[(2,5),(1,2),(4,4),(2,3),(2,1)]\n",
        "print(sort_list_last(lst))"
      ],
      "metadata": {
        "colab": {
          "base_uri": "https://localhost:8080/"
        },
        "id": "Ag8dZd5YkA06",
        "outputId": "d69cf4d3-2cad-445b-869d-3521a85bcc7b"
      },
      "execution_count": null,
      "outputs": [
        {
          "output_type": "stream",
          "name": "stdout",
          "text": [
            "<class 'tuple'>\n",
            "<class 'tuple'>\n",
            "<class 'tuple'>\n",
            "<class 'tuple'>\n",
            "<class 'tuple'>\n",
            "[(2, 1), (1, 2), (2, 3), (4, 4), (2, 5)]\n"
          ]
        }
      ]
    },
    {
      "cell_type": "code",
      "source": [
        "lst1=[2,3,5,7,98,92,3,5,66]\n",
        "\n",
        "sorted(lst1)"
      ],
      "metadata": {
        "colab": {
          "base_uri": "https://localhost:8080/"
        },
        "id": "Ln-qikdxkA3j",
        "outputId": "948e30bd-9bf6-4d1e-bc62-5d81005c2146"
      },
      "execution_count": null,
      "outputs": [
        {
          "output_type": "execute_result",
          "data": {
            "text/plain": [
              "[2, 3, 3, 5, 5, 7, 66, 92, 98]"
            ]
          },
          "metadata": {},
          "execution_count": 18
        }
      ]
    },
    {
      "cell_type": "code",
      "source": [
        "my_dict = {}\n",
        "for i in range(97, 97 + 26):\n",
        "    my_dict[chr(i)] = i\n",
        "print(my_dict)"
      ],
      "metadata": {
        "id": "f8ZYa5A-kA51"
      },
      "execution_count": null,
      "outputs": []
    },
    {
      "cell_type": "code",
      "source": [
        "ord('A')"
      ],
      "metadata": {
        "colab": {
          "base_uri": "https://localhost:8080/"
        },
        "id": "BuSn0gDokA84",
        "outputId": "f6279318-6988-4735-ee72-6b333eaf03d7"
      },
      "execution_count": null,
      "outputs": [
        {
          "output_type": "execute_result",
          "data": {
            "text/plain": [
              "65"
            ]
          },
          "metadata": {},
          "execution_count": 22
        }
      ]
    },
    {
      "cell_type": "code",
      "source": [
        "chr(97)"
      ],
      "metadata": {
        "colab": {
          "base_uri": "https://localhost:8080/",
          "height": 36
        },
        "id": "3vVISub3kA_g",
        "outputId": "78bf1f71-5e68-423b-8a7b-25c5646b2a61"
      },
      "execution_count": null,
      "outputs": [
        {
          "output_type": "execute_result",
          "data": {
            "text/plain": [
              "'a'"
            ],
            "application/vnd.google.colaboratory.intrinsic+json": {
              "type": "string"
            }
          },
          "metadata": {},
          "execution_count": 23
        }
      ]
    },
    {
      "cell_type": "code",
      "source": [
        "dict1={}\n",
        "dict1[chr(97)]=97\n",
        "dict1[chr(98)]=98\n",
        "dict1"
      ],
      "metadata": {
        "colab": {
          "base_uri": "https://localhost:8080/"
        },
        "id": "M8xLxUK5kBBg",
        "outputId": "dc2efef3-c31b-4514-ad28-d9ba1f9354a5"
      },
      "execution_count": null,
      "outputs": [
        {
          "output_type": "execute_result",
          "data": {
            "text/plain": [
              "{'a': 97, 'b': 98}"
            ]
          },
          "metadata": {},
          "execution_count": 28
        }
      ]
    },
    {
      "cell_type": "markdown",
      "source": [
        "**17-11-2022 : File Handling**"
      ],
      "metadata": {
        "id": "oXtlFvo5rM8I"
      }
    },
    {
      "cell_type": "code",
      "source": [
        "# Files\n",
        "  # text Files -> csv, xls, doc, txt\n",
        "  # Binary File-> coded files via binary form- 1,0 -> .bin .dat\n",
        "\n",
        "# Mode of files-\n",
        "\n",
        "# \"r\" - Read - Default value. Opens a file for reading, error if the file does not exist\n",
        "# \"a\" - Append - Opens a file for appending, creates the file if it does not exist\n",
        "# \"w\" - Write - Opens a file for writing, creates the file if it does not exist, if data already exit than its over lapped.\n",
        "# \"x\" - Create - Creates the specified file, returns an error if the file exists\n"
      ],
      "metadata": {
        "id": "-OIAQMudkBDJ"
      },
      "execution_count": null,
      "outputs": []
    },
    {
      "cell_type": "code",
      "source": [
        "f=open('/content/sample1.txt','r')\n",
        "print(f.read())"
      ],
      "metadata": {
        "colab": {
          "base_uri": "https://localhost:8080/"
        },
        "id": "fIYXOEKYrLdN",
        "outputId": "50347c7f-eee6-4015-af5e-c504deb513ea"
      },
      "execution_count": null,
      "outputs": [
        {
          "output_type": "stream",
          "name": "stdout",
          "text": [
            "this is my first file\n",
            "the topic started today is file handling\n"
          ]
        }
      ]
    },
    {
      "cell_type": "code",
      "source": [
        "f=open('/content/sample1.txt','w')\n",
        "data=input(\"Enter Data to be insert on file  :  \")\n",
        "len1=f.write(data)\n",
        "if len1>50:\n",
        "  print(\"File is lengthy please extract some characters in file\")\n",
        "else:\n",
        "  print(\"Data Successfull Inserted\")\n",
        "f.close()\n"
      ],
      "metadata": {
        "colab": {
          "base_uri": "https://localhost:8080/"
        },
        "id": "P3ConN_DrLf1",
        "outputId": "e0eb422f-e458-4815-c549-acbdce5c0366"
      },
      "execution_count": null,
      "outputs": [
        {
          "output_type": "stream",
          "name": "stdout",
          "text": [
            "Enter Data to be insert on file  :  this is my first file inserted in my first data science batch. there many student who studies python language\n",
            "File is lengthy please extract some characters in file\n"
          ]
        }
      ]
    },
    {
      "cell_type": "code",
      "source": [
        "f=open(r'/content/sample1.txt','r')\n",
        "print(f.read())"
      ],
      "metadata": {
        "colab": {
          "base_uri": "https://localhost:8080/"
        },
        "id": "qp5jqsJwrLid",
        "outputId": "b2d9f018-c832-47bb-c98e-1f0a49460a12"
      },
      "execution_count": null,
      "outputs": [
        {
          "output_type": "stream",
          "name": "stdout",
          "text": [
            "oh sorry data is overlapped when put up this text\n"
          ]
        }
      ]
    },
    {
      "cell_type": "code",
      "source": [
        "f=open(r'/content/sample1.txt','a')\n",
        "data=input(\"Enter Data to be appand into end of the file  :  \")\n",
        "f.write(data)\n",
        "f.close()"
      ],
      "metadata": {
        "colab": {
          "base_uri": "https://localhost:8080/"
        },
        "id": "kT1nxWqBrLoT",
        "outputId": "ae1d6070-6ea1-4652-b486-34b0e35f8a32"
      },
      "execution_count": null,
      "outputs": [
        {
          "name": "stdout",
          "output_type": "stream",
          "text": [
            "Enter Data to be appand into end of the file  :  this is appended data in this file\n"
          ]
        }
      ]
    },
    {
      "cell_type": "code",
      "source": [
        "f=open(r'/content/sample1.txt','r')\n",
        "f.read()"
      ],
      "metadata": {
        "colab": {
          "base_uri": "https://localhost:8080/",
          "height": 53
        },
        "id": "KUk6Q2KBrLqg",
        "outputId": "4d7f43ca-2593-4269-e68f-95b38190eba4"
      },
      "execution_count": null,
      "outputs": [
        {
          "output_type": "execute_result",
          "data": {
            "text/plain": [
              "'this is my first file inserted in my first data science batch. there many student who studies python languagepython is almost end and data structure and algo is started as soon as possiblethis is appended data in this file'"
            ],
            "application/vnd.google.colaboratory.intrinsic+json": {
              "type": "string"
            }
          },
          "metadata": {},
          "execution_count": 21
        }
      ]
    },
    {
      "cell_type": "code",
      "source": [
        "f=open(\"isit.txt\",'x')\n",
        "f.write(\"This is my file\")\n",
        "f.close()\n"
      ],
      "metadata": {
        "id": "kUZvq_n_0zPV"
      },
      "execution_count": null,
      "outputs": []
    },
    {
      "cell_type": "code",
      "source": [
        "f=open(\"isit.txt\",'r')\n",
        "f.read()\n",
        "f.close()"
      ],
      "metadata": {
        "id": "FzkRkVgZ0zaO"
      },
      "execution_count": null,
      "outputs": []
    },
    {
      "cell_type": "code",
      "source": [
        "f=open(\"isit.txt\",'a')\n",
        "f.write(\"This is appended....!!!!!\")\n",
        "f.close()"
      ],
      "metadata": {
        "id": "wKtYvbmG0zc3"
      },
      "execution_count": null,
      "outputs": []
    },
    {
      "cell_type": "code",
      "source": [
        "f=open(\"isit.txt\",'r')\n",
        "f.read()"
      ],
      "metadata": {
        "colab": {
          "base_uri": "https://localhost:8080/",
          "height": 36
        },
        "id": "Tg_7auMn0zfJ",
        "outputId": "fadf6593-42fe-4788-968f-a1e8c22e491b"
      },
      "execution_count": null,
      "outputs": [
        {
          "output_type": "execute_result",
          "data": {
            "text/plain": [
              "'This is my fileThis is appended....!!!!!'"
            ],
            "application/vnd.google.colaboratory.intrinsic+json": {
              "type": "string"
            }
          },
          "metadata": {},
          "execution_count": 26
        }
      ]
    },
    {
      "cell_type": "code",
      "source": [
        "f=open(\"isit1.txt\",'w')\n",
        "f.write(\"Your all previous data is lapsed.....\\nIf you have restored it please call system admin\")\n",
        "f.close()"
      ],
      "metadata": {
        "id": "xUJaCGbI0zhW"
      },
      "execution_count": null,
      "outputs": []
    },
    {
      "cell_type": "code",
      "source": [
        "f=open(\"isit1.txt\",'r')\n",
        "lst=f.readlines()\n",
        "lst[1]"
      ],
      "metadata": {
        "colab": {
          "base_uri": "https://localhost:8080/",
          "height": 205
        },
        "id": "3wAGI0ZF0zjk",
        "outputId": "7f9b563e-8766-4bba-aea6-6bee5ec3984e"
      },
      "execution_count": null,
      "outputs": [
        {
          "output_type": "error",
          "ename": "IndexError",
          "evalue": "ignored",
          "traceback": [
            "\u001b[0;31m---------------------------------------------------------------------------\u001b[0m",
            "\u001b[0;31mIndexError\u001b[0m                                Traceback (most recent call last)",
            "\u001b[0;32m<ipython-input-98-b2bba062aae1>\u001b[0m in \u001b[0;36m<module>\u001b[0;34m\u001b[0m\n\u001b[1;32m      1\u001b[0m \u001b[0mf\u001b[0m\u001b[0;34m=\u001b[0m\u001b[0mopen\u001b[0m\u001b[0;34m(\u001b[0m\u001b[0;34m\"isit1.txt\"\u001b[0m\u001b[0;34m,\u001b[0m\u001b[0;34m'r'\u001b[0m\u001b[0;34m)\u001b[0m\u001b[0;34m\u001b[0m\u001b[0;34m\u001b[0m\u001b[0m\n\u001b[1;32m      2\u001b[0m \u001b[0mlst\u001b[0m\u001b[0;34m=\u001b[0m\u001b[0mf\u001b[0m\u001b[0;34m.\u001b[0m\u001b[0mreadlines\u001b[0m\u001b[0;34m(\u001b[0m\u001b[0;36m1\u001b[0m\u001b[0;34m)\u001b[0m\u001b[0;34m\u001b[0m\u001b[0;34m\u001b[0m\u001b[0m\n\u001b[0;32m----> 3\u001b[0;31m \u001b[0mlst\u001b[0m\u001b[0;34m[\u001b[0m\u001b[0;36m1\u001b[0m\u001b[0;34m]\u001b[0m\u001b[0;34m\u001b[0m\u001b[0;34m\u001b[0m\u001b[0m\n\u001b[0m",
            "\u001b[0;31mIndexError\u001b[0m: list index out of range"
          ]
        }
      ]
    },
    {
      "cell_type": "code",
      "source": [
        "file_name=input(\"Enter the file name which you want to inserted  :  \")\n",
        "f=open(file_name,'x')\n",
        "file_data=input(\"Enter your Data  : \")\n",
        "f.write(file_data)\n",
        "f.close()\n",
        "f=open(file_name,'r')\n",
        "f.read()\n"
      ],
      "metadata": {
        "colab": {
          "base_uri": "https://localhost:8080/",
          "height": 71
        },
        "id": "VtkZUbFe0zmI",
        "outputId": "339315d1-d90b-4a2d-9070-4f923316cee1"
      },
      "execution_count": null,
      "outputs": [
        {
          "name": "stdout",
          "output_type": "stream",
          "text": [
            "Enter the file name which you want to inserted  :  ankit.txt\n",
            "Enter your Data  : this is the resume of ankit singh. \n"
          ]
        },
        {
          "output_type": "execute_result",
          "data": {
            "text/plain": [
              "'this is the resume of ankit singh. '"
            ],
            "application/vnd.google.colaboratory.intrinsic+json": {
              "type": "string"
            }
          },
          "metadata": {},
          "execution_count": 81
        }
      ]
    },
    {
      "cell_type": "code",
      "source": [
        "f=open('ml.txt','r')\n",
        "f.read()"
      ],
      "metadata": {
        "colab": {
          "base_uri": "https://localhost:8080/",
          "height": 36
        },
        "id": "FR34xn973qLy",
        "outputId": "173665e6-4a99-4544-b3ec-f01472abdee1"
      },
      "execution_count": null,
      "outputs": [
        {
          "output_type": "execute_result",
          "data": {
            "text/plain": [
              "'this is machine learning book'"
            ],
            "application/vnd.google.colaboratory.intrinsic+json": {
              "type": "string"
            }
          },
          "metadata": {},
          "execution_count": 75
        }
      ]
    },
    {
      "cell_type": "code",
      "source": [
        "def create_file():\n",
        "  file_name=input(\"ENTER FILE NAME  :  \")\n",
        "  f=open(file_name,'x')\n",
        "  f.close()\n",
        "  #return True\n",
        "def write_data():\n",
        "  pass\n",
        "def read_data():\n",
        "  pass\n",
        "def append_data():\n",
        "  pass\n",
        "def delete_data():\n",
        "  pass\n",
        "\n",
        "\n",
        "ch=0\n",
        "while ch!=6: \n",
        "  print('''-----------------------------------------------------------------\n",
        "                **********FILE OPERATION**********\n",
        "  -----------------------------------------------------------------\n",
        "  [1.] CREATE A FILE\n",
        "  [2.] WRITE DATA INTO FILE\n",
        "  [3.] READ FILE\n",
        "  [4.] APPEND DATA\n",
        "  [5.] DELETE FILE\n",
        "  [6.] SEARCH WORD\n",
        "  [7.] REPLACE WORD\n",
        "  [8.] DELETE WORD\n",
        "  [9.] EXIT''')\n",
        "  ch=int(input(\"ENTER YOUR CHOICE  :   \"))\n",
        "  if ch==1:\n",
        "    if create_file()==True:\n",
        "      print(\"FILE CREATED SUCCESSFULL....!!!!!!\")\n",
        "    else:\n",
        "      print(\"FILE NOT CREATED......\")\n",
        "  if ch==2:\n",
        "    pass\n",
        "  if ch==3:\n",
        "    pass\n",
        "  if ch==4:\n",
        "    pass\n",
        "  if ch==5:\n",
        "    pass\n",
        "  if ch==6:\n",
        "    pass\n",
        "\n"
      ],
      "metadata": {
        "colab": {
          "base_uri": "https://localhost:8080/",
          "height": 766
        },
        "id": "5iY53Jzr6RAI",
        "outputId": "bfe07345-06c6-480f-d9cf-c0a140350c40"
      },
      "execution_count": null,
      "outputs": [
        {
          "output_type": "stream",
          "name": "stdout",
          "text": [
            "-----------------------------------------------------------------\n",
            "                **********FILE OPERATION**********\n",
            "  -----------------------------------------------------------------\n",
            "  [1.] CREATE A FILE\n",
            "  [2.] WRITE DATA INTO FILE\n",
            "  [3.] READ FILE\n",
            "  [4.] APPEND DATA\n",
            "  [5.] DELETE FILE\n",
            "  [6.] EXIT\n",
            "ENTER YOUR CHOICE  :   1\n",
            "ENTER FILE NAME  :  isit3.txt\n",
            "-----------------------------------------------------------------\n",
            "                **********FILE OPERATION**********\n",
            "  -----------------------------------------------------------------\n",
            "  [1.] CREATE A FILE\n",
            "  [2.] WRITE DATA INTO FILE\n",
            "  [3.] READ FILE\n",
            "  [4.] APPEND DATA\n",
            "  [5.] DELETE FILE\n",
            "  [6.] EXIT\n"
          ]
        },
        {
          "output_type": "error",
          "ename": "KeyboardInterrupt",
          "evalue": "ignored",
          "traceback": [
            "\u001b[0;31m---------------------------------------------------------------------------\u001b[0m",
            "\u001b[0;31mKeyboardInterrupt\u001b[0m                         Traceback (most recent call last)",
            "\u001b[0;32m<ipython-input-12-ecdc46c47689>\u001b[0m in \u001b[0;36m<module>\u001b[0;34m\u001b[0m\n\u001b[1;32m     25\u001b[0m   \u001b[0;34m[\u001b[0m\u001b[0;36m5.\u001b[0m\u001b[0;34m]\u001b[0m \u001b[0mDELETE\u001b[0m \u001b[0mFILE\u001b[0m\u001b[0;34m\u001b[0m\u001b[0;34m\u001b[0m\u001b[0m\n\u001b[1;32m     26\u001b[0m   [6.] EXIT''')\n\u001b[0;32m---> 27\u001b[0;31m   \u001b[0mch\u001b[0m\u001b[0;34m=\u001b[0m\u001b[0mint\u001b[0m\u001b[0;34m(\u001b[0m\u001b[0minput\u001b[0m\u001b[0;34m(\u001b[0m\u001b[0;34m\"ENTER YOUR CHOICE  :   \"\u001b[0m\u001b[0;34m)\u001b[0m\u001b[0;34m)\u001b[0m\u001b[0;34m\u001b[0m\u001b[0;34m\u001b[0m\u001b[0m\n\u001b[0m\u001b[1;32m     28\u001b[0m   \u001b[0;32mif\u001b[0m \u001b[0mch\u001b[0m\u001b[0;34m==\u001b[0m\u001b[0;36m1\u001b[0m\u001b[0;34m:\u001b[0m\u001b[0;34m\u001b[0m\u001b[0;34m\u001b[0m\u001b[0m\n\u001b[1;32m     29\u001b[0m     \u001b[0mcreate_file\u001b[0m\u001b[0;34m(\u001b[0m\u001b[0;34m)\u001b[0m\u001b[0;34m\u001b[0m\u001b[0;34m\u001b[0m\u001b[0m\n",
            "\u001b[0;32m/usr/local/lib/python3.7/dist-packages/ipykernel/kernelbase.py\u001b[0m in \u001b[0;36mraw_input\u001b[0;34m(self, prompt)\u001b[0m\n\u001b[1;32m    861\u001b[0m             \u001b[0mself\u001b[0m\u001b[0;34m.\u001b[0m\u001b[0m_parent_ident\u001b[0m\u001b[0;34m,\u001b[0m\u001b[0;34m\u001b[0m\u001b[0;34m\u001b[0m\u001b[0m\n\u001b[1;32m    862\u001b[0m             \u001b[0mself\u001b[0m\u001b[0;34m.\u001b[0m\u001b[0m_parent_header\u001b[0m\u001b[0;34m,\u001b[0m\u001b[0;34m\u001b[0m\u001b[0;34m\u001b[0m\u001b[0m\n\u001b[0;32m--> 863\u001b[0;31m             \u001b[0mpassword\u001b[0m\u001b[0;34m=\u001b[0m\u001b[0;32mFalse\u001b[0m\u001b[0;34m,\u001b[0m\u001b[0;34m\u001b[0m\u001b[0;34m\u001b[0m\u001b[0m\n\u001b[0m\u001b[1;32m    864\u001b[0m         )\n\u001b[1;32m    865\u001b[0m \u001b[0;34m\u001b[0m\u001b[0m\n",
            "\u001b[0;32m/usr/local/lib/python3.7/dist-packages/ipykernel/kernelbase.py\u001b[0m in \u001b[0;36m_input_request\u001b[0;34m(self, prompt, ident, parent, password)\u001b[0m\n\u001b[1;32m    902\u001b[0m             \u001b[0;32mexcept\u001b[0m \u001b[0mKeyboardInterrupt\u001b[0m\u001b[0;34m:\u001b[0m\u001b[0;34m\u001b[0m\u001b[0;34m\u001b[0m\u001b[0m\n\u001b[1;32m    903\u001b[0m                 \u001b[0;31m# re-raise KeyboardInterrupt, to truncate traceback\u001b[0m\u001b[0;34m\u001b[0m\u001b[0;34m\u001b[0m\u001b[0;34m\u001b[0m\u001b[0m\n\u001b[0;32m--> 904\u001b[0;31m                 \u001b[0;32mraise\u001b[0m \u001b[0mKeyboardInterrupt\u001b[0m\u001b[0;34m(\u001b[0m\u001b[0;34m\"Interrupted by user\"\u001b[0m\u001b[0;34m)\u001b[0m \u001b[0;32mfrom\u001b[0m \u001b[0;32mNone\u001b[0m\u001b[0;34m\u001b[0m\u001b[0;34m\u001b[0m\u001b[0m\n\u001b[0m\u001b[1;32m    905\u001b[0m             \u001b[0;32mexcept\u001b[0m \u001b[0mException\u001b[0m \u001b[0;32mas\u001b[0m \u001b[0me\u001b[0m\u001b[0;34m:\u001b[0m\u001b[0;34m\u001b[0m\u001b[0;34m\u001b[0m\u001b[0m\n\u001b[1;32m    906\u001b[0m                 \u001b[0mself\u001b[0m\u001b[0;34m.\u001b[0m\u001b[0mlog\u001b[0m\u001b[0;34m.\u001b[0m\u001b[0mwarning\u001b[0m\u001b[0;34m(\u001b[0m\u001b[0;34m\"Invalid Message:\"\u001b[0m\u001b[0;34m,\u001b[0m \u001b[0mexc_info\u001b[0m\u001b[0;34m=\u001b[0m\u001b[0;32mTrue\u001b[0m\u001b[0;34m)\u001b[0m\u001b[0;34m\u001b[0m\u001b[0;34m\u001b[0m\u001b[0m\n",
            "\u001b[0;31mKeyboardInterrupt\u001b[0m: Interrupted by user"
          ]
        }
      ]
    },
    {
      "cell_type": "code",
      "source": [
        "a='nfskdhkshfk sdjlldsflksj dklf jsl fjlsd jfkl sjdl jskd jfls djkfl jsdl fjlkjksd jfl jsdkf jsdj flksd jkjdslkf jskdlj flksdjfksdjlfj sdkf jlksd jfklsd jlkflkfj sdlkf jksd jfkldsjklf jsdlk fjlsk jlksfd jflkd'"
      ],
      "metadata": {
        "id": "ynJkbfnF3qOH"
      },
      "execution_count": null,
      "outputs": []
    },
    {
      "cell_type": "code",
      "source": [
        "a"
      ],
      "metadata": {
        "colab": {
          "base_uri": "https://localhost:8080/",
          "height": 53
        },
        "id": "9puBH7Od3qQp",
        "outputId": "24a9717e-ef61-40a8-f6d0-35bab64b4830"
      },
      "execution_count": null,
      "outputs": [
        {
          "output_type": "execute_result",
          "data": {
            "text/plain": [
              "'nfskdhkshfk sdjlldsflksj dklf jsl fjlsd jfkl sjdl jskd jfls djkfl jsdl fjlkjksd jfl jsdkf jsdj flksd jkjdslkf jskdlj flksdjfksdjlfj sdkf jlksd jfklsd jlkflkfj sdlkf jksd jfkldsjklf jsdlk fjlsk jlksfd jflkd'"
            ],
            "application/vnd.google.colaboratory.intrinsic+json": {
              "type": "string"
            }
          },
          "metadata": {},
          "execution_count": 88
        }
      ]
    },
    {
      "cell_type": "code",
      "source": [
        "a=1"
      ],
      "metadata": {
        "id": "8-F2_Vba3qTS"
      },
      "execution_count": null,
      "outputs": []
    },
    {
      "cell_type": "code",
      "source": [
        "a"
      ],
      "metadata": {
        "colab": {
          "base_uri": "https://localhost:8080/"
        },
        "id": "0MaM7BBr3qWM",
        "outputId": "e8287c30-337d-4e6f-c05c-a511e397ec88"
      },
      "execution_count": null,
      "outputs": [
        {
          "output_type": "execute_result",
          "data": {
            "text/plain": [
              "1"
            ]
          },
          "metadata": {},
          "execution_count": 90
        }
      ]
    },
    {
      "cell_type": "markdown",
      "source": [
        "**18-11-2022 : Revision Session**"
      ],
      "metadata": {
        "id": "VyUAOsdTAnRB"
      }
    },
    {
      "cell_type": "code",
      "source": [
        "f=open('isit1.txt','x')\n",
        "f.close()"
      ],
      "metadata": {
        "id": "kB-P0nw9Amy8"
      },
      "execution_count": null,
      "outputs": []
    },
    {
      "cell_type": "code",
      "source": [
        "import pandas as pd\n",
        "df=pd.read_excel('/content/file_example_XLS_5000.xls')\n",
        "df['First Name']"
      ],
      "metadata": {
        "colab": {
          "base_uri": "https://localhost:8080/"
        },
        "id": "ySKv-DBAAm1g",
        "outputId": "0b30ea42-870c-4bbe-ea6b-a4021975a79f"
      },
      "execution_count": null,
      "outputs": [
        {
          "output_type": "execute_result",
          "data": {
            "text/plain": [
              "0          Dulce\n",
              "1           Mara\n",
              "2         Philip\n",
              "3       Kathleen\n",
              "4        Nereida\n",
              "          ...   \n",
              "4995        Roma\n",
              "4996      Felisa\n",
              "4997    Demetria\n",
              "4998      Jeromy\n",
              "4999    Rasheeda\n",
              "Name: First Name, Length: 5000, dtype: object"
            ]
          },
          "metadata": {},
          "execution_count": 7
        }
      ]
    },
    {
      "cell_type": "code",
      "source": [
        "pip install --upgrade xlrd"
      ],
      "metadata": {
        "colab": {
          "base_uri": "https://localhost:8080/",
          "height": 302
        },
        "id": "DE5SZTnVAm3_",
        "outputId": "4448fdab-690e-4ea4-d922-a1080dbb9ef2"
      },
      "execution_count": null,
      "outputs": [
        {
          "output_type": "stream",
          "name": "stdout",
          "text": [
            "Looking in indexes: https://pypi.org/simple, https://us-python.pkg.dev/colab-wheels/public/simple/\n",
            "Requirement already satisfied: xlrd in /usr/local/lib/python3.7/dist-packages (1.1.0)\n",
            "Collecting xlrd\n",
            "  Downloading xlrd-2.0.1-py2.py3-none-any.whl (96 kB)\n",
            "\u001b[K     |████████████████████████████████| 96 kB 3.0 MB/s \n",
            "\u001b[?25hInstalling collected packages: xlrd\n",
            "  Attempting uninstall: xlrd\n",
            "    Found existing installation: xlrd 1.1.0\n",
            "    Uninstalling xlrd-1.1.0:\n",
            "      Successfully uninstalled xlrd-1.1.0\n",
            "Successfully installed xlrd-2.0.1\n"
          ]
        },
        {
          "output_type": "display_data",
          "data": {
            "application/vnd.colab-display-data+json": {
              "pip_warning": {
                "packages": [
                  "xlrd"
                ]
              }
            }
          },
          "metadata": {}
        }
      ]
    },
    {
      "cell_type": "code",
      "source": [
        "z=50\n",
        "\n",
        "def sum(x,y):\n",
        "  global z\n",
        "  return x+y+z\n",
        "z=5\n",
        "print(z)\n",
        "sum(5,10)"
      ],
      "metadata": {
        "colab": {
          "base_uri": "https://localhost:8080/"
        },
        "id": "x0iX2vepAm6Y",
        "outputId": "3655392f-6af8-4996-fad4-903763e54c3b"
      },
      "execution_count": null,
      "outputs": [
        {
          "output_type": "stream",
          "name": "stdout",
          "text": [
            "5\n"
          ]
        },
        {
          "output_type": "execute_result",
          "data": {
            "text/plain": [
              "20"
            ]
          },
          "metadata": {},
          "execution_count": 25
        }
      ]
    },
    {
      "cell_type": "code",
      "source": [
        "a=1\n",
        "b=1\n",
        "print(id(a),id(b))"
      ],
      "metadata": {
        "colab": {
          "base_uri": "https://localhost:8080/"
        },
        "id": "6y7GNHwjN37w",
        "outputId": "d3c7311a-c61b-4c27-f4fe-827485724966"
      },
      "execution_count": null,
      "outputs": [
        {
          "output_type": "stream",
          "name": "stdout",
          "text": [
            "11126688 11126688\n"
          ]
        }
      ]
    }
  ]
}